{
  "cells": [
    {
      "cell_type": "markdown",
      "metadata": {
        "id": "view-in-github",
        "colab_type": "text"
      },
      "source": [
        "<a href=\"https://colab.research.google.com/github/FANG87003/2025_ML_hws/blob/main/hw4-3.ipynb\" target=\"_parent\"><img src=\"https://colab.research.google.com/assets/colab-badge.svg\" alt=\"Open In Colab\"/></a>"
      ]
    },
    {
      "cell_type": "markdown",
      "metadata": {
        "id": "_CtmUpqz9Xdt"
      },
      "source": [
        "# 113-2 深度學習 作業 4-3"
      ]
    },
    {
      "cell_type": "markdown",
      "metadata": {
        "id": "uIF78ELHhxmy"
      },
      "source": [
        "## 載入套件"
      ]
    },
    {
      "cell_type": "code",
      "execution_count": 1,
      "metadata": {
        "id": "6LLCHLKmSaV2"
      },
      "outputs": [],
      "source": [
        "import numpy as np\n",
        "import matplotlib.pyplot as plt"
      ]
    },
    {
      "cell_type": "code",
      "execution_count": 2,
      "metadata": {
        "id": "lgjv0af5S4jt"
      },
      "outputs": [],
      "source": [
        "import tensorflow as tf\n",
        "from tensorflow.keras.datasets import cifar10\n",
        "from tensorflow.keras.models import Sequential\n",
        "from tensorflow.keras.layers import Dense, Flatten, Dropout\n",
        "from tensorflow.keras.layers import Conv2D, MaxPooling2D\n",
        "from tensorflow.keras.utils import to_categorical\n",
        "from ipywidgets import interact_manual"
      ]
    },
    {
      "cell_type": "markdown",
      "metadata": {
        "id": "FCI7xSSjDXpF"
      },
      "source": [
        "## 顯示中文"
      ]
    },
    {
      "cell_type": "code",
      "execution_count": 3,
      "metadata": {
        "id": "WfGNweDiDCaw"
      },
      "outputs": [],
      "source": [
        "# 下載思源黑體字型（支援中文）\n",
        "!wget -qO /usr/share/fonts/truetype/NotoSansCJKtc-Regular.otf https://github.com/googlefonts/noto-cjk/raw/main/Sans/OTF/TraditionalChinese/NotoSansCJKtc-Regular.otf\n",
        "\n",
        "# 重新載入字型\n",
        "import matplotlib.font_manager as fm\n",
        "fm.fontManager.addfont('/usr/share/fonts/truetype/NotoSansCJKtc-Regular.otf')\n",
        "plt.rcParams['font.family'] = 'Noto Sans CJK TC'"
      ]
    },
    {
      "cell_type": "markdown",
      "metadata": {
        "id": "07IlyHwJ9cof"
      },
      "source": [
        "## 一、資料預處理"
      ]
    },
    {
      "cell_type": "code",
      "execution_count": 4,
      "metadata": {
        "id": "p2VsUjKbTYaC",
        "colab": {
          "base_uri": "https://localhost:8080/"
        },
        "outputId": "b49d7795-e09f-4b89-cdf3-32870af9b655"
      },
      "outputs": [
        {
          "output_type": "stream",
          "name": "stdout",
          "text": [
            "Downloading data from https://www.cs.toronto.edu/~kriz/cifar-10-python.tar.gz\n",
            "\u001b[1m170498071/170498071\u001b[0m \u001b[32m━━━━━━━━━━━━━━━━━━━━\u001b[0m\u001b[37m\u001b[0m \u001b[1m3s\u001b[0m 0us/step\n"
          ]
        }
      ],
      "source": [
        "# 下載 CIFAR-10 數據集\n",
        "(x_train, y_train), (x_test, y_test) = cifar10.load_data()"
      ]
    },
    {
      "cell_type": "code",
      "execution_count": 5,
      "metadata": {
        "colab": {
          "base_uri": "https://localhost:8080/"
        },
        "id": "scMAD2z0TnTC",
        "outputId": "fa4090a5-8a67-4718-9b99-210cd7aa40c6"
      },
      "outputs": [
        {
          "output_type": "stream",
          "name": "stdout",
          "text": [
            "x_train shape: (50000, 32, 32, 3)\n",
            "y_train shape: (50000, 1)\n",
            "x_test shape: (10000, 32, 32, 3)\n",
            "y_test shape: (10000, 1)\n"
          ]
        }
      ],
      "source": [
        "# 顯示資料形狀\n",
        "print(\"x_train shape:\", x_train.shape)\n",
        "print(\"y_train shape:\", y_train.shape)\n",
        "print(\"x_test shape:\", x_test.shape)\n",
        "print(\"y_test shape:\", y_test.shape)"
      ]
    },
    {
      "cell_type": "markdown",
      "metadata": {
        "id": "KGcJXlvRjKRj"
      },
      "source": [
        "### 資料常模化 (normalization)"
      ]
    },
    {
      "cell_type": "code",
      "execution_count": 6,
      "metadata": {
        "id": "sJPd7efNU5pY"
      },
      "outputs": [],
      "source": [
        "x_train = x_train / 255\n",
        "x_test = x_test / 255"
      ]
    },
    {
      "cell_type": "markdown",
      "metadata": {
        "id": "AHPdTMd8jQeA"
      },
      "source": [
        "### One-hot encoding"
      ]
    },
    {
      "cell_type": "code",
      "execution_count": 7,
      "metadata": {
        "id": "hRd9GxGIVpcj"
      },
      "outputs": [],
      "source": [
        "y_train_oh = to_categorical(y_train, 10)\n",
        "y_test_oh = to_categorical(y_test, 10)"
      ]
    },
    {
      "cell_type": "markdown",
      "metadata": {
        "id": "iYJN7p-zjWs8"
      },
      "source": [
        "### 顯示三張訓練圖片與真實標籤"
      ]
    },
    {
      "cell_type": "code",
      "execution_count": 8,
      "metadata": {
        "colab": {
          "base_uri": "https://localhost:8080/",
          "height": 230
        },
        "id": "JuD3ul8pem_c",
        "outputId": "8e2ad286-2bc7-4afe-bcac-f26e5a13cac2"
      },
      "outputs": [
        {
          "output_type": "display_data",
          "data": {
            "text/plain": [
              "<Figure size 1000x400 with 3 Axes>"
            ],
            "image/png": "[encoded data removed]"
          },
          "metadata": {}
        }
      ],
      "source": [
        "class_name = ['飛機', '汽車', '鳥', '貓', '鹿', '狗', '青蛙', '馬', '船', '卡車']\n",
        "\n",
        "plt.figure(figsize=(10,4))\n",
        "for i in range(3):\n",
        "    plt.subplot(1, 3, i+1)\n",
        "    plt.imshow(x_train[i])\n",
        "    plt.title(f\"True Label: {class_name[y_train[i].item()]}\")\n",
        "    plt.axis('off')\n",
        "plt.show()"
      ]
    },
    {
      "cell_type": "markdown",
      "metadata": {
        "id": "AFgHr-j19uXY"
      },
      "source": [
        "## 二、建立神經網路模型"
      ]
    },
    {
      "cell_type": "code",
      "source": [
        "model = Sequential()"
      ],
      "metadata": {
        "id": "SjCkovOTMam1"
      },
      "execution_count": 9,
      "outputs": []
    },
    {
      "cell_type": "markdown",
      "metadata": {
        "id": "n7Zq06hWjvU5"
      },
      "source": [
        "### 第01層：卷積層 (32 個 Filter，大小為 3x3)\n",
        "* 圖片尺寸為\t32x32\n",
        "* 彩色圖片\t3 通道（RGB）\n",
        "* (32, 32, 32)\n",
        "* 卷積層參數 = (Filter高 × Filter寬 × 前層輸入通道數 + 偏值) × 本層通道數\n",
        "\n",
        "\n",
        "\n"
      ]
    },
    {
      "cell_type": "code",
      "execution_count": 10,
      "metadata": {
        "id": "k1seVNDaQ7vU",
        "colab": {
          "base_uri": "https://localhost:8080/"
        },
        "outputId": "096f9b49-ab1f-487c-8700-f280f2224ccd"
      },
      "outputs": [
        {
          "output_type": "stream",
          "name": "stderr",
          "text": [
            "/usr/local/lib/python3.11/dist-packages/keras/src/layers/convolutional/base_conv.py:107: UserWarning: Do not pass an `input_shape`/`input_dim` argument to a layer. When using Sequential models, prefer using an `Input(shape)` object as the first layer in the model instead.\n",
            "  super().__init__(activity_regularizer=activity_regularizer, **kwargs)\n"
          ]
        }
      ],
      "source": [
        "model.add(Conv2D(32, (3,3), padding='same',\n",
        "        input_shape=(32,32,3),\n",
        "        activation='relu'))  # (3x3x3+1)x32 = 896"
      ]
    },
    {
      "cell_type": "markdown",
      "source": [
        "### 第02層：Dropout 0.3"
      ],
      "metadata": {
        "id": "g-ZXsO9mHNtv"
      }
    },
    {
      "cell_type": "code",
      "source": [
        "model.add(Dropout(0.3))"
      ],
      "metadata": {
        "id": "GRGB0GxiHcrX"
      },
      "execution_count": 11,
      "outputs": []
    },
    {
      "cell_type": "markdown",
      "metadata": {
        "id": "N1r5FG_Lj0SX"
      },
      "source": [
        "### 第03層：卷積層 (32 個 Filter，大小為 3x3)\n",
        "* 圖片尺寸為\t32x32\n",
        "* (32, 32, 32)\n",
        "* 前一層輸出 32 個通道\n",
        "* 本層 32 通道"
      ]
    },
    {
      "cell_type": "code",
      "execution_count": 12,
      "metadata": {
        "id": "vw2kto9pWdUO"
      },
      "outputs": [],
      "source": [
        "model.add(Conv2D(32, (3,3), padding='same',\n",
        "        activation='relu',))  # (3x3x32+1)x32 = 9248"
      ]
    },
    {
      "cell_type": "markdown",
      "source": [
        "### 第04層：池化層\n",
        "* (32, 32, 32) → (16, 16, 32)\n",
        "* 保留前一層 32 個通道"
      ],
      "metadata": {
        "id": "IsrrLlFzHdDf"
      }
    },
    {
      "cell_type": "code",
      "source": [
        "model.add(MaxPooling2D(pool_size=(2,2)))"
      ],
      "metadata": {
        "id": "YLeXf_l7IOw3"
      },
      "execution_count": 13,
      "outputs": []
    },
    {
      "cell_type": "markdown",
      "source": [
        "### 第05層：卷積層 (64 個 Filter，大小為 3x3)\n",
        "* 圖片尺寸為\t16x16\n",
        "* (16, 16, 64)\n",
        "* 前一層輸出 32 個通道\n",
        "* 本層 64 通道"
      ],
      "metadata": {
        "id": "AqU24pPXNGfG"
      }
    },
    {
      "cell_type": "code",
      "source": [
        "model.add(Conv2D(64, (3,3), padding='same',\n",
        "        activation='relu',))  # (3x3x32+1)x64 = 18496"
      ],
      "metadata": {
        "id": "AtHW2u4PNINR"
      },
      "execution_count": 14,
      "outputs": []
    },
    {
      "cell_type": "markdown",
      "source": [
        "### 第06層：Dropout 0.3"
      ],
      "metadata": {
        "id": "d6wljHJrJzmx"
      }
    },
    {
      "cell_type": "code",
      "source": [
        "model.add(Dropout(0.3))"
      ],
      "metadata": {
        "id": "sLGcjiUSJ5KB"
      },
      "execution_count": 15,
      "outputs": []
    },
    {
      "cell_type": "markdown",
      "source": [
        "### 第07層：卷積層 (64 個 Filter，大小為 3x3)\n",
        "* 圖片尺寸為\t16x16\n",
        "* (16, 16, 64)\n",
        "* 前一層輸出 64 個通道\n",
        "* 本層 64 通道"
      ],
      "metadata": {
        "id": "OQx-FZ5eNXao"
      }
    },
    {
      "cell_type": "code",
      "source": [
        "model.add(Conv2D(64, (3,3), padding='same',\n",
        "        activation='relu',))  # (3x3x64+1)x64 = 36928"
      ],
      "metadata": {
        "id": "dtKCL9vrNeKt"
      },
      "execution_count": 16,
      "outputs": []
    },
    {
      "cell_type": "markdown",
      "source": [
        "### 第08層：池化層\n",
        "* (16, 16, 64) → (8, 8, 64)\n",
        "* 保留前一層 64 個通道"
      ],
      "metadata": {
        "id": "rKy_DaofJ4MH"
      }
    },
    {
      "cell_type": "code",
      "execution_count": 17,
      "metadata": {
        "id": "BrFqo9n2YoJ9"
      },
      "outputs": [],
      "source": [
        "model.add(MaxPooling2D(pool_size=(2,2)))"
      ]
    },
    {
      "cell_type": "markdown",
      "source": [
        "### 第09層：卷積層 (128 個 Filter，大小為 3x3)\n",
        "* 圖片尺寸為\t8x8\n",
        "* (8, 8, 128)\n",
        "* 前一層輸出 64 個通道\n",
        "* 本層 128 通道"
      ],
      "metadata": {
        "id": "XdmzbZs_N8em"
      }
    },
    {
      "cell_type": "code",
      "source": [
        "model.add(Conv2D(128, (3,3), padding='same',\n",
        "        activation='relu',))  # (3x3x64+1)x128 = 73856"
      ],
      "metadata": {
        "id": "eHHCZCoTOBeP"
      },
      "execution_count": 18,
      "outputs": []
    },
    {
      "cell_type": "markdown",
      "source": [
        "### 第10層：Dropout 0.3"
      ],
      "metadata": {
        "id": "PeFeMP5YOGPA"
      }
    },
    {
      "cell_type": "code",
      "source": [
        "model.add(Dropout(0.3))"
      ],
      "metadata": {
        "id": "xZhfK_03OJPe"
      },
      "execution_count": 19,
      "outputs": []
    },
    {
      "cell_type": "markdown",
      "source": [
        "### 第11層：卷積層 (128 個 Filter，大小為 3x3)\n",
        "* 圖片尺寸為\t8x8\n",
        "* (8, 8, 128)\n",
        "* 前一層輸出 128 個通道\n",
        "* 本層 128 通道"
      ],
      "metadata": {
        "id": "u3D71c4pOMoQ"
      }
    },
    {
      "cell_type": "code",
      "source": [
        "model.add(Conv2D(128, (3,3), padding='same',\n",
        "        activation='relu',))  # (3x3x128+1)x128 = 147584"
      ],
      "metadata": {
        "id": "JKGbVZJNOPk0"
      },
      "execution_count": 20,
      "outputs": []
    },
    {
      "cell_type": "markdown",
      "source": [
        "### 第12層：池化層\n",
        "* (8, 8, 128) → (4, 4, 128)\n",
        "* 保留前一層 128 個通道"
      ],
      "metadata": {
        "id": "8VmHSC91OTRG"
      }
    },
    {
      "cell_type": "code",
      "source": [
        "model.add(MaxPooling2D(pool_size=(2,2)))"
      ],
      "metadata": {
        "id": "KqKmiUOtOPba"
      },
      "execution_count": 21,
      "outputs": []
    },
    {
      "cell_type": "markdown",
      "metadata": {
        "id": "NVGGdo4nFEsw"
      },
      "source": [
        "### 第13層：拉平層\n",
        "* (4, 4, 128) → 2048"
      ]
    },
    {
      "cell_type": "code",
      "execution_count": 22,
      "metadata": {
        "id": "3iWS4vNCF1bD"
      },
      "outputs": [],
      "source": [
        "model.add(Flatten())"
      ]
    },
    {
      "cell_type": "markdown",
      "source": [
        "### 第14層：Dropout 0.3"
      ],
      "metadata": {
        "id": "sjf4Q--GKSTH"
      }
    },
    {
      "cell_type": "code",
      "source": [
        "model.add(Dropout(0.3))"
      ],
      "metadata": {
        "id": "cKgjh9sJKUom"
      },
      "execution_count": 23,
      "outputs": []
    },
    {
      "cell_type": "markdown",
      "metadata": {
        "id": "55TA8WzSF4HS"
      },
      "source": [
        "### 第15層：全連接層 (2500 個神經元)\n",
        "* 2500 個神經元對應 CIFAR-10 的 10 類別\n",
        "* 每個神經元連接前一層的 2048 個輸入，共有 5120000 個權重 + 2500 個偏值 = 5122500 個參數。"
      ]
    },
    {
      "cell_type": "code",
      "execution_count": 24,
      "metadata": {
        "id": "3ETu0-ogYyV9"
      },
      "outputs": [],
      "source": [
        "model.add(Dense(2500, activation='relu')) # 2048x2500+2500 = 5122500"
      ]
    },
    {
      "cell_type": "markdown",
      "source": [
        "### 第16層：Dropout 0.3"
      ],
      "metadata": {
        "id": "FQQp1LkNKriN"
      }
    },
    {
      "cell_type": "code",
      "source": [
        "model.add(Dropout(0.3))"
      ],
      "metadata": {
        "id": "nfg5DsblKxp7"
      },
      "execution_count": 25,
      "outputs": []
    },
    {
      "cell_type": "markdown",
      "source": [
        "### 第17層：全連接層 (1500 個神經元)\n",
        "* 前一層的 2500 個通道 x 本層 1500 個通道 + 1500 個偏值 = 3751500 個參數。"
      ],
      "metadata": {
        "id": "wOuGJnWiO0HH"
      }
    },
    {
      "cell_type": "code",
      "source": [
        "model.add(Dense(1500, activation='relu')) # 2500x1500+1500 = 3751500"
      ],
      "metadata": {
        "id": "f4cHKqRlO2-h"
      },
      "execution_count": 26,
      "outputs": []
    },
    {
      "cell_type": "markdown",
      "source": [
        "### 第18層：Dropout 0.3"
      ],
      "metadata": {
        "id": "be-UzoabO-lS"
      }
    },
    {
      "cell_type": "code",
      "source": [
        "model.add(Dropout(0.3))"
      ],
      "metadata": {
        "id": "i-J-7nB8O78f"
      },
      "execution_count": 27,
      "outputs": []
    },
    {
      "cell_type": "markdown",
      "source": [
        "### 第19層：全連接層 (10 個神經元)"
      ],
      "metadata": {
        "id": "I6Wt2u3_K1Jn"
      }
    },
    {
      "cell_type": "code",
      "source": [
        "model.add(Dense(10, activation='softmax')) # 1500x10+10 = 15010"
      ],
      "metadata": {
        "id": "NcvtImdVK4mB"
      },
      "execution_count": 28,
      "outputs": []
    },
    {
      "cell_type": "code",
      "execution_count": 29,
      "metadata": {
        "colab": {
          "base_uri": "https://localhost:8080/",
          "height": 737
        },
        "id": "Azq2JTTDW62I",
        "outputId": "638ff48f-9396-4f95-ab84-593c2af368b2"
      },
      "outputs": [
        {
          "output_type": "display_data",
          "data": {
            "text/plain": [
              "\u001b[1mModel: \"sequential\"\u001b[0m\n"
            ],
            "text/html": [
              "<pre style=\"white-space:pre;overflow-x:auto;line-height:normal;font-family:Menlo,'DejaVu Sans Mono',consolas,'Courier New',monospace\"><span style=\"font-weight: bold\">Model: \"sequential\"</span>\n",
              "</pre>\n"
            ]
          },
          "metadata": {}
        },
        {
          "output_type": "display_data",
          "data": {
            "text/plain": [
              "┏━━━━━━━━━━━━━━━━━━━━━━━━━━━━━━━━━┳━━━━━━━━━━━━━━━━━━━━━━━━┳━━━━━━━━━━━━━━━┓\n",
              "┃\u001b[1m \u001b[0m\u001b[1mLayer (type)                   \u001b[0m\u001b[1m \u001b[0m┃\u001b[1m \u001b[0m\u001b[1mOutput Shape          \u001b[0m\u001b[1m \u001b[0m┃\u001b[1m \u001b[0m\u001b[1m      Param #\u001b[0m\u001b[1m \u001b[0m┃\n",
              "┡━━━━━━━━━━━━━━━━━━━━━━━━━━━━━━━━━╇━━━━━━━━━━━━━━━━━━━━━━━━╇━━━━━━━━━━━━━━━┩\n",
              "│ conv2d (\u001b[38;5;33mConv2D\u001b[0m)                 │ (\u001b[38;5;45mNone\u001b[0m, \u001b[38;5;34m32\u001b[0m, \u001b[38;5;34m32\u001b[0m, \u001b[38;5;34m32\u001b[0m)     │           \u001b[38;5;34m896\u001b[0m │\n",
              "├─────────────────────────────────┼────────────────────────┼───────────────┤\n",
              "│ dropout (\u001b[38;5;33mDropout\u001b[0m)               │ (\u001b[38;5;45mNone\u001b[0m, \u001b[38;5;34m32\u001b[0m, \u001b[38;5;34m32\u001b[0m, \u001b[38;5;34m32\u001b[0m)     │             \u001b[38;5;34m0\u001b[0m │\n",
              "├─────────────────────────────────┼────────────────────────┼───────────────┤\n",
              "│ conv2d_1 (\u001b[38;5;33mConv2D\u001b[0m)               │ (\u001b[38;5;45mNone\u001b[0m, \u001b[38;5;34m32\u001b[0m, \u001b[38;5;34m32\u001b[0m, \u001b[38;5;34m32\u001b[0m)     │         \u001b[38;5;34m9,248\u001b[0m │\n",
              "├─────────────────────────────────┼────────────────────────┼───────────────┤\n",
              "│ max_pooling2d (\u001b[38;5;33mMaxPooling2D\u001b[0m)    │ (\u001b[38;5;45mNone\u001b[0m, \u001b[38;5;34m16\u001b[0m, \u001b[38;5;34m16\u001b[0m, \u001b[38;5;34m32\u001b[0m)     │             \u001b[38;5;34m0\u001b[0m │\n",
              "├─────────────────────────────────┼────────────────────────┼───────────────┤\n",
              "│ conv2d_2 (\u001b[38;5;33mConv2D\u001b[0m)               │ (\u001b[38;5;45mNone\u001b[0m, \u001b[38;5;34m16\u001b[0m, \u001b[38;5;34m16\u001b[0m, \u001b[38;5;34m64\u001b[0m)     │        \u001b[38;5;34m18,496\u001b[0m │\n",
              "├─────────────────────────────────┼────────────────────────┼───────────────┤\n",
              "│ dropout_1 (\u001b[38;5;33mDropout\u001b[0m)             │ (\u001b[38;5;45mNone\u001b[0m, \u001b[38;5;34m16\u001b[0m, \u001b[38;5;34m16\u001b[0m, \u001b[38;5;34m64\u001b[0m)     │             \u001b[38;5;34m0\u001b[0m │\n",
              "├─────────────────────────────────┼────────────────────────┼───────────────┤\n",
              "│ conv2d_3 (\u001b[38;5;33mConv2D\u001b[0m)               │ (\u001b[38;5;45mNone\u001b[0m, \u001b[38;5;34m16\u001b[0m, \u001b[38;5;34m16\u001b[0m, \u001b[38;5;34m64\u001b[0m)     │        \u001b[38;5;34m36,928\u001b[0m │\n",
              "├─────────────────────────────────┼────────────────────────┼───────────────┤\n",
              "│ max_pooling2d_1 (\u001b[38;5;33mMaxPooling2D\u001b[0m)  │ (\u001b[38;5;45mNone\u001b[0m, \u001b[38;5;34m8\u001b[0m, \u001b[38;5;34m8\u001b[0m, \u001b[38;5;34m64\u001b[0m)       │             \u001b[38;5;34m0\u001b[0m │\n",
              "├─────────────────────────────────┼────────────────────────┼───────────────┤\n",
              "│ conv2d_4 (\u001b[38;5;33mConv2D\u001b[0m)               │ (\u001b[38;5;45mNone\u001b[0m, \u001b[38;5;34m8\u001b[0m, \u001b[38;5;34m8\u001b[0m, \u001b[38;5;34m128\u001b[0m)      │        \u001b[38;5;34m73,856\u001b[0m │\n",
              "├─────────────────────────────────┼────────────────────────┼───────────────┤\n",
              "│ dropout_2 (\u001b[38;5;33mDropout\u001b[0m)             │ (\u001b[38;5;45mNone\u001b[0m, \u001b[38;5;34m8\u001b[0m, \u001b[38;5;34m8\u001b[0m, \u001b[38;5;34m128\u001b[0m)      │             \u001b[38;5;34m0\u001b[0m │\n",
              "├─────────────────────────────────┼────────────────────────┼───────────────┤\n",
              "│ conv2d_5 (\u001b[38;5;33mConv2D\u001b[0m)               │ (\u001b[38;5;45mNone\u001b[0m, \u001b[38;5;34m8\u001b[0m, \u001b[38;5;34m8\u001b[0m, \u001b[38;5;34m128\u001b[0m)      │       \u001b[38;5;34m147,584\u001b[0m │\n",
              "├─────────────────────────────────┼────────────────────────┼───────────────┤\n",
              "│ max_pooling2d_2 (\u001b[38;5;33mMaxPooling2D\u001b[0m)  │ (\u001b[38;5;45mNone\u001b[0m, \u001b[38;5;34m4\u001b[0m, \u001b[38;5;34m4\u001b[0m, \u001b[38;5;34m128\u001b[0m)      │             \u001b[38;5;34m0\u001b[0m │\n",
              "├─────────────────────────────────┼────────────────────────┼───────────────┤\n",
              "│ flatten (\u001b[38;5;33mFlatten\u001b[0m)               │ (\u001b[38;5;45mNone\u001b[0m, \u001b[38;5;34m2048\u001b[0m)           │             \u001b[38;5;34m0\u001b[0m │\n",
              "├─────────────────────────────────┼────────────────────────┼───────────────┤\n",
              "│ dropout_3 (\u001b[38;5;33mDropout\u001b[0m)             │ (\u001b[38;5;45mNone\u001b[0m, \u001b[38;5;34m2048\u001b[0m)           │             \u001b[38;5;34m0\u001b[0m │\n",
              "├─────────────────────────────────┼────────────────────────┼───────────────┤\n",
              "│ dense (\u001b[38;5;33mDense\u001b[0m)                   │ (\u001b[38;5;45mNone\u001b[0m, \u001b[38;5;34m2500\u001b[0m)           │     \u001b[38;5;34m5,122,500\u001b[0m │\n",
              "├─────────────────────────────────┼────────────────────────┼───────────────┤\n",
              "│ dropout_4 (\u001b[38;5;33mDropout\u001b[0m)             │ (\u001b[38;5;45mNone\u001b[0m, \u001b[38;5;34m2500\u001b[0m)           │             \u001b[38;5;34m0\u001b[0m │\n",
              "├─────────────────────────────────┼────────────────────────┼───────────────┤\n",
              "│ dense_1 (\u001b[38;5;33mDense\u001b[0m)                 │ (\u001b[38;5;45mNone\u001b[0m, \u001b[38;5;34m1500\u001b[0m)           │     \u001b[38;5;34m3,751,500\u001b[0m │\n",
              "├─────────────────────────────────┼────────────────────────┼───────────────┤\n",
              "│ dropout_5 (\u001b[38;5;33mDropout\u001b[0m)             │ (\u001b[38;5;45mNone\u001b[0m, \u001b[38;5;34m1500\u001b[0m)           │             \u001b[38;5;34m0\u001b[0m │\n",
              "├─────────────────────────────────┼────────────────────────┼───────────────┤\n",
              "│ dense_2 (\u001b[38;5;33mDense\u001b[0m)                 │ (\u001b[38;5;45mNone\u001b[0m, \u001b[38;5;34m10\u001b[0m)             │        \u001b[38;5;34m15,010\u001b[0m │\n",
              "└─────────────────────────────────┴────────────────────────┴───────────────┘\n"
            ],
            "text/html": [
              "<pre style=\"white-space:pre;overflow-x:auto;line-height:normal;font-family:Menlo,'DejaVu Sans Mono',consolas,'Courier New',monospace\">┏━━━━━━━━━━━━━━━━━━━━━━━━━━━━━━━━━┳━━━━━━━━━━━━━━━━━━━━━━━━┳━━━━━━━━━━━━━━━┓\n",
              "┃<span style=\"font-weight: bold\"> Layer (type)                    </span>┃<span style=\"font-weight: bold\"> Output Shape           </span>┃<span style=\"font-weight: bold\">       Param # </span>┃\n",
              "┡━━━━━━━━━━━━━━━━━━━━━━━━━━━━━━━━━╇━━━━━━━━━━━━━━━━━━━━━━━━╇━━━━━━━━━━━━━━━┩\n",
              "│ conv2d (<span style=\"color: #0087ff; text-decoration-color: #0087ff\">Conv2D</span>)                 │ (<span style=\"color: #00d7ff; text-decoration-color: #00d7ff\">None</span>, <span style=\"color: #00af00; text-decoration-color: #00af00\">32</span>, <span style=\"color: #00af00; text-decoration-color: #00af00\">32</span>, <span style=\"color: #00af00; text-decoration-color: #00af00\">32</span>)     │           <span style=\"color: #00af00; text-decoration-color: #00af00\">896</span> │\n",
              "├─────────────────────────────────┼────────────────────────┼───────────────┤\n",
              "│ dropout (<span style=\"color: #0087ff; text-decoration-color: #0087ff\">Dropout</span>)               │ (<span style=\"color: #00d7ff; text-decoration-color: #00d7ff\">None</span>, <span style=\"color: #00af00; text-decoration-color: #00af00\">32</span>, <span style=\"color: #00af00; text-decoration-color: #00af00\">32</span>, <span style=\"color: #00af00; text-decoration-color: #00af00\">32</span>)     │             <span style=\"color: #00af00; text-decoration-color: #00af00\">0</span> │\n",
              "├─────────────────────────────────┼────────────────────────┼───────────────┤\n",
              "│ conv2d_1 (<span style=\"color: #0087ff; text-decoration-color: #0087ff\">Conv2D</span>)               │ (<span style=\"color: #00d7ff; text-decoration-color: #00d7ff\">None</span>, <span style=\"color: #00af00; text-decoration-color: #00af00\">32</span>, <span style=\"color: #00af00; text-decoration-color: #00af00\">32</span>, <span style=\"color: #00af00; text-decoration-color: #00af00\">32</span>)     │         <span style=\"color: #00af00; text-decoration-color: #00af00\">9,248</span> │\n",
              "├─────────────────────────────────┼────────────────────────┼───────────────┤\n",
              "│ max_pooling2d (<span style=\"color: #0087ff; text-decoration-color: #0087ff\">MaxPooling2D</span>)    │ (<span style=\"color: #00d7ff; text-decoration-color: #00d7ff\">None</span>, <span style=\"color: #00af00; text-decoration-color: #00af00\">16</span>, <span style=\"color: #00af00; text-decoration-color: #00af00\">16</span>, <span style=\"color: #00af00; text-decoration-color: #00af00\">32</span>)     │             <span style=\"color: #00af00; text-decoration-color: #00af00\">0</span> │\n",
              "├─────────────────────────────────┼────────────────────────┼───────────────┤\n",
              "│ conv2d_2 (<span style=\"color: #0087ff; text-decoration-color: #0087ff\">Conv2D</span>)               │ (<span style=\"color: #00d7ff; text-decoration-color: #00d7ff\">None</span>, <span style=\"color: #00af00; text-decoration-color: #00af00\">16</span>, <span style=\"color: #00af00; text-decoration-color: #00af00\">16</span>, <span style=\"color: #00af00; text-decoration-color: #00af00\">64</span>)     │        <span style=\"color: #00af00; text-decoration-color: #00af00\">18,496</span> │\n",
              "├─────────────────────────────────┼────────────────────────┼───────────────┤\n",
              "│ dropout_1 (<span style=\"color: #0087ff; text-decoration-color: #0087ff\">Dropout</span>)             │ (<span style=\"color: #00d7ff; text-decoration-color: #00d7ff\">None</span>, <span style=\"color: #00af00; text-decoration-color: #00af00\">16</span>, <span style=\"color: #00af00; text-decoration-color: #00af00\">16</span>, <span style=\"color: #00af00; text-decoration-color: #00af00\">64</span>)     │             <span style=\"color: #00af00; text-decoration-color: #00af00\">0</span> │\n",
              "├─────────────────────────────────┼────────────────────────┼───────────────┤\n",
              "│ conv2d_3 (<span style=\"color: #0087ff; text-decoration-color: #0087ff\">Conv2D</span>)               │ (<span style=\"color: #00d7ff; text-decoration-color: #00d7ff\">None</span>, <span style=\"color: #00af00; text-decoration-color: #00af00\">16</span>, <span style=\"color: #00af00; text-decoration-color: #00af00\">16</span>, <span style=\"color: #00af00; text-decoration-color: #00af00\">64</span>)     │        <span style=\"color: #00af00; text-decoration-color: #00af00\">36,928</span> │\n",
              "├─────────────────────────────────┼────────────────────────┼───────────────┤\n",
              "│ max_pooling2d_1 (<span style=\"color: #0087ff; text-decoration-color: #0087ff\">MaxPooling2D</span>)  │ (<span style=\"color: #00d7ff; text-decoration-color: #00d7ff\">None</span>, <span style=\"color: #00af00; text-decoration-color: #00af00\">8</span>, <span style=\"color: #00af00; text-decoration-color: #00af00\">8</span>, <span style=\"color: #00af00; text-decoration-color: #00af00\">64</span>)       │             <span style=\"color: #00af00; text-decoration-color: #00af00\">0</span> │\n",
              "├─────────────────────────────────┼────────────────────────┼───────────────┤\n",
              "│ conv2d_4 (<span style=\"color: #0087ff; text-decoration-color: #0087ff\">Conv2D</span>)               │ (<span style=\"color: #00d7ff; text-decoration-color: #00d7ff\">None</span>, <span style=\"color: #00af00; text-decoration-color: #00af00\">8</span>, <span style=\"color: #00af00; text-decoration-color: #00af00\">8</span>, <span style=\"color: #00af00; text-decoration-color: #00af00\">128</span>)      │        <span style=\"color: #00af00; text-decoration-color: #00af00\">73,856</span> │\n",
              "├─────────────────────────────────┼────────────────────────┼───────────────┤\n",
              "│ dropout_2 (<span style=\"color: #0087ff; text-decoration-color: #0087ff\">Dropout</span>)             │ (<span style=\"color: #00d7ff; text-decoration-color: #00d7ff\">None</span>, <span style=\"color: #00af00; text-decoration-color: #00af00\">8</span>, <span style=\"color: #00af00; text-decoration-color: #00af00\">8</span>, <span style=\"color: #00af00; text-decoration-color: #00af00\">128</span>)      │             <span style=\"color: #00af00; text-decoration-color: #00af00\">0</span> │\n",
              "├─────────────────────────────────┼────────────────────────┼───────────────┤\n",
              "│ conv2d_5 (<span style=\"color: #0087ff; text-decoration-color: #0087ff\">Conv2D</span>)               │ (<span style=\"color: #00d7ff; text-decoration-color: #00d7ff\">None</span>, <span style=\"color: #00af00; text-decoration-color: #00af00\">8</span>, <span style=\"color: #00af00; text-decoration-color: #00af00\">8</span>, <span style=\"color: #00af00; text-decoration-color: #00af00\">128</span>)      │       <span style=\"color: #00af00; text-decoration-color: #00af00\">147,584</span> │\n",
              "├─────────────────────────────────┼────────────────────────┼───────────────┤\n",
              "│ max_pooling2d_2 (<span style=\"color: #0087ff; text-decoration-color: #0087ff\">MaxPooling2D</span>)  │ (<span style=\"color: #00d7ff; text-decoration-color: #00d7ff\">None</span>, <span style=\"color: #00af00; text-decoration-color: #00af00\">4</span>, <span style=\"color: #00af00; text-decoration-color: #00af00\">4</span>, <span style=\"color: #00af00; text-decoration-color: #00af00\">128</span>)      │             <span style=\"color: #00af00; text-decoration-color: #00af00\">0</span> │\n",
              "├─────────────────────────────────┼────────────────────────┼───────────────┤\n",
              "│ flatten (<span style=\"color: #0087ff; text-decoration-color: #0087ff\">Flatten</span>)               │ (<span style=\"color: #00d7ff; text-decoration-color: #00d7ff\">None</span>, <span style=\"color: #00af00; text-decoration-color: #00af00\">2048</span>)           │             <span style=\"color: #00af00; text-decoration-color: #00af00\">0</span> │\n",
              "├─────────────────────────────────┼────────────────────────┼───────────────┤\n",
              "│ dropout_3 (<span style=\"color: #0087ff; text-decoration-color: #0087ff\">Dropout</span>)             │ (<span style=\"color: #00d7ff; text-decoration-color: #00d7ff\">None</span>, <span style=\"color: #00af00; text-decoration-color: #00af00\">2048</span>)           │             <span style=\"color: #00af00; text-decoration-color: #00af00\">0</span> │\n",
              "├─────────────────────────────────┼────────────────────────┼───────────────┤\n",
              "│ dense (<span style=\"color: #0087ff; text-decoration-color: #0087ff\">Dense</span>)                   │ (<span style=\"color: #00d7ff; text-decoration-color: #00d7ff\">None</span>, <span style=\"color: #00af00; text-decoration-color: #00af00\">2500</span>)           │     <span style=\"color: #00af00; text-decoration-color: #00af00\">5,122,500</span> │\n",
              "├─────────────────────────────────┼────────────────────────┼───────────────┤\n",
              "│ dropout_4 (<span style=\"color: #0087ff; text-decoration-color: #0087ff\">Dropout</span>)             │ (<span style=\"color: #00d7ff; text-decoration-color: #00d7ff\">None</span>, <span style=\"color: #00af00; text-decoration-color: #00af00\">2500</span>)           │             <span style=\"color: #00af00; text-decoration-color: #00af00\">0</span> │\n",
              "├─────────────────────────────────┼────────────────────────┼───────────────┤\n",
              "│ dense_1 (<span style=\"color: #0087ff; text-decoration-color: #0087ff\">Dense</span>)                 │ (<span style=\"color: #00d7ff; text-decoration-color: #00d7ff\">None</span>, <span style=\"color: #00af00; text-decoration-color: #00af00\">1500</span>)           │     <span style=\"color: #00af00; text-decoration-color: #00af00\">3,751,500</span> │\n",
              "├─────────────────────────────────┼────────────────────────┼───────────────┤\n",
              "│ dropout_5 (<span style=\"color: #0087ff; text-decoration-color: #0087ff\">Dropout</span>)             │ (<span style=\"color: #00d7ff; text-decoration-color: #00d7ff\">None</span>, <span style=\"color: #00af00; text-decoration-color: #00af00\">1500</span>)           │             <span style=\"color: #00af00; text-decoration-color: #00af00\">0</span> │\n",
              "├─────────────────────────────────┼────────────────────────┼───────────────┤\n",
              "│ dense_2 (<span style=\"color: #0087ff; text-decoration-color: #0087ff\">Dense</span>)                 │ (<span style=\"color: #00d7ff; text-decoration-color: #00d7ff\">None</span>, <span style=\"color: #00af00; text-decoration-color: #00af00\">10</span>)             │        <span style=\"color: #00af00; text-decoration-color: #00af00\">15,010</span> │\n",
              "└─────────────────────────────────┴────────────────────────┴───────────────┘\n",
              "</pre>\n"
            ]
          },
          "metadata": {}
        },
        {
          "output_type": "display_data",
          "data": {
            "text/plain": [
              "\u001b[1m Total params: \u001b[0m\u001b[38;5;34m9,176,018\u001b[0m (35.00 MB)\n"
            ],
            "text/html": [
              "<pre style=\"white-space:pre;overflow-x:auto;line-height:normal;font-family:Menlo,'DejaVu Sans Mono',consolas,'Courier New',monospace\"><span style=\"font-weight: bold\"> Total params: </span><span style=\"color: #00af00; text-decoration-color: #00af00\">9,176,018</span> (35.00 MB)\n",
              "</pre>\n"
            ]
          },
          "metadata": {}
        },
        {
          "output_type": "display_data",
          "data": {
            "text/plain": [
              "\u001b[1m Trainable params: \u001b[0m\u001b[38;5;34m9,176,018\u001b[0m (35.00 MB)\n"
            ],
            "text/html": [
              "<pre style=\"white-space:pre;overflow-x:auto;line-height:normal;font-family:Menlo,'DejaVu Sans Mono',consolas,'Courier New',monospace\"><span style=\"font-weight: bold\"> Trainable params: </span><span style=\"color: #00af00; text-decoration-color: #00af00\">9,176,018</span> (35.00 MB)\n",
              "</pre>\n"
            ]
          },
          "metadata": {}
        },
        {
          "output_type": "display_data",
          "data": {
            "text/plain": [
              "\u001b[1m Non-trainable params: \u001b[0m\u001b[38;5;34m0\u001b[0m (0.00 B)\n"
            ],
            "text/html": [
              "<pre style=\"white-space:pre;overflow-x:auto;line-height:normal;font-family:Menlo,'DejaVu Sans Mono',consolas,'Courier New',monospace\"><span style=\"font-weight: bold\"> Non-trainable params: </span><span style=\"color: #00af00; text-decoration-color: #00af00\">0</span> (0.00 B)\n",
              "</pre>\n"
            ]
          },
          "metadata": {}
        }
      ],
      "source": [
        "model.summary()"
      ]
    },
    {
      "cell_type": "markdown",
      "metadata": {
        "id": "v8U4QfdR9-tG"
      },
      "source": [
        "## 三、訓練神經網路模型"
      ]
    },
    {
      "cell_type": "code",
      "execution_count": 30,
      "metadata": {
        "id": "KSJWGz81a2hL"
      },
      "outputs": [],
      "source": [
        "model.compile(\n",
        "    loss='categorical_crossentropy',\n",
        "    optimizer='adam',\n",
        "    metrics=['accuracy'])"
      ]
    },
    {
      "cell_type": "code",
      "execution_count": 31,
      "metadata": {
        "colab": {
          "base_uri": "https://localhost:8080/"
        },
        "id": "QeEwW6_2-E5d",
        "outputId": "25e8eee7-2c4d-4dc2-c0cc-1db63541d30f"
      },
      "outputs": [
        {
          "output_type": "stream",
          "name": "stdout",
          "text": [
            "Epoch 1/50\n",
            "313/313 - 26s - 82ms/step - accuracy: 0.3106 - loss: 1.8398 - val_accuracy: 0.3917 - val_loss: 1.6989\n",
            "Epoch 2/50\n",
            "313/313 - 23s - 74ms/step - accuracy: 0.4802 - loss: 1.4149 - val_accuracy: 0.5332 - val_loss: 1.2998\n",
            "Epoch 3/50\n",
            "313/313 - 5s - 16ms/step - accuracy: 0.5689 - loss: 1.1980 - val_accuracy: 0.6110 - val_loss: 1.1070\n",
            "Epoch 4/50\n",
            "313/313 - 5s - 16ms/step - accuracy: 0.6227 - loss: 1.0541 - val_accuracy: 0.6646 - val_loss: 0.9343\n",
            "Epoch 5/50\n",
            "313/313 - 5s - 17ms/step - accuracy: 0.6642 - loss: 0.9519 - val_accuracy: 0.6840 - val_loss: 0.8873\n",
            "Epoch 6/50\n",
            "313/313 - 5s - 16ms/step - accuracy: 0.6912 - loss: 0.8786 - val_accuracy: 0.7143 - val_loss: 0.8256\n",
            "Epoch 7/50\n",
            "313/313 - 5s - 17ms/step - accuracy: 0.7159 - loss: 0.7992 - val_accuracy: 0.7295 - val_loss: 0.7746\n",
            "Epoch 8/50\n",
            "313/313 - 5s - 16ms/step - accuracy: 0.7304 - loss: 0.7570 - val_accuracy: 0.7302 - val_loss: 0.7635\n",
            "Epoch 9/50\n",
            "313/313 - 5s - 16ms/step - accuracy: 0.7492 - loss: 0.7141 - val_accuracy: 0.7461 - val_loss: 0.7275\n",
            "Epoch 10/50\n",
            "313/313 - 5s - 16ms/step - accuracy: 0.7628 - loss: 0.6706 - val_accuracy: 0.7578 - val_loss: 0.6899\n",
            "Epoch 11/50\n",
            "313/313 - 5s - 17ms/step - accuracy: 0.7768 - loss: 0.6309 - val_accuracy: 0.7585 - val_loss: 0.6752\n",
            "Epoch 12/50\n",
            "313/313 - 10s - 33ms/step - accuracy: 0.7849 - loss: 0.6091 - val_accuracy: 0.7667 - val_loss: 0.6749\n",
            "Epoch 13/50\n",
            "313/313 - 5s - 16ms/step - accuracy: 0.7954 - loss: 0.5751 - val_accuracy: 0.7683 - val_loss: 0.6648\n",
            "Epoch 14/50\n",
            "313/313 - 5s - 16ms/step - accuracy: 0.8081 - loss: 0.5402 - val_accuracy: 0.7744 - val_loss: 0.6737\n",
            "Epoch 15/50\n",
            "313/313 - 10s - 32ms/step - accuracy: 0.8146 - loss: 0.5204 - val_accuracy: 0.7875 - val_loss: 0.6411\n",
            "Epoch 16/50\n",
            "313/313 - 5s - 16ms/step - accuracy: 0.8230 - loss: 0.4991 - val_accuracy: 0.7700 - val_loss: 0.6776\n",
            "Epoch 17/50\n",
            "313/313 - 5s - 16ms/step - accuracy: 0.8284 - loss: 0.4803 - val_accuracy: 0.7769 - val_loss: 0.6558\n",
            "Epoch 18/50\n",
            "313/313 - 5s - 17ms/step - accuracy: 0.8370 - loss: 0.4577 - val_accuracy: 0.7780 - val_loss: 0.6636\n",
            "Epoch 19/50\n",
            "313/313 - 5s - 16ms/step - accuracy: 0.8413 - loss: 0.4450 - val_accuracy: 0.7767 - val_loss: 0.6620\n",
            "Epoch 20/50\n",
            "313/313 - 5s - 16ms/step - accuracy: 0.8483 - loss: 0.4264 - val_accuracy: 0.7735 - val_loss: 0.7082\n",
            "Epoch 21/50\n",
            "313/313 - 5s - 17ms/step - accuracy: 0.8534 - loss: 0.4110 - val_accuracy: 0.7854 - val_loss: 0.6566\n",
            "Epoch 22/50\n",
            "313/313 - 10s - 33ms/step - accuracy: 0.8574 - loss: 0.3998 - val_accuracy: 0.7846 - val_loss: 0.6446\n",
            "Epoch 23/50\n",
            "313/313 - 10s - 32ms/step - accuracy: 0.8610 - loss: 0.3898 - val_accuracy: 0.7945 - val_loss: 0.6244\n",
            "Epoch 24/50\n",
            "313/313 - 10s - 32ms/step - accuracy: 0.8674 - loss: 0.3714 - val_accuracy: 0.7884 - val_loss: 0.6513\n",
            "Epoch 25/50\n",
            "313/313 - 5s - 17ms/step - accuracy: 0.8695 - loss: 0.3637 - val_accuracy: 0.7910 - val_loss: 0.6520\n",
            "Epoch 26/50\n",
            "313/313 - 5s - 17ms/step - accuracy: 0.8734 - loss: 0.3547 - val_accuracy: 0.7921 - val_loss: 0.6491\n",
            "Epoch 27/50\n",
            "313/313 - 10s - 32ms/step - accuracy: 0.8773 - loss: 0.3459 - val_accuracy: 0.7696 - val_loss: 0.7213\n",
            "Epoch 28/50\n",
            "313/313 - 5s - 16ms/step - accuracy: 0.8832 - loss: 0.3317 - val_accuracy: 0.7830 - val_loss: 0.6650\n",
            "Epoch 29/50\n",
            "313/313 - 5s - 16ms/step - accuracy: 0.8819 - loss: 0.3355 - val_accuracy: 0.7955 - val_loss: 0.6444\n",
            "Epoch 30/50\n",
            "313/313 - 5s - 17ms/step - accuracy: 0.8882 - loss: 0.3172 - val_accuracy: 0.7905 - val_loss: 0.6557\n",
            "Epoch 31/50\n",
            "313/313 - 10s - 32ms/step - accuracy: 0.8901 - loss: 0.3143 - val_accuracy: 0.7924 - val_loss: 0.6615\n",
            "Epoch 32/50\n",
            "313/313 - 5s - 16ms/step - accuracy: 0.8945 - loss: 0.2982 - val_accuracy: 0.7816 - val_loss: 0.6904\n",
            "Epoch 33/50\n",
            "313/313 - 10s - 33ms/step - accuracy: 0.8924 - loss: 0.3041 - val_accuracy: 0.7977 - val_loss: 0.6583\n",
            "Epoch 34/50\n",
            "313/313 - 5s - 16ms/step - accuracy: 0.8959 - loss: 0.2979 - val_accuracy: 0.7922 - val_loss: 0.6798\n",
            "Epoch 35/50\n",
            "313/313 - 5s - 17ms/step - accuracy: 0.9006 - loss: 0.2867 - val_accuracy: 0.7983 - val_loss: 0.6406\n",
            "Epoch 36/50\n",
            "313/313 - 5s - 16ms/step - accuracy: 0.9024 - loss: 0.2886 - val_accuracy: 0.7987 - val_loss: 0.6412\n",
            "Epoch 37/50\n",
            "313/313 - 5s - 16ms/step - accuracy: 0.9025 - loss: 0.2831 - val_accuracy: 0.7797 - val_loss: 0.7161\n",
            "Epoch 38/50\n",
            "313/313 - 5s - 17ms/step - accuracy: 0.9058 - loss: 0.2727 - val_accuracy: 0.7805 - val_loss: 0.7171\n",
            "Epoch 39/50\n",
            "313/313 - 10s - 33ms/step - accuracy: 0.9021 - loss: 0.2805 - val_accuracy: 0.7915 - val_loss: 0.6647\n",
            "Epoch 40/50\n",
            "313/313 - 10s - 32ms/step - accuracy: 0.9064 - loss: 0.2665 - val_accuracy: 0.7985 - val_loss: 0.6389\n",
            "Epoch 41/50\n",
            "313/313 - 5s - 17ms/step - accuracy: 0.9095 - loss: 0.2643 - val_accuracy: 0.7985 - val_loss: 0.6438\n",
            "Epoch 42/50\n",
            "313/313 - 5s - 16ms/step - accuracy: 0.9078 - loss: 0.2656 - val_accuracy: 0.7949 - val_loss: 0.6684\n",
            "Epoch 43/50\n",
            "313/313 - 5s - 17ms/step - accuracy: 0.9087 - loss: 0.2618 - val_accuracy: 0.7860 - val_loss: 0.6994\n",
            "Epoch 44/50\n",
            "313/313 - 10s - 33ms/step - accuracy: 0.9143 - loss: 0.2519 - val_accuracy: 0.7920 - val_loss: 0.6735\n",
            "Epoch 45/50\n",
            "313/313 - 5s - 16ms/step - accuracy: 0.9133 - loss: 0.2537 - val_accuracy: 0.7958 - val_loss: 0.6875\n",
            "Epoch 46/50\n",
            "313/313 - 5s - 17ms/step - accuracy: 0.9137 - loss: 0.2459 - val_accuracy: 0.7910 - val_loss: 0.6872\n",
            "Epoch 47/50\n",
            "313/313 - 10s - 32ms/step - accuracy: 0.9164 - loss: 0.2444 - val_accuracy: 0.7931 - val_loss: 0.6759\n",
            "Epoch 48/50\n",
            "313/313 - 5s - 17ms/step - accuracy: 0.9162 - loss: 0.2460 - val_accuracy: 0.7907 - val_loss: 0.6808\n",
            "Epoch 49/50\n",
            "313/313 - 10s - 33ms/step - accuracy: 0.9151 - loss: 0.2443 - val_accuracy: 0.7956 - val_loss: 0.6851\n",
            "Epoch 50/50\n",
            "313/313 - 5s - 17ms/step - accuracy: 0.9176 - loss: 0.2438 - val_accuracy: 0.7918 - val_loss: 0.6736\n"
          ]
        }
      ],
      "source": [
        "train_history = model.fit(\n",
        "    x_train, y_train_oh,\n",
        "    validation_split=0.2,\n",
        "    batch_size=128,\n",
        "    epochs=50,\n",
        "    verbose=2)"
      ]
    },
    {
      "cell_type": "markdown",
      "metadata": {
        "id": "BzMicbOp-Iot"
      },
      "source": [
        "## 四、顯示 loss & accuracy 折線圖"
      ]
    },
    {
      "cell_type": "code",
      "execution_count": 32,
      "metadata": {
        "colab": {
          "base_uri": "https://localhost:8080/",
          "height": 925
        },
        "id": "Jx7rZwRx-PLT",
        "outputId": "784c906e-3956-463d-f253-cd27fe6bd79d"
      },
      "outputs": [
        {
          "output_type": "display_data",
          "data": {
            "text/plain": [
              "<Figure size 640x480 with 1 Axes>"
            ],
            "image/png": "[encoded data removed]"
          },
          "metadata": {}
        },
        {
          "output_type": "display_data",
          "data": {
            "text/plain": [
              "<Figure size 640x480 with 1 Axes>"
            ],
            "image/png": "[encoded data removed]"
          },
          "metadata": {}
        }
      ],
      "source": [
        "def show_train_history(train_history, train, validation):\n",
        "  plt.plot(train_history.history[train])\n",
        "  plt.plot(train_history.history[validation])\n",
        "  plt.title(f'Train History: {train}')\n",
        "  plt.ylabel(train)\n",
        "  plt.xlabel('Epoch')\n",
        "  plt.legend(['train', 'validation'], loc='upper left')\n",
        "  plt.show()\n",
        "\n",
        "show_train_history(train_history, 'accuracy', 'val_accuracy')\n",
        "show_train_history(train_history, 'loss', 'val_loss')"
      ]
    },
    {
      "cell_type": "markdown",
      "metadata": {
        "id": "g06NO_H--UH9"
      },
      "source": [
        "## 五、評估模型準確率"
      ]
    },
    {
      "cell_type": "code",
      "execution_count": 33,
      "metadata": {
        "colab": {
          "base_uri": "https://localhost:8080/"
        },
        "id": "oApwm1aG-QK0",
        "outputId": "8368593c-a8e2-426b-cdfe-2681d109d72d"
      },
      "outputs": [
        {
          "output_type": "stream",
          "name": "stdout",
          "text": [
            "\u001b[1m313/313\u001b[0m \u001b[32m━━━━━━━━━━━━━━━━━━━━\u001b[0m\u001b[37m\u001b[0m \u001b[1m2s\u001b[0m 3ms/step - accuracy: 0.7859 - loss: 0.7151\n",
            "accuracy: 78.24%\n"
          ]
        }
      ],
      "source": [
        "scores = model.evaluate(x_test, y_test_oh)\n",
        "print(f\"accuracy: {scores[1]*100:.2f}%\")"
      ]
    },
    {
      "cell_type": "markdown",
      "metadata": {
        "id": "ZOlQ4kAb-Xwe"
      },
      "source": [
        "## 六、預測"
      ]
    },
    {
      "cell_type": "code",
      "execution_count": 34,
      "metadata": {
        "colab": {
          "base_uri": "https://localhost:8080/"
        },
        "id": "ZDQRTy-rPUru",
        "outputId": "f332d5f4-98df-418f-ebc9-f41a09591943"
      },
      "outputs": [
        {
          "output_type": "stream",
          "name": "stdout",
          "text": [
            "\u001b[1m313/313\u001b[0m \u001b[32m━━━━━━━━━━━━━━━━━━━━\u001b[0m\u001b[37m\u001b[0m \u001b[1m2s\u001b[0m 4ms/step\n"
          ]
        }
      ],
      "source": [
        "predictions = model.predict(x_test)"
      ]
    },
    {
      "cell_type": "code",
      "execution_count": 35,
      "metadata": {
        "colab": {
          "base_uri": "https://localhost:8080/"
        },
        "id": "fjbKaFTaKVbT",
        "outputId": "3147feda-f3c1-4ec8-fe8f-8a7850568212"
      },
      "outputs": [
        {
          "output_type": "execute_result",
          "data": {
            "text/plain": [
              "(10000, 10)"
            ]
          },
          "metadata": {},
          "execution_count": 35
        }
      ],
      "source": [
        "predictions.shape"
      ]
    },
    {
      "cell_type": "code",
      "execution_count": 36,
      "metadata": {
        "colab": {
          "base_uri": "https://localhost:8080/"
        },
        "id": "IOI9Iy5ePZNG",
        "outputId": "461d26f4-fdd2-48f0-caab-33f5dc0a6ac2"
      },
      "outputs": [
        {
          "output_type": "execute_result",
          "data": {
            "text/plain": [
              "array([[1.0835282e-03, 7.2802627e-04, 1.6306352e-04, ..., 5.7152896e-03,\n",
              "        6.3569536e-03, 5.0303084e-04],\n",
              "       [5.2860158e-04, 1.3701184e-02, 2.4265502e-08, ..., 2.4259877e-10,\n",
              "        9.8574603e-01, 2.0405027e-05],\n",
              "       [1.7449029e-01, 2.7441604e-03, 1.1275143e-03, ..., 2.1431691e-03,\n",
              "        7.9787040e-01, 1.2327031e-02],\n",
              "       ...,\n",
              "       [6.5381126e-13, 5.1322849e-16, 1.6777859e-04, ..., 3.0325165e-10,\n",
              "        3.4902499e-15, 7.3257704e-14],\n",
              "       [3.5054584e-03, 9.9380785e-01, 9.2968539e-06, ..., 1.4568592e-05,\n",
              "        2.4730364e-06, 1.8144633e-03],\n",
              "       [9.4705858e-12, 7.6740533e-15, 2.3572492e-08, ..., 9.9679250e-01,\n",
              "        8.5898955e-11, 2.5044284e-13]], dtype=float32)"
            ]
          },
          "metadata": {},
          "execution_count": 36
        }
      ],
      "source": [
        "predictions"
      ]
    },
    {
      "cell_type": "code",
      "execution_count": 37,
      "metadata": {
        "id": "SfEI1BiiPV18"
      },
      "outputs": [],
      "source": [
        "predicted_classes = np.argmax(predictions, axis=1)"
      ]
    },
    {
      "cell_type": "markdown",
      "metadata": {
        "id": "G50LuVWklQBV"
      },
      "source": [
        "## 七、顯示圖片與標籤名稱"
      ]
    },
    {
      "cell_type": "code",
      "execution_count": 38,
      "metadata": {
        "id": "9wmdwPUG-iYG"
      },
      "outputs": [],
      "source": [
        "import matplotlib.pyplot as plt\n",
        "\n",
        "def plot_images_labels_prediction(images, true_labels, pred_labels, label_names, idx, num):\n",
        "  plt.figure(figsize=(6, 7))\n",
        "  if num > 25: num = 25\n",
        "  for i in range(num):\n",
        "    plt.subplot(5, 5, i + 1)\n",
        "    plt.imshow(images[idx + i])\n",
        "\n",
        "    true_idx = np.squeeze(true_labels[idx + i])\n",
        "    pred_idx = np.squeeze(pred_labels[idx + i])\n",
        "\n",
        "    true_name = label_names[true_idx]\n",
        "    pred_name = label_names[pred_idx]\n",
        "\n",
        "    plt.title(f'True: {true_name}\\nPred: {pred_name}', fontsize=10)\n",
        "    plt.axis('off')\n",
        "\n",
        "  plt.tight_layout()\n",
        "  plt.show()"
      ]
    },
    {
      "cell_type": "code",
      "execution_count": 39,
      "metadata": {
        "colab": {
          "base_uri": "https://localhost:8080/",
          "height": 713
        },
        "id": "k9-WGiB8XW-n",
        "outputId": "80dc5510-a69f-491e-ec29-c97edb79a447"
      },
      "outputs": [
        {
          "output_type": "display_data",
          "data": {
            "text/plain": [
              "<Figure size 600x700 with 25 Axes>"
            ],
            "image/png": "[encoded data removed]"
          },
          "metadata": {}
        }
      ],
      "source": [
        "plot_images_labels_prediction(x_test, y_test, predicted_classes, class_name, idx=0, num=25)"
      ]
    },
    {
      "cell_type": "markdown",
      "metadata": {
        "id": "WJuwzUSg-mPJ"
      },
      "source": [
        "## 八、混淆矩陣 (Confusion Matrix)"
      ]
    },
    {
      "cell_type": "code",
      "execution_count": 40,
      "metadata": {
        "colab": {
          "base_uri": "https://localhost:8080/",
          "height": 394
        },
        "id": "dWO86FP6-pC5",
        "outputId": "2da36106-01a1-4935-fd91-8b1915f581b3"
      },
      "outputs": [
        {
          "output_type": "execute_result",
          "data": {
            "text/plain": [
              "predict    0    1    2    3    4    5    6    7    8    9\n",
              "label                                                    \n",
              "0        809    9   48   14   23    3    7   10   60   17\n",
              "1         10  863    3    8    4    7    5    4   31   65\n",
              "2         52    4  691   54   79   37   45   26   10    2\n",
              "3         27    3   54  620   44  131   71   31   11    8\n",
              "4         10    1   47   54  786   19   35   41    5    2\n",
              "5         10    2   47  191   40  647   26   30    5    2\n",
              "6          7    1   32   50   26   17  856    4    6    1\n",
              "7         13    1   20   65   50   25    5  815    2    4\n",
              "8         50   12   13   11   10    5    9    2  871   17\n",
              "9         19   45    6   19    4    4   10    8   19  866"
            ],
            "text/html": [
              "\n",
              "  <div id=\"df-682c2e46-0ff1-436c-948c-995de306bcdb\" class=\"colab-df-container\">\n",
              "    <div>\n",
              "<style scoped>\n",
              "    .dataframe tbody tr th:only-of-type {\n",
              "        vertical-align: middle;\n",
              "    }\n",
              "\n",
              "    .dataframe tbody tr th {\n",
              "        vertical-align: top;\n",
              "    }\n",
              "\n",
              "    .dataframe thead th {\n",
              "        text-align: right;\n",
              "    }\n",
              "</style>\n",
              "<table border=\"1\" class=\"dataframe\">\n",
              "  <thead>\n",
              "    <tr style=\"text-align: right;\">\n",
              "      <th>predict</th>\n",
              "      <th>0</th>\n",
              "      <th>1</th>\n",
              "      <th>2</th>\n",
              "      <th>3</th>\n",
              "      <th>4</th>\n",
              "      <th>5</th>\n",
              "      <th>6</th>\n",
              "      <th>7</th>\n",
              "      <th>8</th>\n",
              "      <th>9</th>\n",
              "    </tr>\n",
              "    <tr>\n",
              "      <th>label</th>\n",
              "      <th></th>\n",
              "      <th></th>\n",
              "      <th></th>\n",
              "      <th></th>\n",
              "      <th></th>\n",
              "      <th></th>\n",
              "      <th></th>\n",
              "      <th></th>\n",
              "      <th></th>\n",
              "      <th></th>\n",
              "    </tr>\n",
              "  </thead>\n",
              "  <tbody>\n",
              "    <tr>\n",
              "      <th>0</th>\n",
              "      <td>809</td>\n",
              "      <td>9</td>\n",
              "      <td>48</td>\n",
              "      <td>14</td>\n",
              "      <td>23</td>\n",
              "      <td>3</td>\n",
              "      <td>7</td>\n",
              "      <td>10</td>\n",
              "      <td>60</td>\n",
              "      <td>17</td>\n",
              "    </tr>\n",
              "    <tr>\n",
              "      <th>1</th>\n",
              "      <td>10</td>\n",
              "      <td>863</td>\n",
              "      <td>3</td>\n",
              "      <td>8</td>\n",
              "      <td>4</td>\n",
              "      <td>7</td>\n",
              "      <td>5</td>\n",
              "      <td>4</td>\n",
              "      <td>31</td>\n",
              "      <td>65</td>\n",
              "    </tr>\n",
              "    <tr>\n",
              "      <th>2</th>\n",
              "      <td>52</td>\n",
              "      <td>4</td>\n",
              "      <td>691</td>\n",
              "      <td>54</td>\n",
              "      <td>79</td>\n",
              "      <td>37</td>\n",
              "      <td>45</td>\n",
              "      <td>26</td>\n",
              "      <td>10</td>\n",
              "      <td>2</td>\n",
              "    </tr>\n",
              "    <tr>\n",
              "      <th>3</th>\n",
              "      <td>27</td>\n",
              "      <td>3</td>\n",
              "      <td>54</td>\n",
              "      <td>620</td>\n",
              "      <td>44</td>\n",
              "      <td>131</td>\n",
              "      <td>71</td>\n",
              "      <td>31</td>\n",
              "      <td>11</td>\n",
              "      <td>8</td>\n",
              "    </tr>\n",
              "    <tr>\n",
              "      <th>4</th>\n",
              "      <td>10</td>\n",
              "      <td>1</td>\n",
              "      <td>47</td>\n",
              "      <td>54</td>\n",
              "      <td>786</td>\n",
              "      <td>19</td>\n",
              "      <td>35</td>\n",
              "      <td>41</td>\n",
              "      <td>5</td>\n",
              "      <td>2</td>\n",
              "    </tr>\n",
              "    <tr>\n",
              "      <th>5</th>\n",
              "      <td>10</td>\n",
              "      <td>2</td>\n",
              "      <td>47</td>\n",
              "      <td>191</td>\n",
              "      <td>40</td>\n",
              "      <td>647</td>\n",
              "      <td>26</td>\n",
              "      <td>30</td>\n",
              "      <td>5</td>\n",
              "      <td>2</td>\n",
              "    </tr>\n",
              "    <tr>\n",
              "      <th>6</th>\n",
              "      <td>7</td>\n",
              "      <td>1</td>\n",
              "      <td>32</td>\n",
              "      <td>50</td>\n",
              "      <td>26</td>\n",
              "      <td>17</td>\n",
              "      <td>856</td>\n",
              "      <td>4</td>\n",
              "      <td>6</td>\n",
              "      <td>1</td>\n",
              "    </tr>\n",
              "    <tr>\n",
              "      <th>7</th>\n",
              "      <td>13</td>\n",
              "      <td>1</td>\n",
              "      <td>20</td>\n",
              "      <td>65</td>\n",
              "      <td>50</td>\n",
              "      <td>25</td>\n",
              "      <td>5</td>\n",
              "      <td>815</td>\n",
              "      <td>2</td>\n",
              "      <td>4</td>\n",
              "    </tr>\n",
              "    <tr>\n",
              "      <th>8</th>\n",
              "      <td>50</td>\n",
              "      <td>12</td>\n",
              "      <td>13</td>\n",
              "      <td>11</td>\n",
              "      <td>10</td>\n",
              "      <td>5</td>\n",
              "      <td>9</td>\n",
              "      <td>2</td>\n",
              "      <td>871</td>\n",
              "      <td>17</td>\n",
              "    </tr>\n",
              "    <tr>\n",
              "      <th>9</th>\n",
              "      <td>19</td>\n",
              "      <td>45</td>\n",
              "      <td>6</td>\n",
              "      <td>19</td>\n",
              "      <td>4</td>\n",
              "      <td>4</td>\n",
              "      <td>10</td>\n",
              "      <td>8</td>\n",
              "      <td>19</td>\n",
              "      <td>866</td>\n",
              "    </tr>\n",
              "  </tbody>\n",
              "</table>\n",
              "</div>\n",
              "    <div class=\"colab-df-buttons\">\n",
              "\n",
              "  <div class=\"colab-df-container\">\n",
              "    <button class=\"colab-df-convert\" onclick=\"convertToInteractive('df-682c2e46-0ff1-436c-948c-995de306bcdb')\"\n",
              "            title=\"Convert this dataframe to an interactive table.\"\n",
              "            style=\"display:none;\">\n",
              "\n",
              "  <svg xmlns=\"http://www.w3.org/2000/svg\" height=\"24px\" viewBox=\"0 -960 960 960\">\n",
              "    <path d=\"M120-120v-720h720v720H120Zm60-500h600v-160H180v160Zm220 220h160v-160H400v160Zm0 220h160v-160H400v160ZM180-400h160v-160H180v160Zm440 0h160v-160H620v160ZM180-180h160v-160H180v160Zm440 0h160v-160H620v160Z\"/>\n",
              "  </svg>\n",
              "    </button>\n",
              "\n",
              "  <style>\n",
              "    .colab-df-container {\n",
              "      display:flex;\n",
              "      gap: 12px;\n",
              "    }\n",
              "\n",
              "    .colab-df-convert {\n",
              "      background-color: #E8F0FE;\n",
              "      border: none;\n",
              "      border-radius: 50%;\n",
              "      cursor: pointer;\n",
              "      display: none;\n",
              "      fill: #1967D2;\n",
              "      height: 32px;\n",
              "      padding: 0 0 0 0;\n",
              "      width: 32px;\n",
              "    }\n",
              "\n",
              "    .colab-df-convert:hover {\n",
              "      background-color: #E2EBFA;\n",
              "      box-shadow: 0px 1px 2px rgba(60, 64, 67, 0.3), 0px 1px 3px 1px rgba(60, 64, 67, 0.15);\n",
              "      fill: #174EA6;\n",
              "    }\n",
              "\n",
              "    .colab-df-buttons div {\n",
              "      margin-bottom: 4px;\n",
              "    }\n",
              "\n",
              "    [theme=dark] .colab-df-convert {\n",
              "      background-color: #3B4455;\n",
              "      fill: #D2E3FC;\n",
              "    }\n",
              "\n",
              "    [theme=dark] .colab-df-convert:hover {\n",
              "      background-color: #434B5C;\n",
              "      box-shadow: 0px 1px 3px 1px rgba(0, 0, 0, 0.15);\n",
              "      filter: drop-shadow(0px 1px 2px rgba(0, 0, 0, 0.3));\n",
              "      fill: #FFFFFF;\n",
              "    }\n",
              "  </style>\n",
              "\n",
              "    <script>\n",
              "      const buttonEl =\n",
              "        document.querySelector('#df-682c2e46-0ff1-436c-948c-995de306bcdb button.colab-df-convert');\n",
              "      buttonEl.style.display =\n",
              "        google.colab.kernel.accessAllowed ? 'block' : 'none';\n",
              "\n",
              "      async function convertToInteractive(key) {\n",
              "        const element = document.querySelector('#df-682c2e46-0ff1-436c-948c-995de306bcdb');\n",
              "        const dataTable =\n",
              "          await google.colab.kernel.invokeFunction('convertToInteractive',\n",
              "                                                    [key], {});\n",
              "        if (!dataTable) return;\n",
              "\n",
              "        const docLinkHtml = 'Like what you see? Visit the ' +\n",
              "          '<a target=\"_blank\" href=https://colab.research.google.com/notebooks/data_table.ipynb>data table notebook</a>'\n",
              "          + ' to learn more about interactive tables.';\n",
              "        element.innerHTML = '';\n",
              "        dataTable['output_type'] = 'display_data';\n",
              "        await google.colab.output.renderOutput(dataTable, element);\n",
              "        const docLink = document.createElement('div');\n",
              "        docLink.innerHTML = docLinkHtml;\n",
              "        element.appendChild(docLink);\n",
              "      }\n",
              "    </script>\n",
              "  </div>\n",
              "\n",
              "\n",
              "    <div id=\"df-ead52708-416b-4f1e-b03b-6751683392b3\">\n",
              "      <button class=\"colab-df-quickchart\" onclick=\"quickchart('df-ead52708-416b-4f1e-b03b-6751683392b3')\"\n",
              "                title=\"Suggest charts\"\n",
              "                style=\"display:none;\">\n",
              "\n",
              "<svg xmlns=\"http://www.w3.org/2000/svg\" height=\"24px\"viewBox=\"0 0 24 24\"\n",
              "     width=\"24px\">\n",
              "    <g>\n",
              "        <path d=\"M19 3H5c-1.1 0-2 .9-2 2v14c0 1.1.9 2 2 2h14c1.1 0 2-.9 2-2V5c0-1.1-.9-2-2-2zM9 17H7v-7h2v7zm4 0h-2V7h2v10zm4 0h-2v-4h2v4z\"/>\n",
              "    </g>\n",
              "</svg>\n",
              "      </button>\n",
              "\n",
              "<style>\n",
              "  .colab-df-quickchart {\n",
              "      --bg-color: #E8F0FE;\n",
              "      --fill-color: #1967D2;\n",
              "      --hover-bg-color: #E2EBFA;\n",
              "      --hover-fill-color: #174EA6;\n",
              "      --disabled-fill-color: #AAA;\n",
              "      --disabled-bg-color: #DDD;\n",
              "  }\n",
              "\n",
              "  [theme=dark] .colab-df-quickchart {\n",
              "      --bg-color: #3B4455;\n",
              "      --fill-color: #D2E3FC;\n",
              "      --hover-bg-color: #434B5C;\n",
              "      --hover-fill-color: #FFFFFF;\n",
              "      --disabled-bg-color: #3B4455;\n",
              "      --disabled-fill-color: #666;\n",
              "  }\n",
              "\n",
              "  .colab-df-quickchart {\n",
              "    background-color: var(--bg-color);\n",
              "    border: none;\n",
              "    border-radius: 50%;\n",
              "    cursor: pointer;\n",
              "    display: none;\n",
              "    fill: var(--fill-color);\n",
              "    height: 32px;\n",
              "    padding: 0;\n",
              "    width: 32px;\n",
              "  }\n",
              "\n",
              "  .colab-df-quickchart:hover {\n",
              "    background-color: var(--hover-bg-color);\n",
              "    box-shadow: 0 1px 2px rgba(60, 64, 67, 0.3), 0 1px 3px 1px rgba(60, 64, 67, 0.15);\n",
              "    fill: var(--button-hover-fill-color);\n",
              "  }\n",
              "\n",
              "  .colab-df-quickchart-complete:disabled,\n",
              "  .colab-df-quickchart-complete:disabled:hover {\n",
              "    background-color: var(--disabled-bg-color);\n",
              "    fill: var(--disabled-fill-color);\n",
              "    box-shadow: none;\n",
              "  }\n",
              "\n",
              "  .colab-df-spinner {\n",
              "    border: 2px solid var(--fill-color);\n",
              "    border-color: transparent;\n",
              "    border-bottom-color: var(--fill-color);\n",
              "    animation:\n",
              "      spin 1s steps(1) infinite;\n",
              "  }\n",
              "\n",
              "  @keyframes spin {\n",
              "    0% {\n",
              "      border-color: transparent;\n",
              "      border-bottom-color: var(--fill-color);\n",
              "      border-left-color: var(--fill-color);\n",
              "    }\n",
              "    20% {\n",
              "      border-color: transparent;\n",
              "      border-left-color: var(--fill-color);\n",
              "      border-top-color: var(--fill-color);\n",
              "    }\n",
              "    30% {\n",
              "      border-color: transparent;\n",
              "      border-left-color: var(--fill-color);\n",
              "      border-top-color: var(--fill-color);\n",
              "      border-right-color: var(--fill-color);\n",
              "    }\n",
              "    40% {\n",
              "      border-color: transparent;\n",
              "      border-right-color: var(--fill-color);\n",
              "      border-top-color: var(--fill-color);\n",
              "    }\n",
              "    60% {\n",
              "      border-color: transparent;\n",
              "      border-right-color: var(--fill-color);\n",
              "    }\n",
              "    80% {\n",
              "      border-color: transparent;\n",
              "      border-right-color: var(--fill-color);\n",
              "      border-bottom-color: var(--fill-color);\n",
              "    }\n",
              "    90% {\n",
              "      border-color: transparent;\n",
              "      border-bottom-color: var(--fill-color);\n",
              "    }\n",
              "  }\n",
              "</style>\n",
              "\n",
              "      <script>\n",
              "        async function quickchart(key) {\n",
              "          const quickchartButtonEl =\n",
              "            document.querySelector('#' + key + ' button');\n",
              "          quickchartButtonEl.disabled = true;  // To prevent multiple clicks.\n",
              "          quickchartButtonEl.classList.add('colab-df-spinner');\n",
              "          try {\n",
              "            const charts = await google.colab.kernel.invokeFunction(\n",
              "                'suggestCharts', [key], {});\n",
              "          } catch (error) {\n",
              "            console.error('Error during call to suggestCharts:', error);\n",
              "          }\n",
              "          quickchartButtonEl.classList.remove('colab-df-spinner');\n",
              "          quickchartButtonEl.classList.add('colab-df-quickchart-complete');\n",
              "        }\n",
              "        (() => {\n",
              "          let quickchartButtonEl =\n",
              "            document.querySelector('#df-ead52708-416b-4f1e-b03b-6751683392b3 button');\n",
              "          quickchartButtonEl.style.display =\n",
              "            google.colab.kernel.accessAllowed ? 'block' : 'none';\n",
              "        })();\n",
              "      </script>\n",
              "    </div>\n",
              "\n",
              "    </div>\n",
              "  </div>\n"
            ],
            "application/vnd.google.colaboratory.intrinsic+json": {
              "type": "dataframe",
              "summary": "{\n  \"name\": \"pd\",\n  \"rows\": 10,\n  \"fields\": [\n    {\n      \"column\": \"label\",\n      \"properties\": {\n        \"dtype\": \"uint8\",\n        \"num_unique_values\": 10,\n        \"samples\": [\n          8,\n          1,\n          5\n        ],\n        \"semantic_type\": \"\",\n        \"description\": \"\"\n      }\n    },\n    {\n      \"column\": 0,\n      \"properties\": {\n        \"dtype\": \"number\",\n        \"std\": 249,\n        \"min\": 7,\n        \"max\": 809,\n        \"num_unique_values\": 8,\n        \"samples\": [\n          10,\n          13,\n          809\n        ],\n        \"semantic_type\": \"\",\n        \"description\": \"\"\n      }\n    },\n    {\n      \"column\": 1,\n      \"properties\": {\n        \"dtype\": \"number\",\n        \"std\": 270,\n        \"min\": 1,\n        \"max\": 863,\n        \"num_unique_values\": 8,\n        \"samples\": [\n          863,\n          2,\n          9\n        ],\n        \"semantic_type\": \"\",\n        \"description\": \"\"\n      }\n    },\n    {\n      \"column\": 2,\n      \"properties\": {\n        \"dtype\": \"number\",\n        \"std\": 209,\n        \"min\": 3,\n        \"max\": 691,\n        \"num_unique_values\": 9,\n        \"samples\": [\n          13,\n          3,\n          32\n        ],\n        \"semantic_type\": \"\",\n        \"description\": \"\"\n      }\n    },\n    {\n      \"column\": 3,\n      \"properties\": {\n        \"dtype\": \"number\",\n        \"std\": 187,\n        \"min\": 8,\n        \"max\": 620,\n        \"num_unique_values\": 9,\n        \"samples\": [\n          11,\n          8,\n          50\n        ],\n        \"semantic_type\": \"\",\n        \"description\": \"\"\n      }\n    },\n    {\n      \"column\": 4,\n      \"properties\": {\n        \"dtype\": \"number\",\n        \"std\": 239,\n        \"min\": 4,\n        \"max\": 786,\n        \"num_unique_values\": 9,\n        \"samples\": [\n          50,\n          4,\n          40\n        ],\n        \"semantic_type\": \"\",\n        \"description\": \"\"\n      }\n    },\n    {\n      \"column\": 5,\n      \"properties\": {\n        \"dtype\": \"number\",\n        \"std\": 199,\n        \"min\": 3,\n        \"max\": 647,\n        \"num_unique_values\": 10,\n        \"samples\": [\n          5,\n          7,\n          647\n        ],\n        \"semantic_type\": \"\",\n        \"description\": \"\"\n      }\n    },\n    {\n      \"column\": 6,\n      \"properties\": {\n        \"dtype\": \"number\",\n        \"std\": 264,\n        \"min\": 5,\n        \"max\": 856,\n        \"num_unique_values\": 9,\n        \"samples\": [\n          9,\n          5,\n          26\n        ],\n        \"semantic_type\": \"\",\n        \"description\": \"\"\n      }\n    },\n    {\n      \"column\": 7,\n      \"properties\": {\n        \"dtype\": \"number\",\n        \"std\": 252,\n        \"min\": 2,\n        \"max\": 815,\n        \"num_unique_values\": 9,\n        \"samples\": [\n          2,\n          4,\n          30\n        ],\n        \"semantic_type\": \"\",\n        \"description\": \"\"\n      }\n    },\n    {\n      \"column\": 8,\n      \"properties\": {\n        \"dtype\": \"number\",\n        \"std\": 270,\n        \"min\": 2,\n        \"max\": 871,\n        \"num_unique_values\": 9,\n        \"samples\": [\n          871,\n          31,\n          6\n        ],\n        \"semantic_type\": \"\",\n        \"description\": \"\"\n      }\n    },\n    {\n      \"column\": 9,\n      \"properties\": {\n        \"dtype\": \"number\",\n        \"std\": 270,\n        \"min\": 1,\n        \"max\": 866,\n        \"num_unique_values\": 7,\n        \"samples\": [\n          17,\n          65,\n          4\n        ],\n        \"semantic_type\": \"\",\n        \"description\": \"\"\n      }\n    }\n  ]\n}"
            }
          },
          "metadata": {},
          "execution_count": 40
        }
      ],
      "source": [
        "import pandas as pd\n",
        "\n",
        "pd.crosstab(np.squeeze(y_test), predicted_classes, rownames=['label'], colnames=['predict'])"
      ]
    },
    {
      "cell_type": "markdown",
      "metadata": {
        "id": "m77LyvZ6-t27"
      },
      "source": [
        "## 九、儲存完整模型"
      ]
    },
    {
      "cell_type": "code",
      "execution_count": 41,
      "metadata": {
        "colab": {
          "base_uri": "https://localhost:8080/"
        },
        "id": "G9UomBLNgbzh",
        "outputId": "dc322a59-1a2a-4443-f963-cf3bed7d5391"
      },
      "outputs": [
        {
          "output_type": "stream",
          "name": "stdout",
          "text": [
            "Mounted at /content/drive\n"
          ]
        }
      ],
      "source": [
        "from google.colab import drive\n",
        "drive.mount('/content/drive')"
      ]
    },
    {
      "cell_type": "code",
      "execution_count": 42,
      "metadata": {
        "colab": {
          "base_uri": "https://localhost:8080/"
        },
        "id": "K3BCKD8DgmfH",
        "outputId": "1ae69a65-06f2-4a53-d0df-309dcd8ec12a"
      },
      "outputs": [
        {
          "output_type": "stream",
          "name": "stdout",
          "text": [
            "/content/drive/MyDrive/Colab Notebooks\n"
          ]
        }
      ],
      "source": [
        "%cd /content/drive/MyDrive/Colab Notebooks/"
      ]
    },
    {
      "cell_type": "code",
      "execution_count": 43,
      "metadata": {
        "id": "Rmw4tXGh-xha"
      },
      "outputs": [],
      "source": [
        "model.save('cnn_cifar10_model_4-3.keras')"
      ]
    },
    {
      "cell_type": "markdown",
      "metadata": {
        "id": "C4KFzI8nYIB5"
      },
      "source": [
        "## 十、interact_manual"
      ]
    },
    {
      "cell_type": "code",
      "execution_count": 44,
      "metadata": {
        "colab": {
          "base_uri": "https://localhost:8080/",
          "height": 465
        },
        "id": "5Hd3fSGzYdJI",
        "outputId": "ac4e0750-8f9a-4572-f1a3-8e74597150e5"
      },
      "outputs": [
        {
          "output_type": "stream",
          "name": "stdout",
          "text": [
            "神經網路判斷為： 貓\n",
            "正確答案為： 貓\n"
          ]
        },
        {
          "output_type": "display_data",
          "data": {
            "text/plain": [
              "<Figure size 640x480 with 1 Axes>"
            ],
            "image/png": "[encoded data removed]"
          },
          "metadata": {}
        }
      ],
      "source": [
        "def test(測試編號):\n",
        "  plt.imshow(x_test[測試編號], cmap='Greys')\n",
        "  print('神經網路判斷為：', class_name[predicted_classes[測試編號]])\n",
        "  print('正確答案為：', class_name[np.squeeze(y_test[測試編號])])\n",
        "\n",
        "#interact_manual(test, 測試編號=(0, len(x_test)-1))\n",
        "test(7014)"
      ]
    }
  ],
  "metadata": {
    "accelerator": "GPU",
    "colab": {
      "gpuType": "T4",
      "provenance": [],
      "toc_visible": true,
      "include_colab_link": true
    },
    "kernelspec": {
      "display_name": "Python 3",
      "name": "python3"
    },
    "language_info": {
      "name": "python"
    }
  },
  "nbformat": 4,
  "nbformat_minor": 0
}