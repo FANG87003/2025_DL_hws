{
  "cells": [
    {
      "cell_type": "markdown",
      "metadata": {
        "id": "view-in-github",
        "colab_type": "text"
      },
      "source": [
        "<a href=\"https://colab.research.google.com/github/FANG87003/2025_DL_hws/blob/main/hw5-1.ipynb\" target=\"_parent\"><img src=\"https://colab.research.google.com/assets/colab-badge.svg\" alt=\"Open In Colab\"/></a>"
      ]
    },
    {
      "cell_type": "markdown",
      "source": [
        "# 113-2 深度學習 作業 5-1"
      ],
      "metadata": {
        "id": "CTQ-Gjs3yybt"
      },
      "id": "CTQ-Gjs3yybt"
    },
    {
      "cell_type": "code",
      "execution_count": null,
      "id": "61ca25d8",
      "metadata": {
        "id": "61ca25d8"
      },
      "outputs": [],
      "source": [
        "%matplotlib inline\n",
        "import numpy as np\n",
        "import pandas as pd\n",
        "import matplotlib.pyplot as plt"
      ]
    },
    {
      "cell_type": "markdown",
      "source": [
        "# 一、 載入資料集"
      ],
      "metadata": {
        "id": "3-KM_FB7ej8k"
      },
      "id": "3-KM_FB7ej8k"
    },
    {
      "cell_type": "markdown",
      "source": [
        "## 1 . 下載IMDb\n",
        "\n"
      ],
      "metadata": {
        "id": "MQ28TTFn-a4k"
      },
      "id": "MQ28TTFn-a4k"
    },
    {
      "cell_type": "code",
      "execution_count": null,
      "id": "6a62cb20",
      "metadata": {
        "id": "6a62cb20",
        "colab": {
          "base_uri": "https://localhost:8080/"
        },
        "outputId": "0c095574-f02c-4fe4-f19b-5d9dd0e585bc"
      },
      "outputs": [
        {
          "output_type": "stream",
          "name": "stdout",
          "text": [
            "Downloaded: ('data/aclImdb_v1.tar.gz', <http.client.HTTPMessage object at 0x78405c40bf50>)\n"
          ]
        }
      ],
      "source": [
        "import urllib.request\n",
        "import os\n",
        "import tarfile\n",
        "\n",
        "url = \"http://ai.stanford.edu/~amaas/data/sentiment/aclImdb_v1.tar.gz\"\n",
        "filepath = \"data/aclImdb_v1.tar.gz\"\n",
        "\n",
        "\n",
        "if not os.path.isfile(filepath):\n",
        "  result = urllib.request.urlretrieve(url, filepath)\n",
        "  print(\"Downloaded:\", result)"
      ]
    },
    {
      "cell_type": "markdown",
      "source": [
        "## 2 . 解壓縮IMDb：在data/aclImdb"
      ],
      "metadata": {
        "id": "hPMU2Hts-kK7"
      },
      "id": "hPMU2Hts-kK7"
    },
    {
      "cell_type": "code",
      "source": [
        "if not os.path.exists(\"data/aclImdb\"):\n",
        "  with tarfile.open(filepath, 'r:gz') as tfile:\n",
        "    tfile.extractall('data/')"
      ],
      "metadata": {
        "id": "3nD5REw0-mMT"
      },
      "id": "3nD5REw0-mMT",
      "execution_count": null,
      "outputs": []
    },
    {
      "cell_type": "markdown",
      "source": [
        "## 3 . 匯入文字資料預處理模組"
      ],
      "metadata": {
        "id": "LfvXZPhyG-vB"
      },
      "id": "LfvXZPhyG-vB"
    },
    {
      "cell_type": "code",
      "source": [
        "from tensorflow.keras.preprocessing import sequence\n",
        "from tensorflow.keras.preprocessing.text import Tokenizer"
      ],
      "metadata": {
        "id": "K-RyZAaFHHpp"
      },
      "id": "K-RyZAaFHHpp",
      "execution_count": null,
      "outputs": []
    },
    {
      "cell_type": "markdown",
      "source": [
        "## 4 . 定義 rm_tags ( text ) 函數\n",
        "用以去除text當中的HTML標籤(tag)"
      ],
      "metadata": {
        "id": "wGNe7yKAHmaQ"
      },
      "id": "wGNe7yKAHmaQ"
    },
    {
      "cell_type": "code",
      "source": [
        "import re\n",
        "def rm_tags(text):\n",
        "  re_tag = re.compile(r'<[^>]+>')\n",
        "  return re_tag.sub('', text)"
      ],
      "metadata": {
        "id": "-UCpuReoHmAg"
      },
      "id": "-UCpuReoHmAg",
      "execution_count": null,
      "outputs": []
    },
    {
      "cell_type": "markdown",
      "source": [
        "## 5 . 定義 read_files ( filetype ) 函數"
      ],
      "metadata": {
        "id": "TliHj6X4Hwcg"
      },
      "id": "TliHj6X4Hwcg"
    },
    {
      "cell_type": "code",
      "source": [
        "import os\n",
        "def read_files(filetype):\n",
        "  path = \"data/aclImdb/\"\n",
        "  file_list = []\n",
        "\n",
        "  positive_path=path + filetype + \"/pos/\"\n",
        "  for f in os.listdir(positive_path):\n",
        "    file_list += [positive_path + f]\n",
        "\n",
        "  negative_path = path + filetype + \"/neg/\"\n",
        "  for f in os.listdir(negative_path):\n",
        "    file_list += [negative_path + f]\n",
        "\n",
        "  print('read',filetype, 'files:',len(file_list))\n",
        "\n",
        "  all_labels = ([1] * 12500 + [0] * 12500)\n",
        "\n",
        "  all_texts  = []\n",
        "  for fi in file_list:\n",
        "    with open(fi, encoding='utf8') as file_input:\n",
        "      all_texts += [rm_tags(\" \".join(file_input.readlines()))]\n",
        "\n",
        "  return all_labels,all_texts"
      ],
      "metadata": {
        "id": "50QE5O8ZHxcY"
      },
      "id": "50QE5O8ZHxcY",
      "execution_count": null,
      "outputs": []
    },
    {
      "cell_type": "markdown",
      "source": [
        "## 6 . 建立訓練與測試資料"
      ],
      "metadata": {
        "id": "L0l9s-tNIs53"
      },
      "id": "L0l9s-tNIs53"
    },
    {
      "cell_type": "code",
      "execution_count": null,
      "id": "587d328e",
      "metadata": {
        "colab": {
          "base_uri": "https://localhost:8080/"
        },
        "id": "587d328e",
        "outputId": "ba22d94f-c99c-41cd-ff9e-c5e3d498722d"
      },
      "outputs": [
        {
          "output_type": "stream",
          "name": "stdout",
          "text": [
            "read train files: 25000\n",
            "read test files: 25000\n"
          ]
        }
      ],
      "source": [
        "y_train, train_text = read_files(\"train\")\n",
        "y_test, test_text = read_files(\"test\")"
      ]
    },
    {
      "cell_type": "markdown",
      "source": [
        "## 7 . 利用tokenizer建立字典"
      ],
      "metadata": {
        "id": "2xfsPv5GKcj9"
      },
      "id": "2xfsPv5GKcj9"
    },
    {
      "cell_type": "code",
      "execution_count": null,
      "id": "ee30abe5",
      "metadata": {
        "colab": {
          "base_uri": "https://localhost:8080/"
        },
        "id": "ee30abe5",
        "outputId": "2850c943-68f3-4103-faab-6079873323d3"
      },
      "outputs": [
        {
          "output_type": "stream",
          "name": "stdout",
          "text": [
            "25000\n"
          ]
        }
      ],
      "source": [
        "from tensorflow.keras.preprocessing.text import Tokenizer\n",
        "from tensorflow.keras.preprocessing.sequence import pad_sequences\n",
        "\n",
        "tokenizer = Tokenizer(num_words=10000)\n",
        "tokenizer.fit_on_texts(train_text)\n",
        "\n",
        "print(tokenizer.document_count)"
      ]
    },
    {
      "cell_type": "markdown",
      "source": [
        "## 8 . 轉換每篇影評(文字串)為一連串的數字(數字串)\n",
        "* 每篇影評所有**單字(word)**轉換為一個一個的數字(index)"
      ],
      "metadata": {
        "id": "IYjQkv7jMgRK"
      },
      "id": "IYjQkv7jMgRK"
    },
    {
      "cell_type": "code",
      "source": [
        "x_train_seq = tokenizer.texts_to_sequences(train_text)\n",
        "x_test_seq = tokenizer.texts_to_sequences(test_text)\n",
        "\n",
        "x_train = pad_sequences(x_train_seq, maxlen=100)\n",
        "x_test = pad_sequences(x_test_seq, maxlen=100)"
      ],
      "metadata": {
        "id": "jIRan2nKK1vk"
      },
      "id": "jIRan2nKK1vk",
      "execution_count": null,
      "outputs": []
    },
    {
      "cell_type": "markdown",
      "source": [
        "## 9 . 轉換x_train, x_test, y_train, y_test為numpy array"
      ],
      "metadata": {
        "id": "W0UKXH0QS2wy"
      },
      "id": "W0UKXH0QS2wy"
    },
    {
      "cell_type": "code",
      "source": [
        "import numpy as np\n",
        "\n",
        "x_train = np.array(x_train)\n",
        "x_test = np.array(x_test)\n",
        "y_train = np.array(y_train)\n",
        "y_test = np.array(y_test)\n",
        "\n",
        "print(\"x_train shape:\", x_train.shape)\n",
        "print(\"x_test shape:\", x_test.shape)\n",
        "print(\"y_train shape:\", y_train.shape)\n",
        "print(\"y_test shape:\", y_test.shape)"
      ],
      "metadata": {
        "colab": {
          "base_uri": "https://localhost:8080/"
        },
        "id": "jROlMeRQSzlj",
        "outputId": "9c4e3194-3c9a-40a7-e27a-e40356b93a72"
      },
      "id": "jROlMeRQSzlj",
      "execution_count": null,
      "outputs": [
        {
          "output_type": "stream",
          "name": "stdout",
          "text": [
            "x_train shape: (25000, 100)\n",
            "x_test shape: (25000, 100)\n",
            "y_train shape: (25000,)\n",
            "y_test shape: (25000,)\n"
          ]
        }
      ]
    },
    {
      "cell_type": "markdown",
      "source": [
        "# 二、建立神經網路模型"
      ],
      "metadata": {
        "id": "8QlgOhNhbr0I"
      },
      "id": "8QlgOhNhbr0I"
    },
    {
      "cell_type": "markdown",
      "source": [
        "## 1 . 載入套件"
      ],
      "metadata": {
        "id": "Xl9SAVtxYCM0"
      },
      "id": "Xl9SAVtxYCM0"
    },
    {
      "cell_type": "code",
      "source": [
        "from tensorflow.keras.models import Sequential\n",
        "from tensorflow.keras.layers import Dense, Embedding\n",
        "from tensorflow.keras.layers import LSTM"
      ],
      "metadata": {
        "id": "3uqcEFERYoLz"
      },
      "id": "3uqcEFERYoLz",
      "execution_count": null,
      "outputs": []
    },
    {
      "cell_type": "markdown",
      "source": [
        "## 2 .  讀入數據\n"
      ],
      "metadata": {
        "id": "LKruPhIKZUbl"
      },
      "id": "LKruPhIKZUbl"
    },
    {
      "cell_type": "code",
      "source": [
        "from tensorflow.keras.preprocessing.text import Tokenizer\n",
        "from tensorflow.keras.preprocessing.sequence import pad_sequences\n",
        "\n",
        "tokenizer = Tokenizer(num_words=10000)\n",
        "tokenizer.fit_on_texts(train_text)\n",
        "\n",
        "x_train_seq = tokenizer.texts_to_sequences(train_text)\n",
        "x_test_seq = tokenizer.texts_to_sequences(test_text)\n",
        "\n",
        "\n",
        "# 轉換x_train, x_test, y_train, y_test 為 numpy array\n",
        "x_train = pad_sequences(x_train_seq, maxlen=100)\n",
        "x_test = pad_sequences(x_test_seq, maxlen=100)\n",
        "\n",
        "y_train = np.array(y_train)\n",
        "y_test = np.array(y_test)"
      ],
      "metadata": {
        "id": "67KY3eRzZZBK"
      },
      "id": "67KY3eRzZZBK",
      "execution_count": null,
      "outputs": []
    },
    {
      "cell_type": "markdown",
      "source": [
        "## 3 . 建立神經網路模型"
      ],
      "metadata": {
        "id": "xdrVKG5Dbykf"
      },
      "id": "xdrVKG5Dbykf"
    },
    {
      "cell_type": "code",
      "source": [
        "model = Sequential()"
      ],
      "metadata": {
        "id": "b2j4YXj3cBkf"
      },
      "id": "b2j4YXj3cBkf",
      "execution_count": null,
      "outputs": []
    },
    {
      "cell_type": "markdown",
      "source": [
        "### (1) Embedding 層\n",
        "* 參數 = 10000 × 128 = 1280000\n",
        "* output shape (64, 100, 128)"
      ],
      "metadata": {
        "id": "6Q9RrMDjtazz"
      },
      "id": "6Q9RrMDjtazz"
    },
    {
      "cell_type": "code",
      "source": [
        "model.add(Embedding(10000, 128)) # 10000 × 128 = 1280000"
      ],
      "metadata": {
        "id": "XnG6NOjacDDf"
      },
      "id": "XnG6NOjacDDf",
      "execution_count": null,
      "outputs": []
    },
    {
      "cell_type": "markdown",
      "source": [
        "### (2) LSTM 層\n",
        "* 4 × 本層神經元數 × ( 前層輸出維度 + 本層神經元數 + 1 )\n",
        "* 參數 = 4 × 128 ( 128 + 128 + 1 )\n",
        "* output shape (64, 128)"
      ],
      "metadata": {
        "id": "_z4QkLoGr6kb"
      },
      "id": "_z4QkLoGr6kb"
    },
    {
      "cell_type": "code",
      "source": [
        "model.add(LSTM(128)) # 4 × 128 ( 128 + 128 + 1 )"
      ],
      "metadata": {
        "id": "gP4xNEnSf5pI"
      },
      "id": "gP4xNEnSf5pI",
      "execution_count": null,
      "outputs": []
    },
    {
      "cell_type": "markdown",
      "source": [
        "### (3) Dense 層\n",
        "* 參數 = 128 × 1 + 1 = 129\n",
        "* output shape (64, 1)"
      ],
      "metadata": {
        "id": "OyuDx-b6uTRb"
      },
      "id": "OyuDx-b6uTRb"
    },
    {
      "cell_type": "code",
      "source": [
        "model.add(Dense(1, activation='sigmoid')) # 128 × 1 + 1 = 129"
      ],
      "metadata": {
        "id": "aRNPiOQfgN_g"
      },
      "id": "aRNPiOQfgN_g",
      "execution_count": null,
      "outputs": []
    },
    {
      "cell_type": "code",
      "source": [
        "model.summary()"
      ],
      "metadata": {
        "id": "5_JFKGH1cjQ-",
        "colab": {
          "base_uri": "https://localhost:8080/",
          "height": 225
        },
        "outputId": "174d2c11-c1ac-4cc4-e96e-af05098fc61d"
      },
      "id": "5_JFKGH1cjQ-",
      "execution_count": null,
      "outputs": [
        {
          "output_type": "display_data",
          "data": {
            "text/plain": [
              "\u001b[1mModel: \"sequential\"\u001b[0m\n"
            ],
            "text/html": [
              "<pre style=\"white-space:pre;overflow-x:auto;line-height:normal;font-family:Menlo,'DejaVu Sans Mono',consolas,'Courier New',monospace\"><span style=\"font-weight: bold\">Model: \"sequential\"</span>\n",
              "</pre>\n"
            ]
          },
          "metadata": {}
        },
        {
          "output_type": "display_data",
          "data": {
            "text/plain": [
              "┏━━━━━━━━━━━━━━━━━━━━━━━━━━━━━━━━━┳━━━━━━━━━━━━━━━━━━━━━━━━┳━━━━━━━━━━━━━━━┓\n",
              "┃\u001b[1m \u001b[0m\u001b[1mLayer (type)                   \u001b[0m\u001b[1m \u001b[0m┃\u001b[1m \u001b[0m\u001b[1mOutput Shape          \u001b[0m\u001b[1m \u001b[0m┃\u001b[1m \u001b[0m\u001b[1m      Param #\u001b[0m\u001b[1m \u001b[0m┃\n",
              "┡━━━━━━━━━━━━━━━━━━━━━━━━━━━━━━━━━╇━━━━━━━━━━━━━━━━━━━━━━━━╇━━━━━━━━━━━━━━━┩\n",
              "│ embedding (\u001b[38;5;33mEmbedding\u001b[0m)           │ ?                      │   \u001b[38;5;34m0\u001b[0m (unbuilt) │\n",
              "├─────────────────────────────────┼────────────────────────┼───────────────┤\n",
              "│ lstm (\u001b[38;5;33mLSTM\u001b[0m)                     │ ?                      │   \u001b[38;5;34m0\u001b[0m (unbuilt) │\n",
              "├─────────────────────────────────┼────────────────────────┼───────────────┤\n",
              "│ dense (\u001b[38;5;33mDense\u001b[0m)                   │ ?                      │   \u001b[38;5;34m0\u001b[0m (unbuilt) │\n",
              "└─────────────────────────────────┴────────────────────────┴───────────────┘\n"
            ],
            "text/html": [
              "<pre style=\"white-space:pre;overflow-x:auto;line-height:normal;font-family:Menlo,'DejaVu Sans Mono',consolas,'Courier New',monospace\">┏━━━━━━━━━━━━━━━━━━━━━━━━━━━━━━━━━┳━━━━━━━━━━━━━━━━━━━━━━━━┳━━━━━━━━━━━━━━━┓\n",
              "┃<span style=\"font-weight: bold\"> Layer (type)                    </span>┃<span style=\"font-weight: bold\"> Output Shape           </span>┃<span style=\"font-weight: bold\">       Param # </span>┃\n",
              "┡━━━━━━━━━━━━━━━━━━━━━━━━━━━━━━━━━╇━━━━━━━━━━━━━━━━━━━━━━━━╇━━━━━━━━━━━━━━━┩\n",
              "│ embedding (<span style=\"color: #0087ff; text-decoration-color: #0087ff\">Embedding</span>)           │ ?                      │   <span style=\"color: #00af00; text-decoration-color: #00af00\">0</span> (unbuilt) │\n",
              "├─────────────────────────────────┼────────────────────────┼───────────────┤\n",
              "│ lstm (<span style=\"color: #0087ff; text-decoration-color: #0087ff\">LSTM</span>)                     │ ?                      │   <span style=\"color: #00af00; text-decoration-color: #00af00\">0</span> (unbuilt) │\n",
              "├─────────────────────────────────┼────────────────────────┼───────────────┤\n",
              "│ dense (<span style=\"color: #0087ff; text-decoration-color: #0087ff\">Dense</span>)                   │ ?                      │   <span style=\"color: #00af00; text-decoration-color: #00af00\">0</span> (unbuilt) │\n",
              "└─────────────────────────────────┴────────────────────────┴───────────────┘\n",
              "</pre>\n"
            ]
          },
          "metadata": {}
        },
        {
          "output_type": "display_data",
          "data": {
            "text/plain": [
              "\u001b[1m Total params: \u001b[0m\u001b[38;5;34m0\u001b[0m (0.00 B)\n"
            ],
            "text/html": [
              "<pre style=\"white-space:pre;overflow-x:auto;line-height:normal;font-family:Menlo,'DejaVu Sans Mono',consolas,'Courier New',monospace\"><span style=\"font-weight: bold\"> Total params: </span><span style=\"color: #00af00; text-decoration-color: #00af00\">0</span> (0.00 B)\n",
              "</pre>\n"
            ]
          },
          "metadata": {}
        },
        {
          "output_type": "display_data",
          "data": {
            "text/plain": [
              "\u001b[1m Trainable params: \u001b[0m\u001b[38;5;34m0\u001b[0m (0.00 B)\n"
            ],
            "text/html": [
              "<pre style=\"white-space:pre;overflow-x:auto;line-height:normal;font-family:Menlo,'DejaVu Sans Mono',consolas,'Courier New',monospace\"><span style=\"font-weight: bold\"> Trainable params: </span><span style=\"color: #00af00; text-decoration-color: #00af00\">0</span> (0.00 B)\n",
              "</pre>\n"
            ]
          },
          "metadata": {}
        },
        {
          "output_type": "display_data",
          "data": {
            "text/plain": [
              "\u001b[1m Non-trainable params: \u001b[0m\u001b[38;5;34m0\u001b[0m (0.00 B)\n"
            ],
            "text/html": [
              "<pre style=\"white-space:pre;overflow-x:auto;line-height:normal;font-family:Menlo,'DejaVu Sans Mono',consolas,'Courier New',monospace\"><span style=\"font-weight: bold\"> Non-trainable params: </span><span style=\"color: #00af00; text-decoration-color: #00af00\">0</span> (0.00 B)\n",
              "</pre>\n"
            ]
          },
          "metadata": {}
        }
      ]
    },
    {
      "cell_type": "markdown",
      "source": [
        "## 4 . 訓練神經網路模型\n",
        "* batch_size= 64，maxlen= 100\n",
        "\n",
        "* input shape (64, 100)\n",
        "\n",
        "* output shape：\n",
        "\n",
        "   Embedding → (64, 100, 128)  \n",
        "   LSTM(128) → (64, 128)       \n",
        "   Dense(1) → (64, 1)        "
      ],
      "metadata": {
        "id": "7kfh7gfSdujG"
      },
      "id": "7kfh7gfSdujG"
    },
    {
      "cell_type": "code",
      "source": [
        "model.compile(\n",
        "    loss='binary_crossentropy',\n",
        "    optimizer='adam',\n",
        "    metrics=['accuracy'])"
      ],
      "metadata": {
        "id": "eTy_DVrSckTG"
      },
      "id": "eTy_DVrSckTG",
      "execution_count": null,
      "outputs": []
    },
    {
      "cell_type": "code",
      "execution_count": null,
      "id": "03297b40",
      "metadata": {
        "id": "03297b40",
        "colab": {
          "base_uri": "https://localhost:8080/"
        },
        "outputId": "c814b553-aee9-4805-a61c-769452f03f7d"
      },
      "outputs": [
        {
          "output_type": "stream",
          "name": "stdout",
          "text": [
            "Epoch 1/10\n",
            "\u001b[1m313/313\u001b[0m \u001b[32m━━━━━━━━━━━━━━━━━━━━\u001b[0m\u001b[37m\u001b[0m \u001b[1m7s\u001b[0m 10ms/step - accuracy: 0.7316 - loss: 0.5233 - val_accuracy: 0.7978 - val_loss: 0.4515\n",
            "Epoch 2/10\n",
            "\u001b[1m313/313\u001b[0m \u001b[32m━━━━━━━━━━━━━━━━━━━━\u001b[0m\u001b[37m\u001b[0m \u001b[1m3s\u001b[0m 11ms/step - accuracy: 0.9020 - loss: 0.2525 - val_accuracy: 0.8782 - val_loss: 0.3074\n",
            "Epoch 3/10\n",
            "\u001b[1m313/313\u001b[0m \u001b[32m━━━━━━━━━━━━━━━━━━━━\u001b[0m\u001b[37m\u001b[0m \u001b[1m3s\u001b[0m 9ms/step - accuracy: 0.9350 - loss: 0.1817 - val_accuracy: 0.8280 - val_loss: 0.4451\n",
            "Epoch 4/10\n",
            "\u001b[1m313/313\u001b[0m \u001b[32m━━━━━━━━━━━━━━━━━━━━\u001b[0m\u001b[37m\u001b[0m \u001b[1m3s\u001b[0m 10ms/step - accuracy: 0.9577 - loss: 0.1185 - val_accuracy: 0.7876 - val_loss: 0.6235\n",
            "Epoch 5/10\n",
            "\u001b[1m313/313\u001b[0m \u001b[32m━━━━━━━━━━━━━━━━━━━━\u001b[0m\u001b[37m\u001b[0m \u001b[1m3s\u001b[0m 9ms/step - accuracy: 0.9708 - loss: 0.0848 - val_accuracy: 0.7694 - val_loss: 0.7350\n",
            "Epoch 6/10\n",
            "\u001b[1m313/313\u001b[0m \u001b[32m━━━━━━━━━━━━━━━━━━━━\u001b[0m\u001b[37m\u001b[0m \u001b[1m6s\u001b[0m 11ms/step - accuracy: 0.9767 - loss: 0.0727 - val_accuracy: 0.7780 - val_loss: 0.9245\n",
            "Epoch 7/10\n",
            "\u001b[1m313/313\u001b[0m \u001b[32m━━━━━━━━━━━━━━━━━━━━\u001b[0m\u001b[37m\u001b[0m \u001b[1m5s\u001b[0m 9ms/step - accuracy: 0.9819 - loss: 0.0579 - val_accuracy: 0.8312 - val_loss: 0.7199\n",
            "Epoch 8/10\n",
            "\u001b[1m313/313\u001b[0m \u001b[32m━━━━━━━━━━━━━━━━━━━━\u001b[0m\u001b[37m\u001b[0m \u001b[1m3s\u001b[0m 9ms/step - accuracy: 0.9872 - loss: 0.0415 - val_accuracy: 0.7648 - val_loss: 0.9529\n",
            "Epoch 9/10\n",
            "\u001b[1m313/313\u001b[0m \u001b[32m━━━━━━━━━━━━━━━━━━━━\u001b[0m\u001b[37m\u001b[0m \u001b[1m4s\u001b[0m 12ms/step - accuracy: 0.9890 - loss: 0.0349 - val_accuracy: 0.7832 - val_loss: 1.0733\n",
            "Epoch 10/10\n",
            "\u001b[1m313/313\u001b[0m \u001b[32m━━━━━━━━━━━━━━━━━━━━\u001b[0m\u001b[37m\u001b[0m \u001b[1m3s\u001b[0m 9ms/step - accuracy: 0.9954 - loss: 0.0179 - val_accuracy: 0.7460 - val_loss: 1.5508\n"
          ]
        }
      ],
      "source": [
        "history = model.fit(\n",
        "    x_train, y_train,\n",
        "    batch_size=64,\n",
        "    epochs=10,\n",
        "    validation_split=0.2)"
      ]
    },
    {
      "cell_type": "markdown",
      "source": [
        "## 5 . 顯示 loss & accuracy 折線圖"
      ],
      "metadata": {
        "id": "kvQogSt8d0F9"
      },
      "id": "kvQogSt8d0F9"
    },
    {
      "cell_type": "code",
      "source": [
        "def show_train_history(train_history, train, validation):\n",
        "    plt.plot(train_history.history[train])\n",
        "    plt.plot(train_history.history[validation])\n",
        "    plt.title(f'Train History: {train}')\n",
        "    plt.ylabel(train)\n",
        "    plt.xlabel('Epoch')\n",
        "    plt.legend(['train', 'validation'], loc='upper left')\n",
        "    plt.grid(True)\n",
        "    plt.show()\n",
        "\n",
        "show_train_history(history, 'accuracy', 'val_accuracy')\n",
        "show_train_history(history, 'loss', 'val_loss')"
      ],
      "metadata": {
        "colab": {
          "base_uri": "https://localhost:8080/",
          "height": 927
        },
        "id": "-HGNr-Mg-YoX",
        "outputId": "13897267-54ad-48c4-dfc5-3aa629578900"
      },
      "id": "-HGNr-Mg-YoX",
      "execution_count": null,
      "outputs": [
        {
          "output_type": "display_data",
          "data": {
            "text/plain": [
              "<Figure size 640x480 with 1 Axes>"
            ],
            "image/png": "[encoded data removed]"
          },
          "metadata": {}
        },
        {
          "output_type": "display_data",
          "data": {
            "text/plain": [
              "<Figure size 640x480 with 1 Axes>"
            ],
            "image/png": "[encoded data removed]"
          },
          "metadata": {}
        }
      ]
    },
    {
      "cell_type": "markdown",
      "source": [
        "## 6 . 評估模型準確率"
      ],
      "metadata": {
        "id": "7vG4rdE7d3Lt"
      },
      "id": "7vG4rdE7d3Lt"
    },
    {
      "cell_type": "code",
      "source": [
        "scores = model.evaluate(x_test, y_test)\n",
        "print(f\"Accuracy: {scores[1] * 100:.2f}%\")"
      ],
      "metadata": {
        "colab": {
          "base_uri": "https://localhost:8080/"
        },
        "id": "H0arBNvj_Li4",
        "outputId": "30611a4f-902c-4127-e753-952656c59c55"
      },
      "id": "H0arBNvj_Li4",
      "execution_count": null,
      "outputs": [
        {
          "output_type": "stream",
          "name": "stdout",
          "text": [
            "\u001b[1m782/782\u001b[0m \u001b[32m━━━━━━━━━━━━━━━━━━━━\u001b[0m\u001b[37m\u001b[0m \u001b[1m4s\u001b[0m 5ms/step - accuracy: 0.8669 - loss: 0.7787\n",
            "Accuracy: 81.28%\n"
          ]
        }
      ]
    },
    {
      "cell_type": "markdown",
      "source": [
        "# 三、儲存"
      ],
      "metadata": {
        "id": "AtVF_J7bfci6"
      },
      "id": "AtVF_J7bfci6"
    },
    {
      "cell_type": "code",
      "source": [
        "from google.colab import drive\n",
        "\n",
        "drive.mount('/content/drive')"
      ],
      "metadata": {
        "colab": {
          "base_uri": "https://localhost:8080/"
        },
        "id": "UHk-LIGTXjWA",
        "outputId": "acd3cdd0-af2d-4a7c-b038-411239e1ef86"
      },
      "id": "UHk-LIGTXjWA",
      "execution_count": null,
      "outputs": [
        {
          "output_type": "stream",
          "name": "stdout",
          "text": [
            "Mounted at /content/drive\n"
          ]
        }
      ]
    },
    {
      "cell_type": "code",
      "source": [
        "%cd '/content/drive/My Drive/Colab Notebooks'"
      ],
      "metadata": {
        "colab": {
          "base_uri": "https://localhost:8080/"
        },
        "id": "bDM_gQPmXmQ-",
        "outputId": "57f06870-1896-4faf-acaf-509ad1c12916"
      },
      "id": "bDM_gQPmXmQ-",
      "execution_count": null,
      "outputs": [
        {
          "output_type": "stream",
          "name": "stdout",
          "text": [
            "/content/drive/My Drive/Colab Notebooks\n"
          ]
        }
      ]
    },
    {
      "cell_type": "markdown",
      "source": [
        "## 1 . 儲存模型與權重"
      ],
      "metadata": {
        "id": "k0uJTfJ3d8_V"
      },
      "id": "k0uJTfJ3d8_V"
    },
    {
      "cell_type": "code",
      "source": [
        "model_json = model.to_json()\n",
        "with open('SaveModel/Imdb_LSTM_model.json', 'w') as f:\n",
        "  f.write(model_json)\n",
        "\n",
        "model.save_weights('SaveModel/Imdb_LSTM_model.weights.h5')"
      ],
      "metadata": {
        "id": "_djerfHWXPfB"
      },
      "id": "_djerfHWXPfB",
      "execution_count": null,
      "outputs": []
    },
    {
      "cell_type": "markdown",
      "source": [
        "## 2 . 儲存 tokenizer\n"
      ],
      "metadata": {
        "id": "9g_yfAPGeCCl"
      },
      "id": "9g_yfAPGeCCl"
    },
    {
      "cell_type": "code",
      "execution_count": null,
      "id": "23f6aabd",
      "metadata": {
        "id": "23f6aabd"
      },
      "outputs": [],
      "source": [
        "import pickle\n",
        "\n",
        "with open('SaveModel/imdb_tokenizer_10000.pkl', 'wb') as f:\n",
        "  pickle.dump(tokenizer, f)"
      ]
    }
  ],
  "metadata": {
    "colab": {
      "provenance": [],
      "gpuType": "T4",
      "toc_visible": true,
      "include_colab_link": true
    },
    "language_info": {
      "name": "python"
    },
    "kernelspec": {
      "name": "python3",
      "display_name": "Python 3"
    },
    "accelerator": "GPU"
  },
  "nbformat": 4,
  "nbformat_minor": 5
}