{
  "nbformat": 4,
  "nbformat_minor": 0,
  "metadata": {
    "colab": {
      "provenance": [],
      "toc_visible": true,
      "gpuType": "T4",
      "include_colab_link": true
    },
    "kernelspec": {
      "name": "python3",
      "display_name": "Python 3"
    },
    "language_info": {
      "name": "python"
    },
    "accelerator": "GPU"
  },
  "cells": [
    {
      "cell_type": "markdown",
      "metadata": {
        "id": "view-in-github",
        "colab_type": "text"
      },
      "source": [
        "<a href=\"https://colab.research.google.com/github/FANG87003/2025_ML_hws/blob/main/hw3.ipynb\" target=\"_parent\"><img src=\"https://colab.research.google.com/assets/colab-badge.svg\" alt=\"Open In Colab\"/></a>"
      ]
    },
    {
      "cell_type": "markdown",
      "source": [
        "# 113-2 深度學習 作業 3"
      ],
      "metadata": {
        "id": "_CtmUpqz9Xdt"
      }
    },
    {
      "cell_type": "markdown",
      "source": [
        "## 載入套件"
      ],
      "metadata": {
        "id": "uIF78ELHhxmy"
      }
    },
    {
      "cell_type": "code",
      "source": [
        "import numpy as np\n",
        "import matplotlib.pyplot as plt"
      ],
      "metadata": {
        "id": "6LLCHLKmSaV2"
      },
      "execution_count": 1,
      "outputs": []
    },
    {
      "cell_type": "code",
      "source": [
        "from tensorflow.keras.utils import to_categorical\n",
        "from tensorflow.keras.models import Sequential\n",
        "from tensorflow.keras.layers import Dense, Dropout\n",
        "from tensorflow.keras.datasets import fashion_mnist\n",
        "from tensorflow.keras.optimizers import Adam\n",
        "from tensorflow.keras.layers import InputLayer"
      ],
      "metadata": {
        "id": "lgjv0af5S4jt"
      },
      "execution_count": 2,
      "outputs": []
    },
    {
      "cell_type": "markdown",
      "source": [
        "## 一、資料預處理"
      ],
      "metadata": {
        "id": "07IlyHwJ9cof"
      }
    },
    {
      "cell_type": "code",
      "source": [
        "(x_train, y_train), (x_test, y_test) = fashion_mnist.load_data()"
      ],
      "metadata": {
        "colab": {
          "base_uri": "https://localhost:8080/"
        },
        "id": "p2VsUjKbTYaC",
        "outputId": "81cff824-004b-406b-dadd-85768382dd8f"
      },
      "execution_count": 3,
      "outputs": [
        {
          "output_type": "stream",
          "name": "stdout",
          "text": [
            "Downloading data from https://storage.googleapis.com/tensorflow/tf-keras-datasets/train-labels-idx1-ubyte.gz\n",
            "\u001b[1m29515/29515\u001b[0m \u001b[32m━━━━━━━━━━━━━━━━━━━━\u001b[0m\u001b[37m\u001b[0m \u001b[1m0s\u001b[0m 0us/step\n",
            "Downloading data from https://storage.googleapis.com/tensorflow/tf-keras-datasets/train-images-idx3-ubyte.gz\n",
            "\u001b[1m26421880/26421880\u001b[0m \u001b[32m━━━━━━━━━━━━━━━━━━━━\u001b[0m\u001b[37m\u001b[0m \u001b[1m1s\u001b[0m 0us/step\n",
            "Downloading data from https://storage.googleapis.com/tensorflow/tf-keras-datasets/t10k-labels-idx1-ubyte.gz\n",
            "\u001b[1m5148/5148\u001b[0m \u001b[32m━━━━━━━━━━━━━━━━━━━━\u001b[0m\u001b[37m\u001b[0m \u001b[1m0s\u001b[0m 0us/step\n",
            "Downloading data from https://storage.googleapis.com/tensorflow/tf-keras-datasets/t10k-images-idx3-ubyte.gz\n",
            "\u001b[1m4422102/4422102\u001b[0m \u001b[32m━━━━━━━━━━━━━━━━━━━━\u001b[0m\u001b[37m\u001b[0m \u001b[1m1s\u001b[0m 0us/step\n"
          ]
        }
      ]
    },
    {
      "cell_type": "code",
      "source": [
        "# 顯示資料形狀\n",
        "print(\"x_train:\", x_train.shape)\n",
        "print(\"x_test:\", x_test.shape)"
      ],
      "metadata": {
        "colab": {
          "base_uri": "https://localhost:8080/"
        },
        "id": "scMAD2z0TnTC",
        "outputId": "c03864ea-7cb9-44b1-c81e-f464ce761588"
      },
      "execution_count": 4,
      "outputs": [
        {
          "output_type": "stream",
          "name": "stdout",
          "text": [
            "x_train: (60000, 28, 28)\n",
            "x_test: (10000, 28, 28)\n"
          ]
        }
      ]
    },
    {
      "cell_type": "markdown",
      "source": [
        "### 正規化 & reshape"
      ],
      "metadata": {
        "id": "KGcJXlvRjKRj"
      }
    },
    {
      "cell_type": "code",
      "source": [
        "x_train_normalize = x_train.reshape(60000, 784).astype('float32') / 255\n",
        "x_test_normalize = x_test.reshape(10000, 784).astype('float32') / 255"
      ],
      "metadata": {
        "id": "sJPd7efNU5pY"
      },
      "execution_count": 5,
      "outputs": []
    },
    {
      "cell_type": "markdown",
      "source": [
        "### One-hot encoding"
      ],
      "metadata": {
        "id": "AHPdTMd8jQeA"
      }
    },
    {
      "cell_type": "code",
      "source": [
        "y_train_oh = to_categorical(y_train, 10)\n",
        "y_test_oh = to_categorical(y_test, 10)"
      ],
      "metadata": {
        "id": "hRd9GxGIVpcj"
      },
      "execution_count": 6,
      "outputs": []
    },
    {
      "cell_type": "markdown",
      "source": [
        "### 顯示三張訓練圖片與真實標籤"
      ],
      "metadata": {
        "id": "iYJN7p-zjWs8"
      }
    },
    {
      "cell_type": "code",
      "source": [
        "labels = [\"T-shirt/top\", \"Trouser\", \"Pullover\",\n",
        "      \"Dress\", \"Coat\", \"Sandal\",\n",
        "      \"Shirt\", \"Sneaker\", \"Bag\",\n",
        "      \"Ankle boot\"]\n",
        "\n",
        "\n",
        "plt.figure(figsize=(10, 4))\n",
        "for i in range(3):\n",
        "    plt.subplot(1, 3, i+1)\n",
        "    plt.imshow(x_train[i], cmap='gray')\n",
        "    plt.title(f\"True Label: {labels[y_train[i]]}\")\n",
        "    plt.axis('off')\n",
        "plt.show()"
      ],
      "metadata": {
        "colab": {
          "base_uri": "https://localhost:8080/",
          "height": 287
        },
        "id": "JuD3ul8pem_c",
        "outputId": "b4657e68-6173-4d06-ead6-14d31898d14e"
      },
      "execution_count": 7,
      "outputs": [
        {
          "output_type": "display_data",
          "data": {
            "text/plain": [
              "<Figure size 1000x400 with 3 Axes>"
            ],
            "image/png": "[encoded data removed]"
          },
          "metadata": {}
        }
      ]
    },
    {
      "cell_type": "markdown",
      "source": [
        "## 二、建立神經網路模型"
      ],
      "metadata": {
        "id": "AFgHr-j19uXY"
      }
    },
    {
      "cell_type": "code",
      "source": [
        "model = Sequential()"
      ],
      "metadata": {
        "id": "xKh8yEfhV9w8"
      },
      "execution_count": 8,
      "outputs": []
    },
    {
      "cell_type": "markdown",
      "source": [
        "### 輸入層"
      ],
      "metadata": {
        "id": "n7Zq06hWjvU5"
      }
    },
    {
      "cell_type": "code",
      "source": [
        "model.add(InputLayer(shape=(784,)))\n",
        "model.add(Dropout(0.2))"
      ],
      "metadata": {
        "id": "k1seVNDaQ7vU"
      },
      "execution_count": 9,
      "outputs": []
    },
    {
      "cell_type": "markdown",
      "source": [
        "### 第一隱藏層"
      ],
      "metadata": {
        "id": "N1r5FG_Lj0SX"
      }
    },
    {
      "cell_type": "code",
      "source": [
        "model.add(Dense(512, kernel_initializer='he_normal', activation='relu'))\n",
        "model.add(Dropout(0.4))"
      ],
      "metadata": {
        "id": "vw2kto9pWdUO"
      },
      "execution_count": 10,
      "outputs": []
    },
    {
      "cell_type": "markdown",
      "source": [
        "### 第二隱藏層"
      ],
      "metadata": {
        "id": "Yf9L-QP1j30U"
      }
    },
    {
      "cell_type": "code",
      "source": [
        "model.add(Dense(256, kernel_initializer='he_normal', activation='relu'))\n",
        "model.add(Dropout(0.2))"
      ],
      "metadata": {
        "id": "BrFqo9n2YoJ9"
      },
      "execution_count": 11,
      "outputs": []
    },
    {
      "cell_type": "markdown",
      "source": [
        "### 第三隱藏層"
      ],
      "metadata": {
        "id": "s7ZfTUVQj5_7"
      }
    },
    {
      "cell_type": "code",
      "source": [
        "model.add(Dense(128, kernel_initializer='he_normal', activation='relu'))\n",
        "model.add(Dropout(0.2))"
      ],
      "metadata": {
        "id": "-cFxEDlGV_75"
      },
      "execution_count": 12,
      "outputs": []
    },
    {
      "cell_type": "markdown",
      "source": [
        "### 輸出層"
      ],
      "metadata": {
        "id": "iLJe6Cigj72v"
      }
    },
    {
      "cell_type": "code",
      "source": [
        "model.add(Dense(units=10, kernel_initializer='he_normal', activation='softmax'))"
      ],
      "metadata": {
        "id": "3ETu0-ogYyV9"
      },
      "execution_count": 13,
      "outputs": []
    },
    {
      "cell_type": "code",
      "source": [
        "model.summary()"
      ],
      "metadata": {
        "colab": {
          "base_uri": "https://localhost:8080/",
          "height": 385
        },
        "id": "Azq2JTTDW62I",
        "outputId": "0a74aaa2-20ed-4310-bea2-6e3915690640"
      },
      "execution_count": 14,
      "outputs": [
        {
          "output_type": "display_data",
          "data": {
            "text/plain": [
              "\u001b[1mModel: \"sequential\"\u001b[0m\n"
            ],
            "text/html": [
              "<pre style=\"white-space:pre;overflow-x:auto;line-height:normal;font-family:Menlo,'DejaVu Sans Mono',consolas,'Courier New',monospace\"><span style=\"font-weight: bold\">Model: \"sequential\"</span>\n",
              "</pre>\n"
            ]
          },
          "metadata": {}
        },
        {
          "output_type": "display_data",
          "data": {
            "text/plain": [
              "┏━━━━━━━━━━━━━━━━━━━━━━━━━━━━━━━━━┳━━━━━━━━━━━━━━━━━━━━━━━━┳━━━━━━━━━━━━━━━┓\n",
              "┃\u001b[1m \u001b[0m\u001b[1mLayer (type)                   \u001b[0m\u001b[1m \u001b[0m┃\u001b[1m \u001b[0m\u001b[1mOutput Shape          \u001b[0m\u001b[1m \u001b[0m┃\u001b[1m \u001b[0m\u001b[1m      Param #\u001b[0m\u001b[1m \u001b[0m┃\n",
              "┡━━━━━━━━━━━━━━━━━━━━━━━━━━━━━━━━━╇━━━━━━━━━━━━━━━━━━━━━━━━╇━━━━━━━━━━━━━━━┩\n",
              "│ dropout (\u001b[38;5;33mDropout\u001b[0m)               │ (\u001b[38;5;45mNone\u001b[0m, \u001b[38;5;34m784\u001b[0m)            │             \u001b[38;5;34m0\u001b[0m │\n",
              "├─────────────────────────────────┼────────────────────────┼───────────────┤\n",
              "│ dense (\u001b[38;5;33mDense\u001b[0m)                   │ (\u001b[38;5;45mNone\u001b[0m, \u001b[38;5;34m512\u001b[0m)            │       \u001b[38;5;34m401,920\u001b[0m │\n",
              "├─────────────────────────────────┼────────────────────────┼───────────────┤\n",
              "│ dropout_1 (\u001b[38;5;33mDropout\u001b[0m)             │ (\u001b[38;5;45mNone\u001b[0m, \u001b[38;5;34m512\u001b[0m)            │             \u001b[38;5;34m0\u001b[0m │\n",
              "├─────────────────────────────────┼────────────────────────┼───────────────┤\n",
              "│ dense_1 (\u001b[38;5;33mDense\u001b[0m)                 │ (\u001b[38;5;45mNone\u001b[0m, \u001b[38;5;34m256\u001b[0m)            │       \u001b[38;5;34m131,328\u001b[0m │\n",
              "├─────────────────────────────────┼────────────────────────┼───────────────┤\n",
              "│ dropout_2 (\u001b[38;5;33mDropout\u001b[0m)             │ (\u001b[38;5;45mNone\u001b[0m, \u001b[38;5;34m256\u001b[0m)            │             \u001b[38;5;34m0\u001b[0m │\n",
              "├─────────────────────────────────┼────────────────────────┼───────────────┤\n",
              "│ dense_2 (\u001b[38;5;33mDense\u001b[0m)                 │ (\u001b[38;5;45mNone\u001b[0m, \u001b[38;5;34m128\u001b[0m)            │        \u001b[38;5;34m32,896\u001b[0m │\n",
              "├─────────────────────────────────┼────────────────────────┼───────────────┤\n",
              "│ dropout_3 (\u001b[38;5;33mDropout\u001b[0m)             │ (\u001b[38;5;45mNone\u001b[0m, \u001b[38;5;34m128\u001b[0m)            │             \u001b[38;5;34m0\u001b[0m │\n",
              "├─────────────────────────────────┼────────────────────────┼───────────────┤\n",
              "│ dense_3 (\u001b[38;5;33mDense\u001b[0m)                 │ (\u001b[38;5;45mNone\u001b[0m, \u001b[38;5;34m10\u001b[0m)             │         \u001b[38;5;34m1,290\u001b[0m │\n",
              "└─────────────────────────────────┴────────────────────────┴───────────────┘\n"
            ],
            "text/html": [
              "<pre style=\"white-space:pre;overflow-x:auto;line-height:normal;font-family:Menlo,'DejaVu Sans Mono',consolas,'Courier New',monospace\">┏━━━━━━━━━━━━━━━━━━━━━━━━━━━━━━━━━┳━━━━━━━━━━━━━━━━━━━━━━━━┳━━━━━━━━━━━━━━━┓\n",
              "┃<span style=\"font-weight: bold\"> Layer (type)                    </span>┃<span style=\"font-weight: bold\"> Output Shape           </span>┃<span style=\"font-weight: bold\">       Param # </span>┃\n",
              "┡━━━━━━━━━━━━━━━━━━━━━━━━━━━━━━━━━╇━━━━━━━━━━━━━━━━━━━━━━━━╇━━━━━━━━━━━━━━━┩\n",
              "│ dropout (<span style=\"color: #0087ff; text-decoration-color: #0087ff\">Dropout</span>)               │ (<span style=\"color: #00d7ff; text-decoration-color: #00d7ff\">None</span>, <span style=\"color: #00af00; text-decoration-color: #00af00\">784</span>)            │             <span style=\"color: #00af00; text-decoration-color: #00af00\">0</span> │\n",
              "├─────────────────────────────────┼────────────────────────┼───────────────┤\n",
              "│ dense (<span style=\"color: #0087ff; text-decoration-color: #0087ff\">Dense</span>)                   │ (<span style=\"color: #00d7ff; text-decoration-color: #00d7ff\">None</span>, <span style=\"color: #00af00; text-decoration-color: #00af00\">512</span>)            │       <span style=\"color: #00af00; text-decoration-color: #00af00\">401,920</span> │\n",
              "├─────────────────────────────────┼────────────────────────┼───────────────┤\n",
              "│ dropout_1 (<span style=\"color: #0087ff; text-decoration-color: #0087ff\">Dropout</span>)             │ (<span style=\"color: #00d7ff; text-decoration-color: #00d7ff\">None</span>, <span style=\"color: #00af00; text-decoration-color: #00af00\">512</span>)            │             <span style=\"color: #00af00; text-decoration-color: #00af00\">0</span> │\n",
              "├─────────────────────────────────┼────────────────────────┼───────────────┤\n",
              "│ dense_1 (<span style=\"color: #0087ff; text-decoration-color: #0087ff\">Dense</span>)                 │ (<span style=\"color: #00d7ff; text-decoration-color: #00d7ff\">None</span>, <span style=\"color: #00af00; text-decoration-color: #00af00\">256</span>)            │       <span style=\"color: #00af00; text-decoration-color: #00af00\">131,328</span> │\n",
              "├─────────────────────────────────┼────────────────────────┼───────────────┤\n",
              "│ dropout_2 (<span style=\"color: #0087ff; text-decoration-color: #0087ff\">Dropout</span>)             │ (<span style=\"color: #00d7ff; text-decoration-color: #00d7ff\">None</span>, <span style=\"color: #00af00; text-decoration-color: #00af00\">256</span>)            │             <span style=\"color: #00af00; text-decoration-color: #00af00\">0</span> │\n",
              "├─────────────────────────────────┼────────────────────────┼───────────────┤\n",
              "│ dense_2 (<span style=\"color: #0087ff; text-decoration-color: #0087ff\">Dense</span>)                 │ (<span style=\"color: #00d7ff; text-decoration-color: #00d7ff\">None</span>, <span style=\"color: #00af00; text-decoration-color: #00af00\">128</span>)            │        <span style=\"color: #00af00; text-decoration-color: #00af00\">32,896</span> │\n",
              "├─────────────────────────────────┼────────────────────────┼───────────────┤\n",
              "│ dropout_3 (<span style=\"color: #0087ff; text-decoration-color: #0087ff\">Dropout</span>)             │ (<span style=\"color: #00d7ff; text-decoration-color: #00d7ff\">None</span>, <span style=\"color: #00af00; text-decoration-color: #00af00\">128</span>)            │             <span style=\"color: #00af00; text-decoration-color: #00af00\">0</span> │\n",
              "├─────────────────────────────────┼────────────────────────┼───────────────┤\n",
              "│ dense_3 (<span style=\"color: #0087ff; text-decoration-color: #0087ff\">Dense</span>)                 │ (<span style=\"color: #00d7ff; text-decoration-color: #00d7ff\">None</span>, <span style=\"color: #00af00; text-decoration-color: #00af00\">10</span>)             │         <span style=\"color: #00af00; text-decoration-color: #00af00\">1,290</span> │\n",
              "└─────────────────────────────────┴────────────────────────┴───────────────┘\n",
              "</pre>\n"
            ]
          },
          "metadata": {}
        },
        {
          "output_type": "display_data",
          "data": {
            "text/plain": [
              "\u001b[1m Total params: \u001b[0m\u001b[38;5;34m567,434\u001b[0m (2.16 MB)\n"
            ],
            "text/html": [
              "<pre style=\"white-space:pre;overflow-x:auto;line-height:normal;font-family:Menlo,'DejaVu Sans Mono',consolas,'Courier New',monospace\"><span style=\"font-weight: bold\"> Total params: </span><span style=\"color: #00af00; text-decoration-color: #00af00\">567,434</span> (2.16 MB)\n",
              "</pre>\n"
            ]
          },
          "metadata": {}
        },
        {
          "output_type": "display_data",
          "data": {
            "text/plain": [
              "\u001b[1m Trainable params: \u001b[0m\u001b[38;5;34m567,434\u001b[0m (2.16 MB)\n"
            ],
            "text/html": [
              "<pre style=\"white-space:pre;overflow-x:auto;line-height:normal;font-family:Menlo,'DejaVu Sans Mono',consolas,'Courier New',monospace\"><span style=\"font-weight: bold\"> Trainable params: </span><span style=\"color: #00af00; text-decoration-color: #00af00\">567,434</span> (2.16 MB)\n",
              "</pre>\n"
            ]
          },
          "metadata": {}
        },
        {
          "output_type": "display_data",
          "data": {
            "text/plain": [
              "\u001b[1m Non-trainable params: \u001b[0m\u001b[38;5;34m0\u001b[0m (0.00 B)\n"
            ],
            "text/html": [
              "<pre style=\"white-space:pre;overflow-x:auto;line-height:normal;font-family:Menlo,'DejaVu Sans Mono',consolas,'Courier New',monospace\"><span style=\"font-weight: bold\"> Non-trainable params: </span><span style=\"color: #00af00; text-decoration-color: #00af00\">0</span> (0.00 B)\n",
              "</pre>\n"
            ]
          },
          "metadata": {}
        }
      ]
    },
    {
      "cell_type": "markdown",
      "source": [
        "## 三、訓練神經網路模型"
      ],
      "metadata": {
        "id": "v8U4QfdR9-tG"
      }
    },
    {
      "cell_type": "code",
      "source": [
        "model.compile(\n",
        "    loss='categorical_crossentropy',\n",
        "    optimizer=Adam(0.000239),\n",
        "    #optimizer='adam',\n",
        "    metrics=['accuracy'])"
      ],
      "metadata": {
        "id": "KSJWGz81a2hL"
      },
      "execution_count": 15,
      "outputs": []
    },
    {
      "cell_type": "code",
      "source": [
        "train_history = model.fit(\n",
        "    x_train_normalize, y_train_oh,\n",
        "    validation_split=0.2,\n",
        "    epochs=200,\n",
        "    batch_size=256,\n",
        "    verbose=2)"
      ],
      "metadata": {
        "colab": {
          "base_uri": "https://localhost:8080/"
        },
        "id": "QeEwW6_2-E5d",
        "outputId": "2cd88141-826a-4422-d778-850a7bdd6a7c"
      },
      "execution_count": 16,
      "outputs": [
        {
          "output_type": "stream",
          "name": "stdout",
          "text": [
            "Epoch 1/200\n",
            "188/188 - 9s - 50ms/step - accuracy: 0.6168 - loss: 1.0661 - val_accuracy: 0.7834 - val_loss: 0.5872\n",
            "Epoch 2/200\n",
            "188/188 - 1s - 3ms/step - accuracy: 0.7624 - loss: 0.6562 - val_accuracy: 0.8175 - val_loss: 0.4967\n",
            "Epoch 3/200\n",
            "188/188 - 1s - 3ms/step - accuracy: 0.7949 - loss: 0.5748 - val_accuracy: 0.8326 - val_loss: 0.4584\n",
            "Epoch 4/200\n",
            "188/188 - 1s - 4ms/step - accuracy: 0.8090 - loss: 0.5306 - val_accuracy: 0.8429 - val_loss: 0.4352\n",
            "Epoch 5/200\n",
            "188/188 - 1s - 5ms/step - accuracy: 0.8181 - loss: 0.5004 - val_accuracy: 0.8472 - val_loss: 0.4152\n",
            "Epoch 6/200\n",
            "188/188 - 1s - 5ms/step - accuracy: 0.8283 - loss: 0.4765 - val_accuracy: 0.8534 - val_loss: 0.3990\n",
            "Epoch 7/200\n",
            "188/188 - 1s - 5ms/step - accuracy: 0.8321 - loss: 0.4611 - val_accuracy: 0.8591 - val_loss: 0.3879\n",
            "Epoch 8/200\n",
            "188/188 - 1s - 4ms/step - accuracy: 0.8378 - loss: 0.4451 - val_accuracy: 0.8668 - val_loss: 0.3706\n",
            "Epoch 9/200\n",
            "188/188 - 1s - 4ms/step - accuracy: 0.8411 - loss: 0.4338 - val_accuracy: 0.8662 - val_loss: 0.3742\n",
            "Epoch 10/200\n",
            "188/188 - 1s - 4ms/step - accuracy: 0.8459 - loss: 0.4237 - val_accuracy: 0.8670 - val_loss: 0.3720\n",
            "Epoch 11/200\n",
            "188/188 - 1s - 7ms/step - accuracy: 0.8492 - loss: 0.4102 - val_accuracy: 0.8653 - val_loss: 0.3692\n",
            "Epoch 12/200\n",
            "188/188 - 1s - 7ms/step - accuracy: 0.8504 - loss: 0.4088 - val_accuracy: 0.8702 - val_loss: 0.3592\n",
            "Epoch 13/200\n",
            "188/188 - 1s - 4ms/step - accuracy: 0.8533 - loss: 0.3992 - val_accuracy: 0.8711 - val_loss: 0.3579\n",
            "Epoch 14/200\n",
            "188/188 - 1s - 4ms/step - accuracy: 0.8559 - loss: 0.3904 - val_accuracy: 0.8759 - val_loss: 0.3425\n",
            "Epoch 15/200\n",
            "188/188 - 1s - 4ms/step - accuracy: 0.8574 - loss: 0.3858 - val_accuracy: 0.8792 - val_loss: 0.3412\n",
            "Epoch 16/200\n",
            "188/188 - 1s - 7ms/step - accuracy: 0.8600 - loss: 0.3822 - val_accuracy: 0.8758 - val_loss: 0.3426\n",
            "Epoch 17/200\n",
            "188/188 - 1s - 4ms/step - accuracy: 0.8628 - loss: 0.3736 - val_accuracy: 0.8766 - val_loss: 0.3377\n",
            "Epoch 18/200\n",
            "188/188 - 2s - 8ms/step - accuracy: 0.8631 - loss: 0.3713 - val_accuracy: 0.8802 - val_loss: 0.3366\n",
            "Epoch 19/200\n",
            "188/188 - 1s - 6ms/step - accuracy: 0.8639 - loss: 0.3674 - val_accuracy: 0.8770 - val_loss: 0.3355\n",
            "Epoch 20/200\n",
            "188/188 - 1s - 4ms/step - accuracy: 0.8669 - loss: 0.3632 - val_accuracy: 0.8792 - val_loss: 0.3297\n",
            "Epoch 21/200\n",
            "188/188 - 1s - 7ms/step - accuracy: 0.8658 - loss: 0.3586 - val_accuracy: 0.8817 - val_loss: 0.3300\n",
            "Epoch 22/200\n",
            "188/188 - 1s - 3ms/step - accuracy: 0.8701 - loss: 0.3539 - val_accuracy: 0.8816 - val_loss: 0.3252\n",
            "Epoch 23/200\n",
            "188/188 - 1s - 3ms/step - accuracy: 0.8700 - loss: 0.3504 - val_accuracy: 0.8838 - val_loss: 0.3167\n",
            "Epoch 24/200\n",
            "188/188 - 1s - 4ms/step - accuracy: 0.8721 - loss: 0.3440 - val_accuracy: 0.8824 - val_loss: 0.3208\n",
            "Epoch 25/200\n",
            "188/188 - 1s - 7ms/step - accuracy: 0.8726 - loss: 0.3443 - val_accuracy: 0.8859 - val_loss: 0.3164\n",
            "Epoch 26/200\n",
            "188/188 - 1s - 7ms/step - accuracy: 0.8728 - loss: 0.3416 - val_accuracy: 0.8828 - val_loss: 0.3206\n",
            "Epoch 27/200\n",
            "188/188 - 1s - 4ms/step - accuracy: 0.8764 - loss: 0.3357 - val_accuracy: 0.8860 - val_loss: 0.3108\n",
            "Epoch 28/200\n",
            "188/188 - 1s - 6ms/step - accuracy: 0.8765 - loss: 0.3333 - val_accuracy: 0.8861 - val_loss: 0.3125\n",
            "Epoch 29/200\n",
            "188/188 - 1s - 7ms/step - accuracy: 0.8768 - loss: 0.3284 - val_accuracy: 0.8869 - val_loss: 0.3100\n",
            "Epoch 30/200\n",
            "188/188 - 1s - 8ms/step - accuracy: 0.8773 - loss: 0.3272 - val_accuracy: 0.8864 - val_loss: 0.3110\n",
            "Epoch 31/200\n",
            "188/188 - 1s - 4ms/step - accuracy: 0.8770 - loss: 0.3277 - val_accuracy: 0.8879 - val_loss: 0.3118\n",
            "Epoch 32/200\n",
            "188/188 - 1s - 6ms/step - accuracy: 0.8800 - loss: 0.3224 - val_accuracy: 0.8874 - val_loss: 0.3060\n",
            "Epoch 33/200\n",
            "188/188 - 1s - 4ms/step - accuracy: 0.8797 - loss: 0.3206 - val_accuracy: 0.8886 - val_loss: 0.3076\n",
            "Epoch 34/200\n",
            "188/188 - 1s - 7ms/step - accuracy: 0.8798 - loss: 0.3188 - val_accuracy: 0.8883 - val_loss: 0.3041\n",
            "Epoch 35/200\n",
            "188/188 - 1s - 3ms/step - accuracy: 0.8823 - loss: 0.3149 - val_accuracy: 0.8876 - val_loss: 0.3042\n",
            "Epoch 36/200\n",
            "188/188 - 1s - 7ms/step - accuracy: 0.8825 - loss: 0.3142 - val_accuracy: 0.8919 - val_loss: 0.2997\n",
            "Epoch 37/200\n",
            "188/188 - 1s - 4ms/step - accuracy: 0.8824 - loss: 0.3120 - val_accuracy: 0.8898 - val_loss: 0.3007\n",
            "Epoch 38/200\n",
            "188/188 - 1s - 4ms/step - accuracy: 0.8856 - loss: 0.3080 - val_accuracy: 0.8892 - val_loss: 0.3016\n",
            "Epoch 39/200\n",
            "188/188 - 1s - 3ms/step - accuracy: 0.8835 - loss: 0.3070 - val_accuracy: 0.8903 - val_loss: 0.2995\n",
            "Epoch 40/200\n",
            "188/188 - 1s - 7ms/step - accuracy: 0.8851 - loss: 0.3013 - val_accuracy: 0.8904 - val_loss: 0.2990\n",
            "Epoch 41/200\n",
            "188/188 - 1s - 7ms/step - accuracy: 0.8853 - loss: 0.3052 - val_accuracy: 0.8878 - val_loss: 0.3040\n",
            "Epoch 42/200\n",
            "188/188 - 2s - 9ms/step - accuracy: 0.8850 - loss: 0.3038 - val_accuracy: 0.8910 - val_loss: 0.2965\n",
            "Epoch 43/200\n",
            "188/188 - 1s - 5ms/step - accuracy: 0.8886 - loss: 0.2959 - val_accuracy: 0.8942 - val_loss: 0.2882\n",
            "Epoch 44/200\n",
            "188/188 - 1s - 3ms/step - accuracy: 0.8876 - loss: 0.2981 - val_accuracy: 0.8915 - val_loss: 0.2916\n",
            "Epoch 45/200\n",
            "188/188 - 1s - 7ms/step - accuracy: 0.8859 - loss: 0.2993 - val_accuracy: 0.8928 - val_loss: 0.2960\n",
            "Epoch 46/200\n",
            "188/188 - 1s - 3ms/step - accuracy: 0.8886 - loss: 0.2945 - val_accuracy: 0.8930 - val_loss: 0.2960\n",
            "Epoch 47/200\n",
            "188/188 - 1s - 7ms/step - accuracy: 0.8880 - loss: 0.2950 - val_accuracy: 0.8935 - val_loss: 0.2921\n",
            "Epoch 48/200\n",
            "188/188 - 1s - 3ms/step - accuracy: 0.8900 - loss: 0.2903 - val_accuracy: 0.8921 - val_loss: 0.2944\n",
            "Epoch 49/200\n",
            "188/188 - 1s - 4ms/step - accuracy: 0.8925 - loss: 0.2890 - val_accuracy: 0.8927 - val_loss: 0.2946\n",
            "Epoch 50/200\n",
            "188/188 - 1s - 7ms/step - accuracy: 0.8913 - loss: 0.2885 - val_accuracy: 0.8945 - val_loss: 0.2878\n",
            "Epoch 51/200\n",
            "188/188 - 1s - 7ms/step - accuracy: 0.8922 - loss: 0.2845 - val_accuracy: 0.8932 - val_loss: 0.2867\n",
            "Epoch 52/200\n",
            "188/188 - 1s - 4ms/step - accuracy: 0.8914 - loss: 0.2858 - val_accuracy: 0.8946 - val_loss: 0.2868\n",
            "Epoch 53/200\n",
            "188/188 - 1s - 5ms/step - accuracy: 0.8936 - loss: 0.2833 - val_accuracy: 0.8930 - val_loss: 0.2905\n",
            "Epoch 54/200\n",
            "188/188 - 1s - 8ms/step - accuracy: 0.8936 - loss: 0.2802 - val_accuracy: 0.8943 - val_loss: 0.2887\n",
            "Epoch 55/200\n",
            "188/188 - 1s - 4ms/step - accuracy: 0.8932 - loss: 0.2817 - val_accuracy: 0.8944 - val_loss: 0.2889\n",
            "Epoch 56/200\n",
            "188/188 - 1s - 7ms/step - accuracy: 0.8941 - loss: 0.2804 - val_accuracy: 0.8957 - val_loss: 0.2840\n",
            "Epoch 57/200\n",
            "188/188 - 1s - 7ms/step - accuracy: 0.8954 - loss: 0.2791 - val_accuracy: 0.8944 - val_loss: 0.2873\n",
            "Epoch 58/200\n",
            "188/188 - 1s - 4ms/step - accuracy: 0.8961 - loss: 0.2754 - val_accuracy: 0.8966 - val_loss: 0.2849\n",
            "Epoch 59/200\n",
            "188/188 - 1s - 7ms/step - accuracy: 0.8951 - loss: 0.2736 - val_accuracy: 0.8964 - val_loss: 0.2878\n",
            "Epoch 60/200\n",
            "188/188 - 1s - 4ms/step - accuracy: 0.8953 - loss: 0.2769 - val_accuracy: 0.8946 - val_loss: 0.2855\n",
            "Epoch 61/200\n",
            "188/188 - 1s - 5ms/step - accuracy: 0.8949 - loss: 0.2720 - val_accuracy: 0.8938 - val_loss: 0.2882\n",
            "Epoch 62/200\n",
            "188/188 - 1s - 5ms/step - accuracy: 0.8975 - loss: 0.2703 - val_accuracy: 0.8952 - val_loss: 0.2861\n",
            "Epoch 63/200\n",
            "188/188 - 1s - 4ms/step - accuracy: 0.8995 - loss: 0.2691 - val_accuracy: 0.8942 - val_loss: 0.2852\n",
            "Epoch 64/200\n",
            "188/188 - 1s - 7ms/step - accuracy: 0.8972 - loss: 0.2706 - val_accuracy: 0.8957 - val_loss: 0.2839\n",
            "Epoch 65/200\n",
            "188/188 - 2s - 9ms/step - accuracy: 0.8988 - loss: 0.2689 - val_accuracy: 0.8953 - val_loss: 0.2852\n",
            "Epoch 66/200\n",
            "188/188 - 1s - 4ms/step - accuracy: 0.8980 - loss: 0.2666 - val_accuracy: 0.8936 - val_loss: 0.2860\n",
            "Epoch 67/200\n",
            "188/188 - 1s - 4ms/step - accuracy: 0.8978 - loss: 0.2684 - val_accuracy: 0.8956 - val_loss: 0.2855\n",
            "Epoch 68/200\n",
            "188/188 - 1s - 6ms/step - accuracy: 0.9004 - loss: 0.2642 - val_accuracy: 0.8962 - val_loss: 0.2817\n",
            "Epoch 69/200\n",
            "188/188 - 1s - 4ms/step - accuracy: 0.8998 - loss: 0.2631 - val_accuracy: 0.8966 - val_loss: 0.2802\n",
            "Epoch 70/200\n",
            "188/188 - 1s - 4ms/step - accuracy: 0.9015 - loss: 0.2599 - val_accuracy: 0.8957 - val_loss: 0.2788\n",
            "Epoch 71/200\n",
            "188/188 - 1s - 7ms/step - accuracy: 0.9022 - loss: 0.2609 - val_accuracy: 0.8948 - val_loss: 0.2849\n",
            "Epoch 72/200\n",
            "188/188 - 1s - 7ms/step - accuracy: 0.9004 - loss: 0.2651 - val_accuracy: 0.8953 - val_loss: 0.2817\n",
            "Epoch 73/200\n",
            "188/188 - 1s - 4ms/step - accuracy: 0.9026 - loss: 0.2557 - val_accuracy: 0.8969 - val_loss: 0.2762\n",
            "Epoch 74/200\n",
            "188/188 - 1s - 4ms/step - accuracy: 0.8999 - loss: 0.2601 - val_accuracy: 0.8986 - val_loss: 0.2782\n",
            "Epoch 75/200\n",
            "188/188 - 1s - 4ms/step - accuracy: 0.9017 - loss: 0.2564 - val_accuracy: 0.8967 - val_loss: 0.2760\n",
            "Epoch 76/200\n",
            "188/188 - 1s - 7ms/step - accuracy: 0.9018 - loss: 0.2550 - val_accuracy: 0.8967 - val_loss: 0.2809\n",
            "Epoch 77/200\n",
            "188/188 - 1s - 5ms/step - accuracy: 0.9029 - loss: 0.2549 - val_accuracy: 0.8974 - val_loss: 0.2781\n",
            "Epoch 78/200\n",
            "188/188 - 1s - 6ms/step - accuracy: 0.9039 - loss: 0.2534 - val_accuracy: 0.8985 - val_loss: 0.2751\n",
            "Epoch 79/200\n",
            "188/188 - 1s - 5ms/step - accuracy: 0.9047 - loss: 0.2506 - val_accuracy: 0.8999 - val_loss: 0.2756\n",
            "Epoch 80/200\n",
            "188/188 - 1s - 4ms/step - accuracy: 0.9033 - loss: 0.2528 - val_accuracy: 0.8984 - val_loss: 0.2752\n",
            "Epoch 81/200\n",
            "188/188 - 1s - 4ms/step - accuracy: 0.9052 - loss: 0.2501 - val_accuracy: 0.8989 - val_loss: 0.2741\n",
            "Epoch 82/200\n",
            "188/188 - 1s - 7ms/step - accuracy: 0.9041 - loss: 0.2515 - val_accuracy: 0.9000 - val_loss: 0.2786\n",
            "Epoch 83/200\n",
            "188/188 - 1s - 4ms/step - accuracy: 0.9047 - loss: 0.2493 - val_accuracy: 0.9008 - val_loss: 0.2730\n",
            "Epoch 84/200\n",
            "188/188 - 1s - 3ms/step - accuracy: 0.9028 - loss: 0.2495 - val_accuracy: 0.8984 - val_loss: 0.2778\n",
            "Epoch 85/200\n",
            "188/188 - 1s - 4ms/step - accuracy: 0.9056 - loss: 0.2467 - val_accuracy: 0.8994 - val_loss: 0.2760\n",
            "Epoch 86/200\n",
            "188/188 - 1s - 7ms/step - accuracy: 0.9054 - loss: 0.2463 - val_accuracy: 0.9006 - val_loss: 0.2778\n",
            "Epoch 87/200\n",
            "188/188 - 1s - 3ms/step - accuracy: 0.9049 - loss: 0.2479 - val_accuracy: 0.9001 - val_loss: 0.2757\n",
            "Epoch 88/200\n",
            "188/188 - 1s - 7ms/step - accuracy: 0.9066 - loss: 0.2427 - val_accuracy: 0.9001 - val_loss: 0.2731\n",
            "Epoch 89/200\n",
            "188/188 - 1s - 3ms/step - accuracy: 0.9064 - loss: 0.2436 - val_accuracy: 0.8991 - val_loss: 0.2832\n",
            "Epoch 90/200\n",
            "188/188 - 1s - 3ms/step - accuracy: 0.9068 - loss: 0.2411 - val_accuracy: 0.8985 - val_loss: 0.2746\n",
            "Epoch 91/200\n",
            "188/188 - 1s - 5ms/step - accuracy: 0.9064 - loss: 0.2448 - val_accuracy: 0.9006 - val_loss: 0.2770\n",
            "Epoch 92/200\n",
            "188/188 - 1s - 5ms/step - accuracy: 0.9077 - loss: 0.2409 - val_accuracy: 0.9006 - val_loss: 0.2723\n",
            "Epoch 93/200\n",
            "188/188 - 1s - 5ms/step - accuracy: 0.9096 - loss: 0.2390 - val_accuracy: 0.9011 - val_loss: 0.2729\n",
            "Epoch 94/200\n",
            "188/188 - 1s - 7ms/step - accuracy: 0.9106 - loss: 0.2380 - val_accuracy: 0.9003 - val_loss: 0.2723\n",
            "Epoch 95/200\n",
            "188/188 - 1s - 7ms/step - accuracy: 0.9084 - loss: 0.2385 - val_accuracy: 0.9000 - val_loss: 0.2740\n",
            "Epoch 96/200\n",
            "188/188 - 1s - 7ms/step - accuracy: 0.9089 - loss: 0.2398 - val_accuracy: 0.9008 - val_loss: 0.2723\n",
            "Epoch 97/200\n",
            "188/188 - 1s - 4ms/step - accuracy: 0.9089 - loss: 0.2377 - val_accuracy: 0.9012 - val_loss: 0.2708\n",
            "Epoch 98/200\n",
            "188/188 - 1s - 3ms/step - accuracy: 0.9075 - loss: 0.2401 - val_accuracy: 0.9018 - val_loss: 0.2704\n",
            "Epoch 99/200\n",
            "188/188 - 1s - 7ms/step - accuracy: 0.9097 - loss: 0.2352 - val_accuracy: 0.9013 - val_loss: 0.2703\n",
            "Epoch 100/200\n",
            "188/188 - 1s - 4ms/step - accuracy: 0.9088 - loss: 0.2370 - val_accuracy: 0.9025 - val_loss: 0.2703\n",
            "Epoch 101/200\n",
            "188/188 - 1s - 4ms/step - accuracy: 0.9096 - loss: 0.2358 - val_accuracy: 0.9002 - val_loss: 0.2778\n",
            "Epoch 102/200\n",
            "188/188 - 1s - 4ms/step - accuracy: 0.9099 - loss: 0.2349 - val_accuracy: 0.9003 - val_loss: 0.2734\n",
            "Epoch 103/200\n",
            "188/188 - 1s - 4ms/step - accuracy: 0.9103 - loss: 0.2331 - val_accuracy: 0.9007 - val_loss: 0.2759\n",
            "Epoch 104/200\n",
            "188/188 - 2s - 9ms/step - accuracy: 0.9115 - loss: 0.2339 - val_accuracy: 0.9008 - val_loss: 0.2708\n",
            "Epoch 105/200\n",
            "188/188 - 1s - 4ms/step - accuracy: 0.9104 - loss: 0.2342 - val_accuracy: 0.9023 - val_loss: 0.2682\n",
            "Epoch 106/200\n",
            "188/188 - 1s - 7ms/step - accuracy: 0.9101 - loss: 0.2335 - val_accuracy: 0.9013 - val_loss: 0.2782\n",
            "Epoch 107/200\n",
            "188/188 - 1s - 3ms/step - accuracy: 0.9109 - loss: 0.2321 - val_accuracy: 0.9002 - val_loss: 0.2743\n",
            "Epoch 108/200\n",
            "188/188 - 1s - 4ms/step - accuracy: 0.9122 - loss: 0.2276 - val_accuracy: 0.9027 - val_loss: 0.2746\n",
            "Epoch 109/200\n",
            "188/188 - 1s - 7ms/step - accuracy: 0.9124 - loss: 0.2290 - val_accuracy: 0.9022 - val_loss: 0.2684\n",
            "Epoch 110/200\n",
            "188/188 - 1s - 3ms/step - accuracy: 0.9126 - loss: 0.2311 - val_accuracy: 0.9008 - val_loss: 0.2747\n",
            "Epoch 111/200\n",
            "188/188 - 1s - 7ms/step - accuracy: 0.9123 - loss: 0.2289 - val_accuracy: 0.9027 - val_loss: 0.2720\n",
            "Epoch 112/200\n",
            "188/188 - 1s - 4ms/step - accuracy: 0.9134 - loss: 0.2272 - val_accuracy: 0.9031 - val_loss: 0.2721\n",
            "Epoch 113/200\n",
            "188/188 - 1s - 7ms/step - accuracy: 0.9126 - loss: 0.2277 - val_accuracy: 0.9020 - val_loss: 0.2727\n",
            "Epoch 114/200\n",
            "188/188 - 1s - 7ms/step - accuracy: 0.9126 - loss: 0.2282 - val_accuracy: 0.9013 - val_loss: 0.2763\n",
            "Epoch 115/200\n",
            "188/188 - 2s - 8ms/step - accuracy: 0.9134 - loss: 0.2260 - val_accuracy: 0.9017 - val_loss: 0.2732\n",
            "Epoch 116/200\n",
            "188/188 - 1s - 6ms/step - accuracy: 0.9128 - loss: 0.2236 - val_accuracy: 0.9015 - val_loss: 0.2772\n",
            "Epoch 117/200\n",
            "188/188 - 1s - 6ms/step - accuracy: 0.9139 - loss: 0.2239 - val_accuracy: 0.9041 - val_loss: 0.2713\n",
            "Epoch 118/200\n",
            "188/188 - 1s - 7ms/step - accuracy: 0.9142 - loss: 0.2217 - val_accuracy: 0.9057 - val_loss: 0.2683\n",
            "Epoch 119/200\n",
            "188/188 - 1s - 4ms/step - accuracy: 0.9148 - loss: 0.2226 - val_accuracy: 0.9033 - val_loss: 0.2721\n",
            "Epoch 120/200\n",
            "188/188 - 1s - 3ms/step - accuracy: 0.9141 - loss: 0.2226 - val_accuracy: 0.9016 - val_loss: 0.2734\n",
            "Epoch 121/200\n",
            "188/188 - 1s - 3ms/step - accuracy: 0.9145 - loss: 0.2218 - val_accuracy: 0.9018 - val_loss: 0.2735\n",
            "Epoch 122/200\n",
            "188/188 - 1s - 4ms/step - accuracy: 0.9165 - loss: 0.2205 - val_accuracy: 0.9019 - val_loss: 0.2690\n",
            "Epoch 123/200\n",
            "188/188 - 1s - 4ms/step - accuracy: 0.9161 - loss: 0.2191 - val_accuracy: 0.9037 - val_loss: 0.2692\n",
            "Epoch 124/200\n",
            "188/188 - 1s - 7ms/step - accuracy: 0.9149 - loss: 0.2223 - val_accuracy: 0.9043 - val_loss: 0.2709\n",
            "Epoch 125/200\n",
            "188/188 - 1s - 4ms/step - accuracy: 0.9170 - loss: 0.2179 - val_accuracy: 0.9021 - val_loss: 0.2682\n",
            "Epoch 126/200\n",
            "188/188 - 1s - 4ms/step - accuracy: 0.9177 - loss: 0.2189 - val_accuracy: 0.9027 - val_loss: 0.2745\n",
            "Epoch 127/200\n",
            "188/188 - 1s - 4ms/step - accuracy: 0.9168 - loss: 0.2176 - val_accuracy: 0.9033 - val_loss: 0.2673\n",
            "Epoch 128/200\n",
            "188/188 - 1s - 5ms/step - accuracy: 0.9157 - loss: 0.2166 - val_accuracy: 0.9029 - val_loss: 0.2714\n",
            "Epoch 129/200\n",
            "188/188 - 1s - 6ms/step - accuracy: 0.9181 - loss: 0.2140 - val_accuracy: 0.9028 - val_loss: 0.2696\n",
            "Epoch 130/200\n",
            "188/188 - 1s - 4ms/step - accuracy: 0.9169 - loss: 0.2155 - val_accuracy: 0.9038 - val_loss: 0.2698\n",
            "Epoch 131/200\n",
            "188/188 - 1s - 3ms/step - accuracy: 0.9185 - loss: 0.2119 - val_accuracy: 0.9011 - val_loss: 0.2777\n",
            "Epoch 132/200\n",
            "188/188 - 1s - 7ms/step - accuracy: 0.9173 - loss: 0.2155 - val_accuracy: 0.9056 - val_loss: 0.2642\n",
            "Epoch 133/200\n",
            "188/188 - 1s - 4ms/step - accuracy: 0.9180 - loss: 0.2131 - val_accuracy: 0.9043 - val_loss: 0.2699\n",
            "Epoch 134/200\n",
            "188/188 - 1s - 7ms/step - accuracy: 0.9170 - loss: 0.2140 - val_accuracy: 0.9038 - val_loss: 0.2698\n",
            "Epoch 135/200\n",
            "188/188 - 1s - 7ms/step - accuracy: 0.9177 - loss: 0.2137 - val_accuracy: 0.9057 - val_loss: 0.2719\n",
            "Epoch 136/200\n",
            "188/188 - 1s - 7ms/step - accuracy: 0.9185 - loss: 0.2142 - val_accuracy: 0.9041 - val_loss: 0.2684\n",
            "Epoch 137/200\n",
            "188/188 - 1s - 4ms/step - accuracy: 0.9184 - loss: 0.2121 - val_accuracy: 0.9038 - val_loss: 0.2710\n",
            "Epoch 138/200\n",
            "188/188 - 1s - 3ms/step - accuracy: 0.9181 - loss: 0.2125 - val_accuracy: 0.9046 - val_loss: 0.2706\n",
            "Epoch 139/200\n",
            "188/188 - 1s - 7ms/step - accuracy: 0.9186 - loss: 0.2140 - val_accuracy: 0.9033 - val_loss: 0.2717\n",
            "Epoch 140/200\n",
            "188/188 - 1s - 8ms/step - accuracy: 0.9196 - loss: 0.2096 - val_accuracy: 0.9036 - val_loss: 0.2670\n",
            "Epoch 141/200\n",
            "188/188 - 1s - 6ms/step - accuracy: 0.9175 - loss: 0.2131 - val_accuracy: 0.9051 - val_loss: 0.2686\n",
            "Epoch 142/200\n",
            "188/188 - 1s - 7ms/step - accuracy: 0.9196 - loss: 0.2085 - val_accuracy: 0.9051 - val_loss: 0.2663\n",
            "Epoch 143/200\n",
            "188/188 - 1s - 6ms/step - accuracy: 0.9187 - loss: 0.2111 - val_accuracy: 0.9037 - val_loss: 0.2735\n",
            "Epoch 144/200\n",
            "188/188 - 1s - 7ms/step - accuracy: 0.9192 - loss: 0.2088 - val_accuracy: 0.9032 - val_loss: 0.2737\n",
            "Epoch 145/200\n",
            "188/188 - 1s - 4ms/step - accuracy: 0.9197 - loss: 0.2088 - val_accuracy: 0.9074 - val_loss: 0.2705\n",
            "Epoch 146/200\n",
            "188/188 - 1s - 4ms/step - accuracy: 0.9205 - loss: 0.2083 - val_accuracy: 0.9073 - val_loss: 0.2696\n",
            "Epoch 147/200\n",
            "188/188 - 1s - 3ms/step - accuracy: 0.9189 - loss: 0.2074 - val_accuracy: 0.9046 - val_loss: 0.2735\n",
            "Epoch 148/200\n",
            "188/188 - 1s - 4ms/step - accuracy: 0.9215 - loss: 0.2044 - val_accuracy: 0.9042 - val_loss: 0.2710\n",
            "Epoch 149/200\n",
            "188/188 - 1s - 7ms/step - accuracy: 0.9223 - loss: 0.2041 - val_accuracy: 0.9048 - val_loss: 0.2720\n",
            "Epoch 150/200\n",
            "188/188 - 1s - 3ms/step - accuracy: 0.9214 - loss: 0.2076 - val_accuracy: 0.9045 - val_loss: 0.2725\n",
            "Epoch 151/200\n",
            "188/188 - 1s - 3ms/step - accuracy: 0.9197 - loss: 0.2077 - val_accuracy: 0.9041 - val_loss: 0.2778\n",
            "Epoch 152/200\n",
            "188/188 - 1s - 5ms/step - accuracy: 0.9201 - loss: 0.2071 - val_accuracy: 0.9038 - val_loss: 0.2737\n",
            "Epoch 153/200\n",
            "188/188 - 1s - 6ms/step - accuracy: 0.9219 - loss: 0.2034 - val_accuracy: 0.9038 - val_loss: 0.2752\n",
            "Epoch 154/200\n",
            "188/188 - 1s - 4ms/step - accuracy: 0.9211 - loss: 0.2044 - val_accuracy: 0.9047 - val_loss: 0.2728\n",
            "Epoch 155/200\n",
            "188/188 - 1s - 4ms/step - accuracy: 0.9222 - loss: 0.2031 - val_accuracy: 0.9069 - val_loss: 0.2691\n",
            "Epoch 156/200\n",
            "188/188 - 1s - 7ms/step - accuracy: 0.9210 - loss: 0.2059 - val_accuracy: 0.9056 - val_loss: 0.2741\n",
            "Epoch 157/200\n",
            "188/188 - 1s - 4ms/step - accuracy: 0.9214 - loss: 0.2021 - val_accuracy: 0.9060 - val_loss: 0.2737\n",
            "Epoch 158/200\n",
            "188/188 - 1s - 4ms/step - accuracy: 0.9221 - loss: 0.2027 - val_accuracy: 0.9053 - val_loss: 0.2737\n",
            "Epoch 159/200\n",
            "188/188 - 1s - 7ms/step - accuracy: 0.9215 - loss: 0.2050 - val_accuracy: 0.9057 - val_loss: 0.2721\n",
            "Epoch 160/200\n",
            "188/188 - 1s - 4ms/step - accuracy: 0.9215 - loss: 0.2028 - val_accuracy: 0.9060 - val_loss: 0.2723\n",
            "Epoch 161/200\n",
            "188/188 - 1s - 7ms/step - accuracy: 0.9226 - loss: 0.2004 - val_accuracy: 0.9033 - val_loss: 0.2719\n",
            "Epoch 162/200\n",
            "188/188 - 1s - 7ms/step - accuracy: 0.9221 - loss: 0.2021 - val_accuracy: 0.9057 - val_loss: 0.2726\n",
            "Epoch 163/200\n",
            "188/188 - 1s - 4ms/step - accuracy: 0.9224 - loss: 0.1987 - val_accuracy: 0.9032 - val_loss: 0.2823\n",
            "Epoch 164/200\n",
            "188/188 - 1s - 7ms/step - accuracy: 0.9231 - loss: 0.2006 - val_accuracy: 0.9043 - val_loss: 0.2741\n",
            "Epoch 165/200\n",
            "188/188 - 1s - 5ms/step - accuracy: 0.9240 - loss: 0.1984 - val_accuracy: 0.9061 - val_loss: 0.2714\n",
            "Epoch 166/200\n",
            "188/188 - 1s - 5ms/step - accuracy: 0.9243 - loss: 0.1986 - val_accuracy: 0.9052 - val_loss: 0.2738\n",
            "Epoch 167/200\n",
            "188/188 - 1s - 4ms/step - accuracy: 0.9226 - loss: 0.2004 - val_accuracy: 0.9054 - val_loss: 0.2749\n",
            "Epoch 168/200\n",
            "188/188 - 1s - 7ms/step - accuracy: 0.9230 - loss: 0.1972 - val_accuracy: 0.9061 - val_loss: 0.2764\n",
            "Epoch 169/200\n",
            "188/188 - 1s - 7ms/step - accuracy: 0.9235 - loss: 0.2008 - val_accuracy: 0.9071 - val_loss: 0.2721\n",
            "Epoch 170/200\n",
            "188/188 - 1s - 7ms/step - accuracy: 0.9222 - loss: 0.2004 - val_accuracy: 0.9043 - val_loss: 0.2744\n",
            "Epoch 171/200\n",
            "188/188 - 1s - 7ms/step - accuracy: 0.9247 - loss: 0.1965 - val_accuracy: 0.9057 - val_loss: 0.2766\n",
            "Epoch 172/200\n",
            "188/188 - 1s - 4ms/step - accuracy: 0.9248 - loss: 0.1963 - val_accuracy: 0.9050 - val_loss: 0.2700\n",
            "Epoch 173/200\n",
            "188/188 - 1s - 4ms/step - accuracy: 0.9240 - loss: 0.1977 - val_accuracy: 0.9057 - val_loss: 0.2726\n",
            "Epoch 174/200\n",
            "188/188 - 1s - 7ms/step - accuracy: 0.9251 - loss: 0.1937 - val_accuracy: 0.9046 - val_loss: 0.2741\n",
            "Epoch 175/200\n",
            "188/188 - 1s - 3ms/step - accuracy: 0.9239 - loss: 0.1971 - val_accuracy: 0.9063 - val_loss: 0.2665\n",
            "Epoch 176/200\n",
            "188/188 - 1s - 4ms/step - accuracy: 0.9244 - loss: 0.1968 - val_accuracy: 0.9063 - val_loss: 0.2726\n",
            "Epoch 177/200\n",
            "188/188 - 2s - 8ms/step - accuracy: 0.9244 - loss: 0.1955 - val_accuracy: 0.9057 - val_loss: 0.2719\n",
            "Epoch 178/200\n",
            "188/188 - 1s - 4ms/step - accuracy: 0.9230 - loss: 0.1955 - val_accuracy: 0.9072 - val_loss: 0.2692\n",
            "Epoch 179/200\n",
            "188/188 - 1s - 7ms/step - accuracy: 0.9245 - loss: 0.1948 - val_accuracy: 0.9062 - val_loss: 0.2689\n",
            "Epoch 180/200\n",
            "188/188 - 1s - 4ms/step - accuracy: 0.9264 - loss: 0.1948 - val_accuracy: 0.9076 - val_loss: 0.2747\n",
            "Epoch 181/200\n",
            "188/188 - 1s - 3ms/step - accuracy: 0.9258 - loss: 0.1919 - val_accuracy: 0.9063 - val_loss: 0.2746\n",
            "Epoch 182/200\n",
            "188/188 - 1s - 3ms/step - accuracy: 0.9252 - loss: 0.1943 - val_accuracy: 0.9057 - val_loss: 0.2785\n",
            "Epoch 183/200\n",
            "188/188 - 1s - 7ms/step - accuracy: 0.9264 - loss: 0.1916 - val_accuracy: 0.9041 - val_loss: 0.2705\n",
            "Epoch 184/200\n",
            "188/188 - 1s - 7ms/step - accuracy: 0.9260 - loss: 0.1909 - val_accuracy: 0.9059 - val_loss: 0.2706\n",
            "Epoch 185/200\n",
            "188/188 - 1s - 4ms/step - accuracy: 0.9260 - loss: 0.1924 - val_accuracy: 0.9069 - val_loss: 0.2719\n",
            "Epoch 186/200\n",
            "188/188 - 1s - 7ms/step - accuracy: 0.9246 - loss: 0.1924 - val_accuracy: 0.9054 - val_loss: 0.2708\n",
            "Epoch 187/200\n",
            "188/188 - 1s - 7ms/step - accuracy: 0.9260 - loss: 0.1921 - val_accuracy: 0.9062 - val_loss: 0.2709\n",
            "Epoch 188/200\n",
            "188/188 - 1s - 5ms/step - accuracy: 0.9261 - loss: 0.1915 - val_accuracy: 0.9051 - val_loss: 0.2706\n",
            "Epoch 189/200\n",
            "188/188 - 1s - 5ms/step - accuracy: 0.9269 - loss: 0.1893 - val_accuracy: 0.9060 - val_loss: 0.2685\n",
            "Epoch 190/200\n",
            "188/188 - 1s - 3ms/step - accuracy: 0.9259 - loss: 0.1901 - val_accuracy: 0.9069 - val_loss: 0.2755\n",
            "Epoch 191/200\n",
            "188/188 - 1s - 3ms/step - accuracy: 0.9269 - loss: 0.1883 - val_accuracy: 0.9043 - val_loss: 0.2742\n",
            "Epoch 192/200\n",
            "188/188 - 1s - 7ms/step - accuracy: 0.9266 - loss: 0.1913 - val_accuracy: 0.9054 - val_loss: 0.2706\n",
            "Epoch 193/200\n",
            "188/188 - 1s - 3ms/step - accuracy: 0.9281 - loss: 0.1871 - val_accuracy: 0.9081 - val_loss: 0.2704\n",
            "Epoch 194/200\n",
            "188/188 - 1s - 3ms/step - accuracy: 0.9260 - loss: 0.1884 - val_accuracy: 0.9052 - val_loss: 0.2738\n",
            "Epoch 195/200\n",
            "188/188 - 1s - 7ms/step - accuracy: 0.9271 - loss: 0.1886 - val_accuracy: 0.9061 - val_loss: 0.2769\n",
            "Epoch 196/200\n",
            "188/188 - 1s - 3ms/step - accuracy: 0.9275 - loss: 0.1899 - val_accuracy: 0.9065 - val_loss: 0.2707\n",
            "Epoch 197/200\n",
            "188/188 - 1s - 7ms/step - accuracy: 0.9279 - loss: 0.1874 - val_accuracy: 0.9072 - val_loss: 0.2694\n",
            "Epoch 198/200\n",
            "188/188 - 1s - 4ms/step - accuracy: 0.9264 - loss: 0.1894 - val_accuracy: 0.9072 - val_loss: 0.2707\n",
            "Epoch 199/200\n",
            "188/188 - 1s - 4ms/step - accuracy: 0.9297 - loss: 0.1853 - val_accuracy: 0.9072 - val_loss: 0.2747\n",
            "Epoch 200/200\n",
            "188/188 - 1s - 4ms/step - accuracy: 0.9262 - loss: 0.1903 - val_accuracy: 0.9070 - val_loss: 0.2702\n"
          ]
        }
      ]
    },
    {
      "cell_type": "markdown",
      "source": [
        "## 四、顯示 loss & accuracy 折線圖"
      ],
      "metadata": {
        "id": "BzMicbOp-Iot"
      }
    },
    {
      "cell_type": "code",
      "source": [
        "def show_train_history(train_history, train, validation):\n",
        "  plt.plot(train_history.history[train])\n",
        "  plt.plot(train_history.history[validation])\n",
        "  plt.title(f'Train History: {train}')\n",
        "  plt.ylabel(train)\n",
        "  plt.xlabel('Epoch')\n",
        "  plt.legend(['train', 'validation'], loc='upper left')\n",
        "  plt.show()\n",
        "\n",
        "show_train_history(train_history, 'accuracy', 'val_accuracy')\n",
        "show_train_history(train_history, 'loss', 'val_loss')"
      ],
      "metadata": {
        "colab": {
          "base_uri": "https://localhost:8080/",
          "height": 927
        },
        "id": "Jx7rZwRx-PLT",
        "outputId": "6a55d318-0166-4771-c712-d9dfc7037205"
      },
      "execution_count": 17,
      "outputs": [
        {
          "output_type": "display_data",
          "data": {
            "text/plain": [
              "<Figure size 640x480 with 1 Axes>"
            ],
            "image/png": "[encoded data removed]"
          },
          "metadata": {}
        },
        {
          "output_type": "display_data",
          "data": {
            "text/plain": [
              "<Figure size 640x480 with 1 Axes>"
            ],
            "image/png": "[encoded data removed]"
          },
          "metadata": {}
        }
      ]
    },
    {
      "cell_type": "markdown",
      "source": [
        "## 五、評估模型準確率"
      ],
      "metadata": {
        "id": "g06NO_H--UH9"
      }
    },
    {
      "cell_type": "code",
      "source": [
        "scores = model.evaluate(x_test_normalize, y_test_oh)\n",
        "print(f\"accuracy = {scores[1]}\")"
      ],
      "metadata": {
        "colab": {
          "base_uri": "https://localhost:8080/"
        },
        "id": "oApwm1aG-QK0",
        "outputId": "30ad914f-ed3e-4f67-8583-2e4cc68ddabb"
      },
      "execution_count": 18,
      "outputs": [
        {
          "output_type": "stream",
          "name": "stdout",
          "text": [
            "\u001b[1m313/313\u001b[0m \u001b[32m━━━━━━━━━━━━━━━━━━━━\u001b[0m\u001b[37m\u001b[0m \u001b[1m2s\u001b[0m 4ms/step - accuracy: 0.9015 - loss: 0.2922\n",
            "accuracy = 0.90420001745224\n"
          ]
        }
      ]
    },
    {
      "cell_type": "markdown",
      "source": [
        "## 六、預測"
      ],
      "metadata": {
        "id": "ZOlQ4kAb-Xwe"
      }
    },
    {
      "cell_type": "code",
      "source": [
        "predictions = model.predict(x_test_normalize)"
      ],
      "metadata": {
        "colab": {
          "base_uri": "https://localhost:8080/"
        },
        "id": "ZDQRTy-rPUru",
        "outputId": "f0be5ab2-7578-4a8d-f926-7b75c90e5603"
      },
      "execution_count": 19,
      "outputs": [
        {
          "output_type": "stream",
          "name": "stdout",
          "text": [
            "\u001b[1m313/313\u001b[0m \u001b[32m━━━━━━━━━━━━━━━━━━━━\u001b[0m\u001b[37m\u001b[0m \u001b[1m1s\u001b[0m 2ms/step\n"
          ]
        }
      ]
    },
    {
      "cell_type": "code",
      "source": [
        "predicted_classes = np.argmax(predictions, axis=1)"
      ],
      "metadata": {
        "id": "IOI9Iy5ePZNG"
      },
      "execution_count": 20,
      "outputs": []
    },
    {
      "cell_type": "code",
      "source": [
        "predicted_classes"
      ],
      "metadata": {
        "colab": {
          "base_uri": "https://localhost:8080/"
        },
        "id": "ELVM2oe2YgHC",
        "outputId": "7699cbfd-3ebe-4366-803f-4b353c9347fc"
      },
      "execution_count": 21,
      "outputs": [
        {
          "output_type": "execute_result",
          "data": {
            "text/plain": [
              "array([9, 2, 1, ..., 8, 1, 5])"
            ]
          },
          "metadata": {},
          "execution_count": 21
        }
      ]
    },
    {
      "cell_type": "markdown",
      "source": [
        "## 七、顯示圖片與標籤名稱"
      ],
      "metadata": {
        "id": "G50LuVWklQBV"
      }
    },
    {
      "cell_type": "code",
      "source": [
        "import matplotlib.pyplot as plt\n",
        "\n",
        "def plot_images_labels_prediction(images, true_labels, pred_labels, label_names, idx=0, num=10):\n",
        "  plt.figure(figsize=(6, 7))\n",
        "  if num > 25: num = 25\n",
        "  for i in range(num):\n",
        "    plt.subplot(5, 5, i + 1)\n",
        "    plt.imshow(images[idx + i], cmap='gray')\n",
        "\n",
        "    true_name = label_names[true_labels[idx + i]]\n",
        "    pred_name = label_names[pred_labels[idx + i]]\n",
        "\n",
        "    plt.title(f'True: {true_name}\\nPred: {pred_name}', fontsize=10)\n",
        "    plt.axis('off')\n",
        "\n",
        "  plt.tight_layout()\n",
        "  plt.show()"
      ],
      "metadata": {
        "id": "9wmdwPUG-iYG"
      },
      "execution_count": 22,
      "outputs": []
    },
    {
      "cell_type": "code",
      "source": [
        "plot_images_labels_prediction(x_test, y_test, predicted_classes, labels, idx=0, num=25)"
      ],
      "metadata": {
        "colab": {
          "base_uri": "https://localhost:8080/",
          "height": 713
        },
        "id": "k9-WGiB8XW-n",
        "outputId": "8f3d3034-a6ff-43d8-da76-9707dbca939d"
      },
      "execution_count": 23,
      "outputs": [
        {
          "output_type": "display_data",
          "data": {
            "text/plain": [
              "<Figure size 600x700 with 25 Axes>"
            ],
            "image/png": "[encoded data removed]"
          },
          "metadata": {}
        }
      ]
    },
    {
      "cell_type": "markdown",
      "source": [
        "## 八、混淆矩陣 (Confusion Matrix)"
      ],
      "metadata": {
        "id": "WJuwzUSg-mPJ"
      }
    },
    {
      "cell_type": "code",
      "source": [
        "import pandas as pd\n",
        "\n",
        "pd.crosstab(y_test, predicted_classes, rownames=['label'], colnames=['predict'])"
      ],
      "metadata": {
        "colab": {
          "base_uri": "https://localhost:8080/",
          "height": 394
        },
        "id": "dWO86FP6-pC5",
        "outputId": "326c73c2-26ea-4217-bfc9-11efa97c4720"
      },
      "execution_count": 24,
      "outputs": [
        {
          "output_type": "execute_result",
          "data": {
            "text/plain": [
              "predict    0    1    2    3    4    5    6    7    8    9\n",
              "label                                                    \n",
              "0        875    1   16   12    2    0   87    0    7    0\n",
              "1          2  980    1   13    1    0    2    0    1    0\n",
              "2         13    0  844    8   72    0   62    0    1    0\n",
              "3         22    3    9  917   28    0   16    0    5    0\n",
              "4          1    0   89   30  832    0   47    0    1    0\n",
              "5          0    0    0    0    0  958    0   25    1   16\n",
              "6        120    0   78   28   56    0  711    0    7    0\n",
              "7          0    0    0    0    0    4    0  979    0   17\n",
              "8          2    0    2    5    3    1    4    4  979    0\n",
              "9          0    0    0    0    0    2    1   30    0  967"
            ],
            "text/html": [
              "\n",
              "  <div id=\"df-73136780-652c-4b65-adc8-f0baafd21e27\" class=\"colab-df-container\">\n",
              "    <div>\n",
              "<style scoped>\n",
              "    .dataframe tbody tr th:only-of-type {\n",
              "        vertical-align: middle;\n",
              "    }\n",
              "\n",
              "    .dataframe tbody tr th {\n",
              "        vertical-align: top;\n",
              "    }\n",
              "\n",
              "    .dataframe thead th {\n",
              "        text-align: right;\n",
              "    }\n",
              "</style>\n",
              "<table border=\"1\" class=\"dataframe\">\n",
              "  <thead>\n",
              "    <tr style=\"text-align: right;\">\n",
              "      <th>predict</th>\n",
              "      <th>0</th>\n",
              "      <th>1</th>\n",
              "      <th>2</th>\n",
              "      <th>3</th>\n",
              "      <th>4</th>\n",
              "      <th>5</th>\n",
              "      <th>6</th>\n",
              "      <th>7</th>\n",
              "      <th>8</th>\n",
              "      <th>9</th>\n",
              "    </tr>\n",
              "    <tr>\n",
              "      <th>label</th>\n",
              "      <th></th>\n",
              "      <th></th>\n",
              "      <th></th>\n",
              "      <th></th>\n",
              "      <th></th>\n",
              "      <th></th>\n",
              "      <th></th>\n",
              "      <th></th>\n",
              "      <th></th>\n",
              "      <th></th>\n",
              "    </tr>\n",
              "  </thead>\n",
              "  <tbody>\n",
              "    <tr>\n",
              "      <th>0</th>\n",
              "      <td>875</td>\n",
              "      <td>1</td>\n",
              "      <td>16</td>\n",
              "      <td>12</td>\n",
              "      <td>2</td>\n",
              "      <td>0</td>\n",
              "      <td>87</td>\n",
              "      <td>0</td>\n",
              "      <td>7</td>\n",
              "      <td>0</td>\n",
              "    </tr>\n",
              "    <tr>\n",
              "      <th>1</th>\n",
              "      <td>2</td>\n",
              "      <td>980</td>\n",
              "      <td>1</td>\n",
              "      <td>13</td>\n",
              "      <td>1</td>\n",
              "      <td>0</td>\n",
              "      <td>2</td>\n",
              "      <td>0</td>\n",
              "      <td>1</td>\n",
              "      <td>0</td>\n",
              "    </tr>\n",
              "    <tr>\n",
              "      <th>2</th>\n",
              "      <td>13</td>\n",
              "      <td>0</td>\n",
              "      <td>844</td>\n",
              "      <td>8</td>\n",
              "      <td>72</td>\n",
              "      <td>0</td>\n",
              "      <td>62</td>\n",
              "      <td>0</td>\n",
              "      <td>1</td>\n",
              "      <td>0</td>\n",
              "    </tr>\n",
              "    <tr>\n",
              "      <th>3</th>\n",
              "      <td>22</td>\n",
              "      <td>3</td>\n",
              "      <td>9</td>\n",
              "      <td>917</td>\n",
              "      <td>28</td>\n",
              "      <td>0</td>\n",
              "      <td>16</td>\n",
              "      <td>0</td>\n",
              "      <td>5</td>\n",
              "      <td>0</td>\n",
              "    </tr>\n",
              "    <tr>\n",
              "      <th>4</th>\n",
              "      <td>1</td>\n",
              "      <td>0</td>\n",
              "      <td>89</td>\n",
              "      <td>30</td>\n",
              "      <td>832</td>\n",
              "      <td>0</td>\n",
              "      <td>47</td>\n",
              "      <td>0</td>\n",
              "      <td>1</td>\n",
              "      <td>0</td>\n",
              "    </tr>\n",
              "    <tr>\n",
              "      <th>5</th>\n",
              "      <td>0</td>\n",
              "      <td>0</td>\n",
              "      <td>0</td>\n",
              "      <td>0</td>\n",
              "      <td>0</td>\n",
              "      <td>958</td>\n",
              "      <td>0</td>\n",
              "      <td>25</td>\n",
              "      <td>1</td>\n",
              "      <td>16</td>\n",
              "    </tr>\n",
              "    <tr>\n",
              "      <th>6</th>\n",
              "      <td>120</td>\n",
              "      <td>0</td>\n",
              "      <td>78</td>\n",
              "      <td>28</td>\n",
              "      <td>56</td>\n",
              "      <td>0</td>\n",
              "      <td>711</td>\n",
              "      <td>0</td>\n",
              "      <td>7</td>\n",
              "      <td>0</td>\n",
              "    </tr>\n",
              "    <tr>\n",
              "      <th>7</th>\n",
              "      <td>0</td>\n",
              "      <td>0</td>\n",
              "      <td>0</td>\n",
              "      <td>0</td>\n",
              "      <td>0</td>\n",
              "      <td>4</td>\n",
              "      <td>0</td>\n",
              "      <td>979</td>\n",
              "      <td>0</td>\n",
              "      <td>17</td>\n",
              "    </tr>\n",
              "    <tr>\n",
              "      <th>8</th>\n",
              "      <td>2</td>\n",
              "      <td>0</td>\n",
              "      <td>2</td>\n",
              "      <td>5</td>\n",
              "      <td>3</td>\n",
              "      <td>1</td>\n",
              "      <td>4</td>\n",
              "      <td>4</td>\n",
              "      <td>979</td>\n",
              "      <td>0</td>\n",
              "    </tr>\n",
              "    <tr>\n",
              "      <th>9</th>\n",
              "      <td>0</td>\n",
              "      <td>0</td>\n",
              "      <td>0</td>\n",
              "      <td>0</td>\n",
              "      <td>0</td>\n",
              "      <td>2</td>\n",
              "      <td>1</td>\n",
              "      <td>30</td>\n",
              "      <td>0</td>\n",
              "      <td>967</td>\n",
              "    </tr>\n",
              "  </tbody>\n",
              "</table>\n",
              "</div>\n",
              "    <div class=\"colab-df-buttons\">\n",
              "\n",
              "  <div class=\"colab-df-container\">\n",
              "    <button class=\"colab-df-convert\" onclick=\"convertToInteractive('df-73136780-652c-4b65-adc8-f0baafd21e27')\"\n",
              "            title=\"Convert this dataframe to an interactive table.\"\n",
              "            style=\"display:none;\">\n",
              "\n",
              "  <svg xmlns=\"http://www.w3.org/2000/svg\" height=\"24px\" viewBox=\"0 -960 960 960\">\n",
              "    <path d=\"M120-120v-720h720v720H120Zm60-500h600v-160H180v160Zm220 220h160v-160H400v160Zm0 220h160v-160H400v160ZM180-400h160v-160H180v160Zm440 0h160v-160H620v160ZM180-180h160v-160H180v160Zm440 0h160v-160H620v160Z\"/>\n",
              "  </svg>\n",
              "    </button>\n",
              "\n",
              "  <style>\n",
              "    .colab-df-container {\n",
              "      display:flex;\n",
              "      gap: 12px;\n",
              "    }\n",
              "\n",
              "    .colab-df-convert {\n",
              "      background-color: #E8F0FE;\n",
              "      border: none;\n",
              "      border-radius: 50%;\n",
              "      cursor: pointer;\n",
              "      display: none;\n",
              "      fill: #1967D2;\n",
              "      height: 32px;\n",
              "      padding: 0 0 0 0;\n",
              "      width: 32px;\n",
              "    }\n",
              "\n",
              "    .colab-df-convert:hover {\n",
              "      background-color: #E2EBFA;\n",
              "      box-shadow: 0px 1px 2px rgba(60, 64, 67, 0.3), 0px 1px 3px 1px rgba(60, 64, 67, 0.15);\n",
              "      fill: #174EA6;\n",
              "    }\n",
              "\n",
              "    .colab-df-buttons div {\n",
              "      margin-bottom: 4px;\n",
              "    }\n",
              "\n",
              "    [theme=dark] .colab-df-convert {\n",
              "      background-color: #3B4455;\n",
              "      fill: #D2E3FC;\n",
              "    }\n",
              "\n",
              "    [theme=dark] .colab-df-convert:hover {\n",
              "      background-color: #434B5C;\n",
              "      box-shadow: 0px 1px 3px 1px rgba(0, 0, 0, 0.15);\n",
              "      filter: drop-shadow(0px 1px 2px rgba(0, 0, 0, 0.3));\n",
              "      fill: #FFFFFF;\n",
              "    }\n",
              "  </style>\n",
              "\n",
              "    <script>\n",
              "      const buttonEl =\n",
              "        document.querySelector('#df-73136780-652c-4b65-adc8-f0baafd21e27 button.colab-df-convert');\n",
              "      buttonEl.style.display =\n",
              "        google.colab.kernel.accessAllowed ? 'block' : 'none';\n",
              "\n",
              "      async function convertToInteractive(key) {\n",
              "        const element = document.querySelector('#df-73136780-652c-4b65-adc8-f0baafd21e27');\n",
              "        const dataTable =\n",
              "          await google.colab.kernel.invokeFunction('convertToInteractive',\n",
              "                                                    [key], {});\n",
              "        if (!dataTable) return;\n",
              "\n",
              "        const docLinkHtml = 'Like what you see? Visit the ' +\n",
              "          '<a target=\"_blank\" href=https://colab.research.google.com/notebooks/data_table.ipynb>data table notebook</a>'\n",
              "          + ' to learn more about interactive tables.';\n",
              "        element.innerHTML = '';\n",
              "        dataTable['output_type'] = 'display_data';\n",
              "        await google.colab.output.renderOutput(dataTable, element);\n",
              "        const docLink = document.createElement('div');\n",
              "        docLink.innerHTML = docLinkHtml;\n",
              "        element.appendChild(docLink);\n",
              "      }\n",
              "    </script>\n",
              "  </div>\n",
              "\n",
              "\n",
              "<div id=\"df-96f5260b-dd1b-41fc-b5f8-14da78321c77\">\n",
              "  <button class=\"colab-df-quickchart\" onclick=\"quickchart('df-96f5260b-dd1b-41fc-b5f8-14da78321c77')\"\n",
              "            title=\"Suggest charts\"\n",
              "            style=\"display:none;\">\n",
              "\n",
              "<svg xmlns=\"http://www.w3.org/2000/svg\" height=\"24px\"viewBox=\"0 0 24 24\"\n",
              "     width=\"24px\">\n",
              "    <g>\n",
              "        <path d=\"M19 3H5c-1.1 0-2 .9-2 2v14c0 1.1.9 2 2 2h14c1.1 0 2-.9 2-2V5c0-1.1-.9-2-2-2zM9 17H7v-7h2v7zm4 0h-2V7h2v10zm4 0h-2v-4h2v4z\"/>\n",
              "    </g>\n",
              "</svg>\n",
              "  </button>\n",
              "\n",
              "<style>\n",
              "  .colab-df-quickchart {\n",
              "      --bg-color: #E8F0FE;\n",
              "      --fill-color: #1967D2;\n",
              "      --hover-bg-color: #E2EBFA;\n",
              "      --hover-fill-color: #174EA6;\n",
              "      --disabled-fill-color: #AAA;\n",
              "      --disabled-bg-color: #DDD;\n",
              "  }\n",
              "\n",
              "  [theme=dark] .colab-df-quickchart {\n",
              "      --bg-color: #3B4455;\n",
              "      --fill-color: #D2E3FC;\n",
              "      --hover-bg-color: #434B5C;\n",
              "      --hover-fill-color: #FFFFFF;\n",
              "      --disabled-bg-color: #3B4455;\n",
              "      --disabled-fill-color: #666;\n",
              "  }\n",
              "\n",
              "  .colab-df-quickchart {\n",
              "    background-color: var(--bg-color);\n",
              "    border: none;\n",
              "    border-radius: 50%;\n",
              "    cursor: pointer;\n",
              "    display: none;\n",
              "    fill: var(--fill-color);\n",
              "    height: 32px;\n",
              "    padding: 0;\n",
              "    width: 32px;\n",
              "  }\n",
              "\n",
              "  .colab-df-quickchart:hover {\n",
              "    background-color: var(--hover-bg-color);\n",
              "    box-shadow: 0 1px 2px rgba(60, 64, 67, 0.3), 0 1px 3px 1px rgba(60, 64, 67, 0.15);\n",
              "    fill: var(--button-hover-fill-color);\n",
              "  }\n",
              "\n",
              "  .colab-df-quickchart-complete:disabled,\n",
              "  .colab-df-quickchart-complete:disabled:hover {\n",
              "    background-color: var(--disabled-bg-color);\n",
              "    fill: var(--disabled-fill-color);\n",
              "    box-shadow: none;\n",
              "  }\n",
              "\n",
              "  .colab-df-spinner {\n",
              "    border: 2px solid var(--fill-color);\n",
              "    border-color: transparent;\n",
              "    border-bottom-color: var(--fill-color);\n",
              "    animation:\n",
              "      spin 1s steps(1) infinite;\n",
              "  }\n",
              "\n",
              "  @keyframes spin {\n",
              "    0% {\n",
              "      border-color: transparent;\n",
              "      border-bottom-color: var(--fill-color);\n",
              "      border-left-color: var(--fill-color);\n",
              "    }\n",
              "    20% {\n",
              "      border-color: transparent;\n",
              "      border-left-color: var(--fill-color);\n",
              "      border-top-color: var(--fill-color);\n",
              "    }\n",
              "    30% {\n",
              "      border-color: transparent;\n",
              "      border-left-color: var(--fill-color);\n",
              "      border-top-color: var(--fill-color);\n",
              "      border-right-color: var(--fill-color);\n",
              "    }\n",
              "    40% {\n",
              "      border-color: transparent;\n",
              "      border-right-color: var(--fill-color);\n",
              "      border-top-color: var(--fill-color);\n",
              "    }\n",
              "    60% {\n",
              "      border-color: transparent;\n",
              "      border-right-color: var(--fill-color);\n",
              "    }\n",
              "    80% {\n",
              "      border-color: transparent;\n",
              "      border-right-color: var(--fill-color);\n",
              "      border-bottom-color: var(--fill-color);\n",
              "    }\n",
              "    90% {\n",
              "      border-color: transparent;\n",
              "      border-bottom-color: var(--fill-color);\n",
              "    }\n",
              "  }\n",
              "</style>\n",
              "\n",
              "  <script>\n",
              "    async function quickchart(key) {\n",
              "      const quickchartButtonEl =\n",
              "        document.querySelector('#' + key + ' button');\n",
              "      quickchartButtonEl.disabled = true;  // To prevent multiple clicks.\n",
              "      quickchartButtonEl.classList.add('colab-df-spinner');\n",
              "      try {\n",
              "        const charts = await google.colab.kernel.invokeFunction(\n",
              "            'suggestCharts', [key], {});\n",
              "      } catch (error) {\n",
              "        console.error('Error during call to suggestCharts:', error);\n",
              "      }\n",
              "      quickchartButtonEl.classList.remove('colab-df-spinner');\n",
              "      quickchartButtonEl.classList.add('colab-df-quickchart-complete');\n",
              "    }\n",
              "    (() => {\n",
              "      let quickchartButtonEl =\n",
              "        document.querySelector('#df-96f5260b-dd1b-41fc-b5f8-14da78321c77 button');\n",
              "      quickchartButtonEl.style.display =\n",
              "        google.colab.kernel.accessAllowed ? 'block' : 'none';\n",
              "    })();\n",
              "  </script>\n",
              "</div>\n",
              "\n",
              "    </div>\n",
              "  </div>\n"
            ],
            "application/vnd.google.colaboratory.intrinsic+json": {
              "type": "dataframe",
              "summary": "{\n  \"name\": \"pd\",\n  \"rows\": 10,\n  \"fields\": [\n    {\n      \"column\": \"label\",\n      \"properties\": {\n        \"dtype\": \"uint8\",\n        \"num_unique_values\": 10,\n        \"samples\": [\n          8,\n          1,\n          5\n        ],\n        \"semantic_type\": \"\",\n        \"description\": \"\"\n      }\n    },\n    {\n      \"column\": 0,\n      \"properties\": {\n        \"dtype\": \"number\",\n        \"std\": 273,\n        \"min\": 0,\n        \"max\": 875,\n        \"num_unique_values\": 7,\n        \"samples\": [\n          875,\n          2,\n          0\n        ],\n        \"semantic_type\": \"\",\n        \"description\": \"\"\n      }\n    },\n    {\n      \"column\": 1,\n      \"properties\": {\n        \"dtype\": \"number\",\n        \"std\": 309,\n        \"min\": 0,\n        \"max\": 980,\n        \"num_unique_values\": 4,\n        \"samples\": [\n          980,\n          3,\n          1\n        ],\n        \"semantic_type\": \"\",\n        \"description\": \"\"\n      }\n    },\n    {\n      \"column\": 2,\n      \"properties\": {\n        \"dtype\": \"number\",\n        \"std\": 262,\n        \"min\": 0,\n        \"max\": 844,\n        \"num_unique_values\": 8,\n        \"samples\": [\n          1,\n          0,\n          16\n        ],\n        \"semantic_type\": \"\",\n        \"description\": \"\"\n      }\n    },\n    {\n      \"column\": 3,\n      \"properties\": {\n        \"dtype\": \"number\",\n        \"std\": 286,\n        \"min\": 0,\n        \"max\": 917,\n        \"num_unique_values\": 8,\n        \"samples\": [\n          13,\n          0,\n          12\n        ],\n        \"semantic_type\": \"\",\n        \"description\": \"\"\n      }\n    },\n    {\n      \"column\": 4,\n      \"properties\": {\n        \"dtype\": \"number\",\n        \"std\": 258,\n        \"min\": 0,\n        \"max\": 832,\n        \"num_unique_values\": 8,\n        \"samples\": [\n          1,\n          0,\n          2\n        ],\n        \"semantic_type\": \"\",\n        \"description\": \"\"\n      }\n    },\n    {\n      \"column\": 5,\n      \"properties\": {\n        \"dtype\": \"number\",\n        \"std\": 302,\n        \"min\": 0,\n        \"max\": 958,\n        \"num_unique_values\": 5,\n        \"samples\": [\n          958,\n          2,\n          4\n        ],\n        \"semantic_type\": \"\",\n        \"description\": \"\"\n      }\n    },\n    {\n      \"column\": 6,\n      \"properties\": {\n        \"dtype\": \"number\",\n        \"std\": 219,\n        \"min\": 0,\n        \"max\": 711,\n        \"num_unique_values\": 9,\n        \"samples\": [\n          4,\n          2,\n          0\n        ],\n        \"semantic_type\": \"\",\n        \"description\": \"\"\n      }\n    },\n    {\n      \"column\": 7,\n      \"properties\": {\n        \"dtype\": \"number\",\n        \"std\": 307,\n        \"min\": 0,\n        \"max\": 979,\n        \"num_unique_values\": 5,\n        \"samples\": [\n          25,\n          30,\n          979\n        ],\n        \"semantic_type\": \"\",\n        \"description\": \"\"\n      }\n    },\n    {\n      \"column\": 8,\n      \"properties\": {\n        \"dtype\": \"number\",\n        \"std\": 308,\n        \"min\": 0,\n        \"max\": 979,\n        \"num_unique_values\": 5,\n        \"samples\": [\n          1,\n          979,\n          5\n        ],\n        \"semantic_type\": \"\",\n        \"description\": \"\"\n      }\n    },\n    {\n      \"column\": 9,\n      \"properties\": {\n        \"dtype\": \"number\",\n        \"std\": 304,\n        \"min\": 0,\n        \"max\": 967,\n        \"num_unique_values\": 4,\n        \"samples\": [\n          16,\n          967,\n          0\n        ],\n        \"semantic_type\": \"\",\n        \"description\": \"\"\n      }\n    }\n  ]\n}"
            }
          },
          "metadata": {},
          "execution_count": 24
        }
      ]
    },
    {
      "cell_type": "markdown",
      "source": [
        "## 九、儲存完整模型"
      ],
      "metadata": {
        "id": "m77LyvZ6-t27"
      }
    },
    {
      "cell_type": "code",
      "source": [
        "from google.colab import drive\n",
        "drive.mount('/content/drive')"
      ],
      "metadata": {
        "colab": {
          "base_uri": "https://localhost:8080/"
        },
        "id": "G9UomBLNgbzh",
        "outputId": "ad4885e0-ffe7-49ae-da58-d7547f496a3f"
      },
      "execution_count": 25,
      "outputs": [
        {
          "output_type": "stream",
          "name": "stdout",
          "text": [
            "Mounted at /content/drive\n"
          ]
        }
      ]
    },
    {
      "cell_type": "code",
      "source": [
        "%cd /content/drive/MyDrive/Colab Notebooks/"
      ],
      "metadata": {
        "id": "K3BCKD8DgmfH",
        "colab": {
          "base_uri": "https://localhost:8080/"
        },
        "outputId": "c173b0c2-7a9c-4c41-b796-a8ba8e22041d"
      },
      "execution_count": 26,
      "outputs": [
        {
          "output_type": "stream",
          "name": "stdout",
          "text": [
            "/content/drive/MyDrive/Colab Notebooks\n"
          ]
        }
      ]
    },
    {
      "cell_type": "code",
      "source": [
        "model.save('fashion_mnist_model.keras')"
      ],
      "metadata": {
        "id": "Rmw4tXGh-xha"
      },
      "execution_count": 27,
      "outputs": []
    }
  ]
}