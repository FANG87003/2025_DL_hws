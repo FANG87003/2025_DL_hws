{
  "cells": [
    {
      "cell_type": "markdown",
      "metadata": {
        "id": "view-in-github",
        "colab_type": "text"
      },
      "source": [
        "<a href=\"https://colab.research.google.com/github/FANG87003/2025_DL_hws/blob/main/hw6-2.ipynb\" target=\"_parent\"><img src=\"https://colab.research.google.com/assets/colab-badge.svg\" alt=\"Open In Colab\"/></a>"
      ]
    },
    {
      "cell_type": "markdown",
      "source": [
        "# 113-2 深度學習 作業 6-2"
      ],
      "metadata": {
        "id": "rxICgsYOgDBi"
      },
      "id": "rxICgsYOgDBi"
    },
    {
      "cell_type": "markdown",
      "source": [
        "## 載入套件"
      ],
      "metadata": {
        "id": "usdVDXmLgG43"
      },
      "id": "usdVDXmLgG43"
    },
    {
      "cell_type": "code",
      "execution_count": 59,
      "id": "bf7586ff",
      "metadata": {
        "id": "bf7586ff"
      },
      "outputs": [],
      "source": [
        "import numpy as np"
      ]
    },
    {
      "cell_type": "markdown",
      "source": [
        "## 輸入"
      ],
      "metadata": {
        "id": "gUSR8jJLrcOm"
      },
      "id": "gUSR8jJLrcOm"
    },
    {
      "cell_type": "code",
      "execution_count": 60,
      "id": "7bc3ccd8",
      "metadata": {
        "id": "7bc3ccd8"
      },
      "outputs": [],
      "source": [
        "x1 = np.array([0.1, 0.2, 0.3])\n",
        "x2 = np.array([0.4, 0.1, 0.5])\n",
        "x3 = np.array([0.6, 0.2, 0.1])"
      ]
    },
    {
      "cell_type": "markdown",
      "source": [
        "## 權重 & 偏值"
      ],
      "metadata": {
        "id": "71V3NwXIrnaW"
      },
      "id": "71V3NwXIrnaW"
    },
    {
      "cell_type": "code",
      "execution_count": 61,
      "id": "431327bb",
      "metadata": {
        "id": "431327bb"
      },
      "outputs": [],
      "source": [
        "Wx = np.array([[0.5, 0.3, 0.2, 0.3],\n",
        "        [0.9, 0.6, 0.4, 0.8],\n",
        "        [0.2, 0.8, 0.3, 0.1]])\n",
        "\n",
        "Wh = np.array([[0.2, 0.4, 0.6, 0.8],\n",
        "        [0.8, 0.1, 0.7, 0.8],\n",
        "        [0.3, 0.5, 0.7, 0.6],\n",
        "        [0.4, 0.5, 0.6, 0.5]])\n",
        "\n",
        "b = np.array([0.3, 0.6, 0.5, 0.8])"
      ]
    },
    {
      "cell_type": "markdown",
      "source": [
        "## 起始隱藏狀態為零向量"
      ],
      "metadata": {
        "id": "orkA4wGmr0N6"
      },
      "id": "orkA4wGmr0N6"
    },
    {
      "cell_type": "code",
      "execution_count": 62,
      "id": "946c70d4",
      "metadata": {
        "id": "946c70d4"
      },
      "outputs": [],
      "source": [
        "h0 = np.array([0, 0, 0, 0])"
      ]
    },
    {
      "cell_type": "markdown",
      "source": [
        "## 定義 RNN 隱藏狀態計算函數"
      ],
      "metadata": {
        "id": "KUegl4oJsKvN"
      },
      "id": "KUegl4oJsKvN"
    },
    {
      "cell_type": "code",
      "execution_count": 63,
      "id": "c9fd066a",
      "metadata": {
        "id": "c9fd066a"
      },
      "outputs": [],
      "source": [
        "def rnn(x_t, h_t):\n",
        "  return np.tanh(np.dot(x_t, Wx) + np.dot(h_t, Wh) + b)"
      ]
    },
    {
      "cell_type": "markdown",
      "source": [
        "## 計算 h1"
      ],
      "metadata": {
        "id": "YMaqOp6HpTXH"
      },
      "id": "YMaqOp6HpTXH"
    },
    {
      "cell_type": "code",
      "execution_count": 64,
      "id": "f5ae571b",
      "metadata": {
        "colab": {
          "base_uri": "https://localhost:8080/"
        },
        "id": "f5ae571b",
        "outputId": "8f9e67f0-386c-4173-fd3d-26b569829712"
      },
      "outputs": [
        {
          "output_type": "stream",
          "name": "stdout",
          "text": [
            "h1 = [0.52989561 0.75736232 0.597982   0.76986654]\n"
          ]
        }
      ],
      "source": [
        "h1 = rnn(x1, h0)\n",
        "print(f'h1 = {h1}')"
      ]
    },
    {
      "cell_type": "markdown",
      "source": [
        "## 計算 h2"
      ],
      "metadata": {
        "id": "gIqx5daipSSx"
      },
      "id": "gIqx5daipSSx"
    },
    {
      "cell_type": "code",
      "execution_count": 65,
      "id": "a3db2186",
      "metadata": {
        "colab": {
          "base_uri": "https://localhost:8080/"
        },
        "id": "a3db2186",
        "outputId": "6240bd14-9e53-4857-805e-44b32925b07a"
      },
      "outputs": [
        {
          "output_type": "stream",
          "name": "stdout",
          "text": [
            "h1 = [0.95530415 0.97331155 0.98657697 0.99296904]\n"
          ]
        }
      ],
      "source": [
        "h2 = rnn(x2, h1)\n",
        "print(f'h1 = {h2}')"
      ]
    },
    {
      "cell_type": "markdown",
      "source": [
        "## 計算 h3"
      ],
      "metadata": {
        "id": "YncNqNvrpQMD"
      },
      "id": "YncNqNvrpQMD"
    },
    {
      "cell_type": "code",
      "execution_count": 66,
      "id": "4f7019d1",
      "metadata": {
        "colab": {
          "base_uri": "https://localhost:8080/"
        },
        "id": "4f7019d1",
        "outputId": "c2aaa1ca-cdb3-487a-bc81-895c41fb5345"
      },
      "outputs": [
        {
          "output_type": "stream",
          "name": "stdout",
          "text": [
            "h1 = [0.98558989 0.98519418 0.99712029 0.99896154]\n"
          ]
        }
      ],
      "source": [
        "h3 = rnn(x3, h2)\n",
        "print(f'h1 = {h3}')"
      ]
    }
  ],
  "metadata": {
    "colab": {
      "provenance": [],
      "toc_visible": true,
      "include_colab_link": true
    },
    "language_info": {
      "name": "python"
    },
    "kernelspec": {
      "name": "python3",
      "display_name": "Python 3"
    }
  },
  "nbformat": 4,
  "nbformat_minor": 5
}