{
  "cells": [
    {
      "cell_type": "markdown",
      "metadata": {
        "id": "view-in-github",
        "colab_type": "text"
      },
      "source": [
        "<a href=\"https://colab.research.google.com/github/FANG87003/2025_DL_hws/blob/main/hw6-2.ipynb\" target=\"_parent\"><img src=\"https://colab.research.google.com/assets/colab-badge.svg\" alt=\"Open In Colab\"/></a>"
      ]
    },
    {
      "cell_type": "markdown",
      "source": [
        "# 113-2 深度學習 作業 6-2"
      ],
      "metadata": {
        "id": "rxICgsYOgDBi"
      },
      "id": "rxICgsYOgDBi"
    },
    {
      "cell_type": "markdown",
      "source": [
        "# 2.請完成課本冒險旅程 26 第 1, 2 題\n"
      ],
      "metadata": {
        "id": "LDMlPEvHxWNa"
      },
      "id": "LDMlPEvHxWNa"
    },
    {
      "cell_type": "markdown",
      "source": [
        "## 載入套件"
      ],
      "metadata": {
        "id": "usdVDXmLgG43"
      },
      "id": "usdVDXmLgG43"
    },
    {
      "cell_type": "code",
      "execution_count": 76,
      "id": "bf7586ff",
      "metadata": {
        "id": "bf7586ff"
      },
      "outputs": [],
      "source": [
        "import numpy as np"
      ]
    },
    {
      "cell_type": "markdown",
      "source": [
        "## 輸入"
      ],
      "metadata": {
        "id": "gUSR8jJLrcOm"
      },
      "id": "gUSR8jJLrcOm"
    },
    {
      "cell_type": "code",
      "execution_count": 77,
      "id": "7bc3ccd8",
      "metadata": {
        "id": "7bc3ccd8"
      },
      "outputs": [],
      "source": [
        "x1 = np.array([0.1, 0.2, 0.3])\n",
        "x2 = np.array([0.4, 0.1, 0.5])\n",
        "x3 = np.array([0.6, 0.2, 0.1])"
      ]
    },
    {
      "cell_type": "markdown",
      "source": [
        "## 權重 & 偏值"
      ],
      "metadata": {
        "id": "71V3NwXIrnaW"
      },
      "id": "71V3NwXIrnaW"
    },
    {
      "cell_type": "code",
      "execution_count": 78,
      "id": "431327bb",
      "metadata": {
        "id": "431327bb"
      },
      "outputs": [],
      "source": [
        "Wx = np.array([[0.5, 0.3, 0.2, 0.3],\n",
        "        [0.9, 0.6, 0.4, 0.8],\n",
        "        [0.2, 0.8, 0.3, 0.1]])\n",
        "\n",
        "Wh = np.array([[0.2, 0.4, 0.6, 0.8],\n",
        "        [0.8, 0.1, 0.7, 0.8],\n",
        "        [0.3, 0.5, 0.7, 0.6],\n",
        "        [0.4, 0.5, 0.6, 0.5]])\n",
        "\n",
        "b = np.array([0.3, 0.6, 0.5, 0.8])"
      ]
    },
    {
      "cell_type": "markdown",
      "source": [
        "## 起始隱藏狀態為零向量"
      ],
      "metadata": {
        "id": "orkA4wGmr0N6"
      },
      "id": "orkA4wGmr0N6"
    },
    {
      "cell_type": "code",
      "execution_count": 79,
      "id": "946c70d4",
      "metadata": {
        "id": "946c70d4"
      },
      "outputs": [],
      "source": [
        "h0 = np.array([0, 0, 0, 0])"
      ]
    },
    {
      "cell_type": "markdown",
      "source": [
        "## 定義 RNN 隱藏狀態計算函數"
      ],
      "metadata": {
        "id": "KUegl4oJsKvN"
      },
      "id": "KUegl4oJsKvN"
    },
    {
      "cell_type": "code",
      "execution_count": 80,
      "id": "c9fd066a",
      "metadata": {
        "id": "c9fd066a"
      },
      "outputs": [],
      "source": [
        "def rnn(x_t, h_t):\n",
        "  return np.tanh(np.dot(x_t, Wx) + np.dot(h_t, Wh) + b)"
      ]
    },
    {
      "cell_type": "markdown",
      "source": [
        "## 計算 h1"
      ],
      "metadata": {
        "id": "YMaqOp6HpTXH"
      },
      "id": "YMaqOp6HpTXH"
    },
    {
      "cell_type": "code",
      "execution_count": 81,
      "id": "f5ae571b",
      "metadata": {
        "colab": {
          "base_uri": "https://localhost:8080/"
        },
        "id": "f5ae571b",
        "outputId": "a15dbd86-3223-415e-9b0a-befa763aa30e"
      },
      "outputs": [
        {
          "output_type": "stream",
          "name": "stdout",
          "text": [
            "h1 = [0.52989561 0.75736232 0.597982   0.76986654]\n"
          ]
        }
      ],
      "source": [
        "h1 = rnn(x1, h0)\n",
        "print(f'h1 = {h1}')"
      ]
    },
    {
      "cell_type": "markdown",
      "source": [
        "## 計算 h2"
      ],
      "metadata": {
        "id": "gIqx5daipSSx"
      },
      "id": "gIqx5daipSSx"
    },
    {
      "cell_type": "code",
      "execution_count": 82,
      "id": "a3db2186",
      "metadata": {
        "colab": {
          "base_uri": "https://localhost:8080/"
        },
        "id": "a3db2186",
        "outputId": "3ab07b60-f014-4589-88a9-9bc2035bd3e7"
      },
      "outputs": [
        {
          "output_type": "stream",
          "name": "stdout",
          "text": [
            "h2 = [0.95530415 0.97331155 0.98657697 0.99296904]\n"
          ]
        }
      ],
      "source": [
        "h2 = rnn(x2, h1)\n",
        "print(f'h2 = {h2}')"
      ]
    },
    {
      "cell_type": "markdown",
      "source": [
        "## 計算 h3"
      ],
      "metadata": {
        "id": "YncNqNvrpQMD"
      },
      "id": "YncNqNvrpQMD"
    },
    {
      "cell_type": "code",
      "execution_count": 83,
      "id": "4f7019d1",
      "metadata": {
        "colab": {
          "base_uri": "https://localhost:8080/"
        },
        "id": "4f7019d1",
        "outputId": "c859972a-7eac-429a-fbd1-e0df4e8073c2"
      },
      "outputs": [
        {
          "output_type": "stream",
          "name": "stdout",
          "text": [
            "h3 = [0.98558989 0.98519418 0.99712029 0.99896154]\n"
          ]
        }
      ],
      "source": [
        "h3 = rnn(x3, h2)\n",
        "print(f'h3 = {h3}')"
      ]
    },
    {
      "cell_type": "markdown",
      "source": [
        "# 3.續上一題，假設 x1、x2、x3 為 Encoder (冒險 26) 時期所輸入的三個字，假設目前在 Decoder 時期 t=3 的時間點，且 S3 = [2, 5, 3, 1] (Querry 向量)"
      ],
      "metadata": {
        "id": "Ceglk8Vpxrqf"
      },
      "id": "Ceglk8Vpxrqf"
    },
    {
      "cell_type": "markdown",
      "source": [
        "# 計算注意力強度"
      ],
      "metadata": {
        "id": "sp5oSjVq_pHc"
      },
      "id": "sp5oSjVq_pHc"
    },
    {
      "cell_type": "code",
      "source": [
        "import numpy as np\n",
        "\n",
        "S3 = np.array([2, 5, 3, 1])\n",
        "\n",
        "e1 = np.dot(S3, h1)\n",
        "e2 = np.dot(S3, h2)\n",
        "e3 = np.dot(S3, h3)\n",
        "\n",
        "e = np.array([e1, e2, e3])\n",
        "print(f'e = {e}')"
      ],
      "metadata": {
        "colab": {
          "base_uri": "https://localhost:8080/"
        },
        "id": "9hl6qvmOyFon",
        "outputId": "58253f96-2481-4352-b53a-e89530612f0e"
      },
      "id": "9hl6qvmOyFon",
      "execution_count": 98,
      "outputs": [
        {
          "output_type": "stream",
          "name": "stdout",
          "text": [
            "e = [ 7.41041537 10.72986601 10.8874731 ]\n"
          ]
        }
      ]
    },
    {
      "cell_type": "markdown",
      "source": [
        "## 定義 softmax 函數"
      ],
      "metadata": {
        "id": "Ftwxa5jl_tbN"
      },
      "id": "Ftwxa5jl_tbN"
    },
    {
      "cell_type": "code",
      "source": [
        "def softmax(x):\n",
        "  c=np.max(x)\n",
        "  x = x - c\n",
        "  return np.exp(x) / np.sum(np.exp(x))"
      ],
      "metadata": {
        "id": "aZfjfqX52E1i"
      },
      "id": "aZfjfqX52E1i",
      "execution_count": 99,
      "outputs": []
    },
    {
      "cell_type": "markdown",
      "source": [
        "## 注意力大小轉換"
      ],
      "metadata": {
        "id": "3_wO4RVsAJft"
      },
      "id": "3_wO4RVsAJft"
    },
    {
      "cell_type": "code",
      "source": [
        "alpha = softmax(e)\n",
        "print(f'alpha = {alpha}')"
      ],
      "metadata": {
        "colab": {
          "base_uri": "https://localhost:8080/"
        },
        "id": "WS59M7Qa2K5h",
        "outputId": "d1b9ed0a-09c4-4595-bb62-5361d71b2d63"
      },
      "id": "WS59M7Qa2K5h",
      "execution_count": 100,
      "outputs": [
        {
          "output_type": "stream",
          "name": "stdout",
          "text": [
            "alpha = [0.01639089 0.45312864 0.53048047]\n"
          ]
        }
      ]
    },
    {
      "cell_type": "markdown",
      "source": [
        "## 計算 c3"
      ],
      "metadata": {
        "id": "L1WOkASiAQ3K"
      },
      "id": "L1WOkASiAQ3K"
    },
    {
      "cell_type": "code",
      "source": [
        "c3 = alpha[0]*h1 + alpha[1]*h2 + alpha[2]*h3\n",
        "print(f'c3 = {c3}')"
      ],
      "metadata": {
        "colab": {
          "base_uri": "https://localhost:8080/"
        },
        "id": "yGRsQNpnAPEH",
        "outputId": "096084a5-7ce5-4090-f4c9-63535f9b78fc"
      },
      "id": "yGRsQNpnAPEH",
      "execution_count": 101,
      "outputs": [
        {
          "output_type": "stream",
          "name": "stdout",
          "text": [
            "c3 = [0.96439732 0.97607545 0.98580058 0.9924911 ]\n"
          ]
        }
      ]
    }
  ],
  "metadata": {
    "colab": {
      "provenance": [],
      "toc_visible": true,
      "include_colab_link": true
    },
    "language_info": {
      "name": "python"
    },
    "kernelspec": {
      "name": "python3",
      "display_name": "Python 3"
    }
  },
  "nbformat": 4,
  "nbformat_minor": 5
}