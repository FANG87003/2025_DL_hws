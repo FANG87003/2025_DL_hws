{
  "cells": [
    {
      "cell_type": "markdown",
      "metadata": {
        "id": "view-in-github",
        "colab_type": "text"
      },
      "source": [
        "<a href=\"https://colab.research.google.com/github/FANG87003/2025_DL_hws/blob/main/hw6-2.ipynb\" target=\"_parent\"><img src=\"https://colab.research.google.com/assets/colab-badge.svg\" alt=\"Open In Colab\"/></a>"
      ]
    },
    {
      "cell_type": "markdown",
      "source": [
        "# 113-2 深度學習 作業 6-2"
      ],
      "metadata": {
        "id": "rxICgsYOgDBi"
      },
      "id": "rxICgsYOgDBi"
    },
    {
      "cell_type": "markdown",
      "source": [
        "# 2.請完成課本冒險旅程 26 第 1, 2 題\n"
      ],
      "metadata": {
        "id": "LDMlPEvHxWNa"
      },
      "id": "LDMlPEvHxWNa"
    },
    {
      "cell_type": "markdown",
      "source": [
        "## 載入套件"
      ],
      "metadata": {
        "id": "usdVDXmLgG43"
      },
      "id": "usdVDXmLgG43"
    },
    {
      "cell_type": "code",
      "execution_count": 1,
      "id": "bf7586ff",
      "metadata": {
        "id": "bf7586ff"
      },
      "outputs": [],
      "source": [
        "import numpy as np"
      ]
    },
    {
      "cell_type": "markdown",
      "source": [
        "## 輸入"
      ],
      "metadata": {
        "id": "gUSR8jJLrcOm"
      },
      "id": "gUSR8jJLrcOm"
    },
    {
      "cell_type": "code",
      "execution_count": 2,
      "id": "7bc3ccd8",
      "metadata": {
        "id": "7bc3ccd8"
      },
      "outputs": [],
      "source": [
        "x1 = np.array([0.1, 0.2, 0.3])\n",
        "x2 = np.array([0.4, 0.1, 0.5])\n",
        "x3 = np.array([0.6, 0.2, 0.1])"
      ]
    },
    {
      "cell_type": "markdown",
      "source": [
        "## 權重 & 偏值"
      ],
      "metadata": {
        "id": "71V3NwXIrnaW"
      },
      "id": "71V3NwXIrnaW"
    },
    {
      "cell_type": "code",
      "execution_count": 3,
      "id": "431327bb",
      "metadata": {
        "id": "431327bb"
      },
      "outputs": [],
      "source": [
        "Wx = np.array([[0.5, 0.3, 0.2, 0.3],\n",
        "        [0.9, 0.6, 0.4, 0.8],\n",
        "        [0.2, 0.8, 0.3, 0.1]])\n",
        "\n",
        "Wh = np.array([[0.2, 0.4, 0.6, 0.8],\n",
        "        [0.8, 0.1, 0.7, 0.8],\n",
        "        [0.3, 0.5, 0.7, 0.6],\n",
        "        [0.4, 0.5, 0.6, 0.5]])\n",
        "\n",
        "b = np.array([0.3, 0.6, 0.5, 0.8])"
      ]
    },
    {
      "cell_type": "markdown",
      "source": [
        "## 起始隱藏狀態為零向量"
      ],
      "metadata": {
        "id": "orkA4wGmr0N6"
      },
      "id": "orkA4wGmr0N6"
    },
    {
      "cell_type": "code",
      "execution_count": 4,
      "id": "946c70d4",
      "metadata": {
        "id": "946c70d4"
      },
      "outputs": [],
      "source": [
        "h0 = np.array([0, 0, 0, 0])"
      ]
    },
    {
      "cell_type": "markdown",
      "source": [
        "## 定義 RNN 隱藏狀態計算函數"
      ],
      "metadata": {
        "id": "KUegl4oJsKvN"
      },
      "id": "KUegl4oJsKvN"
    },
    {
      "cell_type": "code",
      "execution_count": 5,
      "id": "c9fd066a",
      "metadata": {
        "id": "c9fd066a"
      },
      "outputs": [],
      "source": [
        "def rnn(x_t, h_t):\n",
        "  return np.tanh(np.dot(x_t, Wx) + np.dot(h_t, Wh) + b)"
      ]
    },
    {
      "cell_type": "markdown",
      "source": [
        "## 計算 h1"
      ],
      "metadata": {
        "id": "YMaqOp6HpTXH"
      },
      "id": "YMaqOp6HpTXH"
    },
    {
      "cell_type": "code",
      "execution_count": 6,
      "id": "f5ae571b",
      "metadata": {
        "colab": {
          "base_uri": "https://localhost:8080/"
        },
        "id": "f5ae571b",
        "outputId": "737e3dc2-8fa6-4967-b027-c69426277aa6"
      },
      "outputs": [
        {
          "output_type": "stream",
          "name": "stdout",
          "text": [
            "h1 = [0.52989561 0.75736232 0.597982   0.76986654]\n"
          ]
        }
      ],
      "source": [
        "h1 = rnn(x1, h0)\n",
        "print(f'h1 = {h1}')"
      ]
    },
    {
      "cell_type": "markdown",
      "source": [
        "## 計算 h2"
      ],
      "metadata": {
        "id": "gIqx5daipSSx"
      },
      "id": "gIqx5daipSSx"
    },
    {
      "cell_type": "code",
      "execution_count": 7,
      "id": "a3db2186",
      "metadata": {
        "colab": {
          "base_uri": "https://localhost:8080/"
        },
        "id": "a3db2186",
        "outputId": "c942885c-d512-4f4a-d51d-3976e1c08d04"
      },
      "outputs": [
        {
          "output_type": "stream",
          "name": "stdout",
          "text": [
            "h2 = [0.95530415 0.97331155 0.98657697 0.99296904]\n"
          ]
        }
      ],
      "source": [
        "h2 = rnn(x2, h1)\n",
        "print(f'h2 = {h2}')"
      ]
    },
    {
      "cell_type": "markdown",
      "source": [
        "## 計算 h3"
      ],
      "metadata": {
        "id": "YncNqNvrpQMD"
      },
      "id": "YncNqNvrpQMD"
    },
    {
      "cell_type": "code",
      "execution_count": 8,
      "id": "4f7019d1",
      "metadata": {
        "colab": {
          "base_uri": "https://localhost:8080/"
        },
        "id": "4f7019d1",
        "outputId": "d7d9f687-f0bb-41cf-8a73-ade824cb8dd5"
      },
      "outputs": [
        {
          "output_type": "stream",
          "name": "stdout",
          "text": [
            "h3 = [0.98558989 0.98519418 0.99712029 0.99896154]\n"
          ]
        }
      ],
      "source": [
        "h3 = rnn(x3, h2)\n",
        "print(f'h3 = {h3}')"
      ]
    },
    {
      "cell_type": "markdown",
      "source": [
        "# 3.續上一題，假設 x1、x2、x3 為 Encoder (冒險 26) 時期所輸入的三個字，假設目前在 Decoder 時期 t=3 的時間點，且 S3 = [2, 5, 3, 1] (Querry 向量)"
      ],
      "metadata": {
        "id": "Ceglk8Vpxrqf"
      },
      "id": "Ceglk8Vpxrqf"
    },
    {
      "cell_type": "markdown",
      "source": [
        "## 計算注意力強度"
      ],
      "metadata": {
        "id": "sp5oSjVq_pHc"
      },
      "id": "sp5oSjVq_pHc"
    },
    {
      "cell_type": "code",
      "source": [
        "import numpy as np\n",
        "\n",
        "S3 = np.array([2, 5, 3, 1])\n",
        "\n",
        "e1 = np.dot(S3, h1)\n",
        "e2 = np.dot(S3, h2)\n",
        "e3 = np.dot(S3, h3)\n",
        "\n",
        "e = np.array([e1, e2, e3])\n",
        "print(f'e = {e}')"
      ],
      "metadata": {
        "colab": {
          "base_uri": "https://localhost:8080/"
        },
        "id": "9hl6qvmOyFon",
        "outputId": "8b71ff04-572d-4d7f-ee62-39951ec922bc"
      },
      "id": "9hl6qvmOyFon",
      "execution_count": 9,
      "outputs": [
        {
          "output_type": "stream",
          "name": "stdout",
          "text": [
            "e = [ 7.41041537 10.72986601 10.8874731 ]\n"
          ]
        }
      ]
    },
    {
      "cell_type": "markdown",
      "source": [
        "## 定義 softmax 函數"
      ],
      "metadata": {
        "id": "Ftwxa5jl_tbN"
      },
      "id": "Ftwxa5jl_tbN"
    },
    {
      "cell_type": "code",
      "source": [
        "def softmax(x):\n",
        "  c=np.max(x)\n",
        "  x = x - c\n",
        "  return np.exp(x) / np.sum(np.exp(x))"
      ],
      "metadata": {
        "id": "aZfjfqX52E1i"
      },
      "id": "aZfjfqX52E1i",
      "execution_count": 10,
      "outputs": []
    },
    {
      "cell_type": "markdown",
      "source": [
        "## 注意力大小轉換"
      ],
      "metadata": {
        "id": "3_wO4RVsAJft"
      },
      "id": "3_wO4RVsAJft"
    },
    {
      "cell_type": "code",
      "source": [
        "alpha = softmax(e)\n",
        "print(f'alpha = {alpha}')"
      ],
      "metadata": {
        "colab": {
          "base_uri": "https://localhost:8080/"
        },
        "id": "WS59M7Qa2K5h",
        "outputId": "b04ebfe8-ff35-4700-a84b-9dccf3280966"
      },
      "id": "WS59M7Qa2K5h",
      "execution_count": 11,
      "outputs": [
        {
          "output_type": "stream",
          "name": "stdout",
          "text": [
            "alpha = [0.01639089 0.45312864 0.53048047]\n"
          ]
        }
      ]
    },
    {
      "cell_type": "markdown",
      "source": [
        "## 計算 c3"
      ],
      "metadata": {
        "id": "L1WOkASiAQ3K"
      },
      "id": "L1WOkASiAQ3K"
    },
    {
      "cell_type": "code",
      "source": [
        "c3 = alpha[0]*h1 + alpha[1]*h2 + alpha[2]*h3\n",
        "print(f'c3 = {c3}')"
      ],
      "metadata": {
        "colab": {
          "base_uri": "https://localhost:8080/"
        },
        "id": "yGRsQNpnAPEH",
        "outputId": "7cd8c8cf-7864-477d-e05c-3947f463f7f1"
      },
      "id": "yGRsQNpnAPEH",
      "execution_count": 12,
      "outputs": [
        {
          "output_type": "stream",
          "name": "stdout",
          "text": [
            "c3 = [0.96439732 0.97607545 0.98580058 0.9924911 ]\n"
          ]
        }
      ]
    },
    {
      "cell_type": "markdown",
      "source": [
        "# 4.請完成課本冒險旅程 28 第 1, 2, 3 題"
      ],
      "metadata": {
        "id": "OvyP-rJFPcLs"
      },
      "id": "OvyP-rJFPcLs"
    },
    {
      "cell_type": "markdown",
      "source": [
        "## 建立輸入的向量及對應的矩陣"
      ],
      "metadata": {
        "id": "dxsC7PNLPqAM"
      },
      "id": "dxsC7PNLPqAM"
    },
    {
      "cell_type": "code",
      "source": [
        "import numpy as np\n",
        "\n",
        "# x1, x2, x3合併為一個輸入 X\n",
        "X = np.array([x1, x2, x3])\n",
        "print(f'X =\\n {X}')\n",
        "\n",
        "# 定義 WQ, WK, WV 權重矩陣\n",
        "WQ = np.array([[0, 0, 1],\n",
        "        [1, 0, 0],\n",
        "        [0, 0, 1]])\n",
        "\n",
        "WK = np.array([[1, 0, 1],\n",
        "        [0, 1, 1],\n",
        "        [0, 1, 0]])\n",
        "\n",
        "WV = np.array([[0, 2, 1],\n",
        "        [1, 0, 3],\n",
        "        [1, 0, 1]])"
      ],
      "metadata": {
        "colab": {
          "base_uri": "https://localhost:8080/"
        },
        "id": "6wRHo54NPqVm",
        "outputId": "2f78ae82-ac02-4a6c-c3ee-0c4af5d1f2c8"
      },
      "id": "6wRHo54NPqVm",
      "execution_count": 13,
      "outputs": [
        {
          "output_type": "stream",
          "name": "stdout",
          "text": [
            "X =\n",
            " [[0.1 0.2 0.3]\n",
            " [0.4 0.1 0.5]\n",
            " [0.6 0.2 0.1]]\n"
          ]
        }
      ]
    },
    {
      "cell_type": "markdown",
      "source": [
        "## 計算 Q, K, V"
      ],
      "metadata": {
        "id": "LKKmqxR_cQet"
      },
      "id": "LKKmqxR_cQet"
    },
    {
      "cell_type": "code",
      "source": [
        "Q = np.dot(X, WQ)\n",
        "K = np.dot(X, WK)\n",
        "V = np.dot(X, WV)\n",
        "\n",
        "print(f'Q =\\n {Q}')\n",
        "print(f'K =\\n {K}')\n",
        "print(f'V =\\n {V}')"
      ],
      "metadata": {
        "colab": {
          "base_uri": "https://localhost:8080/"
        },
        "id": "o75KWOILTK3b",
        "outputId": "47701d62-84b5-466b-9448-68a6beff7984"
      },
      "id": "o75KWOILTK3b",
      "execution_count": 14,
      "outputs": [
        {
          "output_type": "stream",
          "name": "stdout",
          "text": [
            "Q =\n",
            " [[0.2 0.  0.4]\n",
            " [0.1 0.  0.9]\n",
            " [0.2 0.  0.7]]\n",
            "K =\n",
            " [[0.1 0.5 0.3]\n",
            " [0.4 0.6 0.5]\n",
            " [0.6 0.3 0.8]]\n",
            "V =\n",
            " [[0.5 0.2 1. ]\n",
            " [0.6 0.8 1.2]\n",
            " [0.3 1.2 1.3]]\n"
          ]
        }
      ]
    },
    {
      "cell_type": "markdown",
      "source": [
        "## Attention(Q,K,V)\n"
      ],
      "metadata": {
        "id": "OYLcvgl3f1to"
      },
      "id": "OYLcvgl3f1to"
    },
    {
      "cell_type": "code",
      "source": [
        "d_k = K.shape[1]\n",
        "K_T = np.transpose(K)\n",
        "scores = np.dot(Q, K_T) / np.sqrt(d_k)\n",
        "\n",
        "# 每一列做 softmax\n",
        "weights = np.apply_along_axis(softmax, axis=1, arr=scores)\n",
        "\n",
        "# self-attention\n",
        "context = np.dot(weights, V)\n",
        "print(f'self-attention =\\n {context}')"
      ],
      "metadata": {
        "colab": {
          "base_uri": "https://localhost:8080/"
        },
        "id": "lH1tImGZb_i-",
        "outputId": "a6030245-5739-4d2a-c583-c24cf318419f"
      },
      "id": "lH1tImGZb_i-",
      "execution_count": 33,
      "outputs": [
        {
          "output_type": "stream",
          "name": "stdout",
          "text": [
            "self-attention =\n",
            " [[0.46046692 0.76200892 1.1752271 ]\n",
            " [0.45552503 0.78090496 1.18079022]\n",
            " [0.45697791 0.77621357 1.17942958]]\n"
          ]
        }
      ]
    },
    {
      "cell_type": "markdown",
      "source": [
        "## 驗證：計算 q1, k1, v1"
      ],
      "metadata": {
        "id": "4YvKRSD4zjDE"
      },
      "id": "4YvKRSD4zjDE"
    },
    {
      "cell_type": "code",
      "source": [
        "q1 = np.dot(X[0], WQ)\n",
        "k1 = np.dot(X[0], WK)\n",
        "v1 = np.dot(X[0], WV)\n",
        "\n",
        "print(f'Q第一列: {Q[0]}')\n",
        "print(f'q1: {q1}\\n')\n",
        "\n",
        "print(f'K第一列: {K[0]}')\n",
        "print(f'k1: {k1}\\n')\n",
        "\n",
        "print(f'V第一列: {V[0]}')\n",
        "print(f'v1: {v1}')"
      ],
      "metadata": {
        "colab": {
          "base_uri": "https://localhost:8080/"
        },
        "id": "yM-MnkazzQKJ",
        "outputId": "8bdb488b-a382-4685-8149-e1a1b0e0a5ad"
      },
      "id": "yM-MnkazzQKJ",
      "execution_count": 34,
      "outputs": [
        {
          "output_type": "stream",
          "name": "stdout",
          "text": [
            "Q第一列: [0.2 0.  0.4]\n",
            "q1: [0.2 0.  0.4]\n",
            "\n",
            "K第一列: [0.1 0.5 0.3]\n",
            "k1: [0.1 0.5 0.3]\n",
            "\n",
            "V第一列: [0.5 0.2 1. ]\n",
            "v1: [0.5 0.2 1. ]\n"
          ]
        }
      ]
    }
  ],
  "metadata": {
    "colab": {
      "provenance": [],
      "toc_visible": true,
      "include_colab_link": true
    },
    "language_info": {
      "name": "python"
    },
    "kernelspec": {
      "name": "python3",
      "display_name": "Python 3"
    }
  },
  "nbformat": 4,
  "nbformat_minor": 5
}